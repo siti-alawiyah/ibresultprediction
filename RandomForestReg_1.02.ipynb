{
  "nbformat": 4,
  "nbformat_minor": 0,
  "metadata": {
    "colab": {
      "name": "Linear Model",
      "provenance": [],
      "collapsed_sections": [],
      "include_colab_link": true
    },
    "kernelspec": {
      "name": "python3",
      "display_name": "Python 3"
    },
    "language_info": {
      "name": "python"
    }
  },
  "cells": [
    {
      "cell_type": "markdown",
      "metadata": {
        "id": "view-in-github",
        "colab_type": "text"
      },
      "source": [
        "<a href=\"https://colab.research.google.com/github/siti-alawiyah/ibresultprediction/blob/main/RandomForestReg_1.02.ipynb\" target=\"_parent\"><img src=\"https://colab.research.google.com/assets/colab-badge.svg\" alt=\"Open In Colab\"/></a>"
      ]
    },
    {
      "cell_type": "markdown",
      "source": [
        "# RandomForest Regressor"
      ],
      "metadata": {
        "id": "BGM06rrKOGKQ"
      }
    },
    {
      "cell_type": "code",
      "metadata": {
        "id": "uN6LipTY2xrC"
      },
      "source": [
        "# imports\n",
        "# ignore future warnings\n",
        "import warnings\n",
        "warnings.simplefilter(action='ignore', category=FutureWarning)\n",
        "\n",
        "# import libraries\n",
        "import pandas as pd\n",
        "import numpy as np\n",
        "import matplotlib.pyplot as plt\n",
        "\n",
        "\n",
        "from sklearn.preprocessing import StandardScaler\n",
        "from sklearn.model_selection import train_test_split, cross_val_score, GridSearchCV\n",
        "from sklearn.metrics import confusion_matrix, plot_confusion_matrix,make_scorer, r2_score, mean_squared_error\n",
        "from sklearn.pipeline import Pipeline\n",
        "from sklearn.ensemble import RandomForestRegressor\n",
        "from sklearn.datasets import make_regression\n",
        "from sklearn import metrics\n",
        "import pickle\n",
        "\n",
        "import statsmodels.api as sm\n",
        "from scipy import stats"
      ],
      "execution_count": 1,
      "outputs": []
    },
    {
      "cell_type": "code",
      "metadata": {
        "id": "ow9AnsRfoMQe"
      },
      "source": [
        "# links to dataset\n",
        "URL1 = \"https://raw.githubusercontent.com/siti-alawiyah/ibresultprediction/main/data/2020IB.csv\"\n",
        "URL2 = \"https://raw.githubusercontent.com/siti-alawiyah/ibresultprediction/main/data/2019IB.csv\"\n",
        "URL3 = \"https://raw.githubusercontent.com/siti-alawiyah/ibresultprediction/main/data/2018IB.csv\"   \n",
        "URL4 = \"https://raw.githubusercontent.com/siti-alawiyah/ibresultprediction/main/data/2017IB.csv\"      "
      ],
      "execution_count": 2,
      "outputs": []
    },
    {
      "cell_type": "code",
      "metadata": {
        "id": "4WcygR0d9QaI"
      },
      "source": [
        "# read the url for the datasets\n",
        "df20 = pd.read_csv(URL1)\n",
        "df19 = pd.read_csv(URL2)\n",
        "df18 = pd.read_csv(URL3)\n",
        "df17 = pd.read_csv(URL4)"
      ],
      "execution_count": 3,
      "outputs": []
    },
    {
      "cell_type": "code",
      "metadata": {
        "id": "Ffrhg1IwoMXh"
      },
      "source": [
        "# getting the columns prior for modelling\n",
        "col_name = [\"Ma Std\",\"Ma Teacher\",\"Ma ATL\",\"Ma Compl. Of Work\",\"Ma Sub Achievement\",\"Predicted Grade\",\"Actual Grade\",\"Scaled Total\"]\n",
        "\n",
        "df20 = df20[col_name]\n",
        "df19 = df19[col_name]\n",
        "df18 = df18[col_name]\n",
        "df17 = df17[col_name]"
      ],
      "execution_count": 4,
      "outputs": []
    },
    {
      "cell_type": "code",
      "metadata": {
        "id": "q-hFcORpoMaP"
      },
      "source": [
        "# combine the dataframes into 1 before modelling\n",
        "frames = [df20,df19,df18,df17]\n",
        "df = pd.concat(frames)"
      ],
      "execution_count": 5,
      "outputs": []
    },
    {
      "cell_type": "code",
      "metadata": {
        "colab": {
          "base_uri": "https://localhost:8080/"
        },
        "id": "hj3w_HjEoMdA",
        "outputId": "2c471eeb-2560-46ca-f90e-c91da8b5f3be"
      },
      "source": [
        "df.info()"
      ],
      "execution_count": 6,
      "outputs": [
        {
          "output_type": "stream",
          "name": "stdout",
          "text": [
            "<class 'pandas.core.frame.DataFrame'>\n",
            "Int64Index: 681 entries, 0 to 177\n",
            "Data columns (total 8 columns):\n",
            " #   Column              Non-Null Count  Dtype  \n",
            "---  ------              --------------  -----  \n",
            " 0   Ma Std              657 non-null    object \n",
            " 1   Ma Teacher          657 non-null    object \n",
            " 2   Ma ATL              657 non-null    float64\n",
            " 3   Ma Compl. Of Work   654 non-null    float64\n",
            " 4   Ma Sub Achievement  657 non-null    float64\n",
            " 5   Predicted Grade     654 non-null    float64\n",
            " 6   Actual Grade        652 non-null    float64\n",
            " 7   Scaled Total        653 non-null    float64\n",
            "dtypes: float64(6), object(2)\n",
            "memory usage: 47.9+ KB\n"
          ]
        }
      ]
    },
    {
      "cell_type": "code",
      "metadata": {
        "colab": {
          "base_uri": "https://localhost:8080/"
        },
        "id": "5oZJydJUoMfZ",
        "outputId": "88c005c9-595a-4dc4-cdc5-f2ed2b8a2ef2"
      },
      "source": [
        "df.isnull().sum()"
      ],
      "execution_count": 7,
      "outputs": [
        {
          "output_type": "execute_result",
          "data": {
            "text/plain": [
              "Ma Std                24\n",
              "Ma Teacher            24\n",
              "Ma ATL                24\n",
              "Ma Compl. Of Work     27\n",
              "Ma Sub Achievement    24\n",
              "Predicted Grade       27\n",
              "Actual Grade          29\n",
              "Scaled Total          28\n",
              "dtype: int64"
            ]
          },
          "metadata": {},
          "execution_count": 7
        }
      ]
    },
    {
      "cell_type": "code",
      "metadata": {
        "id": "knZyr35goMh5"
      },
      "source": [
        "#drop rows that have null values\n",
        "df.dropna(axis=0, inplace=True)"
      ],
      "execution_count": 8,
      "outputs": []
    },
    {
      "cell_type": "code",
      "metadata": {
        "colab": {
          "base_uri": "https://localhost:8080/"
        },
        "id": "8XTFg8vzoovA",
        "outputId": "aa34a21a-76be-4103-92b5-c5bbafa5ac81"
      },
      "source": [
        "df.info()"
      ],
      "execution_count": 9,
      "outputs": [
        {
          "output_type": "stream",
          "name": "stdout",
          "text": [
            "<class 'pandas.core.frame.DataFrame'>\n",
            "Int64Index: 650 entries, 0 to 177\n",
            "Data columns (total 8 columns):\n",
            " #   Column              Non-Null Count  Dtype  \n",
            "---  ------              --------------  -----  \n",
            " 0   Ma Std              650 non-null    object \n",
            " 1   Ma Teacher          650 non-null    object \n",
            " 2   Ma ATL              650 non-null    float64\n",
            " 3   Ma Compl. Of Work   650 non-null    float64\n",
            " 4   Ma Sub Achievement  650 non-null    float64\n",
            " 5   Predicted Grade     650 non-null    float64\n",
            " 6   Actual Grade        650 non-null    float64\n",
            " 7   Scaled Total        650 non-null    float64\n",
            "dtypes: float64(6), object(2)\n",
            "memory usage: 45.7+ KB\n"
          ]
        }
      ]
    },
    {
      "cell_type": "code",
      "metadata": {
        "id": "E8fxjbZmoo2F"
      },
      "source": [
        "# dummify Ma Std and Ma Teacher\n",
        "col= ['Ma Std','Ma Teacher']\n",
        "\n",
        "# Creaing dummies \n",
        "df = pd.get_dummies(columns=col, data=df,drop_first=True)"
      ],
      "execution_count": 10,
      "outputs": []
    },
    {
      "cell_type": "code",
      "metadata": {
        "id": "drm9FxtKoo4v"
      },
      "source": [
        "# create train test split \n",
        "X = df.drop(['Predicted Grade','Actual Grade'],axis=1)\n",
        "y = df['Actual Grade']\n",
        "\n",
        "X_train, X_test, y_train, y_test = train_test_split(X, y, test_size=0.30, random_state=42)"
      ],
      "execution_count": 11,
      "outputs": []
    },
    {
      "cell_type": "code",
      "metadata": {
        "id": "baUC8qgyVyEX"
      },
      "source": [
        "pipe  = Pipeline([('rf', RandomForestRegressor(random_state=42))])"
      ],
      "execution_count": 12,
      "outputs": []
    },
    {
      "cell_type": "code",
      "metadata": {
        "id": "ihPQtqQPt9K1"
      },
      "source": [
        "pipe_params = {\n",
        "    'rf__n_jobs': [-1],\n",
        "    'rf__n_estimators': [100,101,102,103,104,105,106,107,108,109,110],\n",
        "    'rf__max_depth': [None, 1, 2, 3, 4, 5, 6, 7, 8, 9, 10],\n",
        "    'rf__random_state': [42]\n",
        "    }"
      ],
      "execution_count": 13,
      "outputs": []
    },
    {
      "cell_type": "code",
      "metadata": {
        "id": "FYx7-B7b2swH"
      },
      "source": [
        "scorers = {'RMSE': make_scorer(mean_squared_error), 'R2': make_scorer(r2_score)}"
      ],
      "execution_count": 14,
      "outputs": []
    },
    {
      "cell_type": "code",
      "metadata": {
        "id": "i2MD4cI5wkAH"
      },
      "source": [
        "# instantiate GridSeachCV\n",
        "gs = GridSearchCV(pipe, param_grid = pipe_params, cv = 3, scoring = scorers, n_jobs = -1, refit = 'R2')"
      ],
      "execution_count": 15,
      "outputs": []
    },
    {
      "cell_type": "code",
      "metadata": {
        "id": "eByzwnASwoMX",
        "colab": {
          "base_uri": "https://localhost:8080/"
        },
        "outputId": "b61a9ad7-92b8-489d-b9f1-75d0b404a90b"
      },
      "source": [
        "# fit grid search to training data\n",
        "gs.fit(X_train, y_train)"
      ],
      "execution_count": 16,
      "outputs": [
        {
          "output_type": "execute_result",
          "data": {
            "text/plain": [
              "GridSearchCV(cv=3,\n",
              "             estimator=Pipeline(steps=[('rf',\n",
              "                                        RandomForestRegressor(random_state=42))]),\n",
              "             n_jobs=-1,\n",
              "             param_grid={'rf__max_depth': [None, 1, 2, 3, 4, 5, 6, 7, 8, 9, 10],\n",
              "                         'rf__n_estimators': [100, 101, 102, 103, 104, 105, 106,\n",
              "                                              107, 108, 109, 110],\n",
              "                         'rf__n_jobs': [-1], 'rf__random_state': [42]},\n",
              "             refit='R2',\n",
              "             scoring={'R2': make_scorer(r2_score),\n",
              "                      'RMSE': make_scorer(mean_squared_error)})"
            ]
          },
          "metadata": {},
          "execution_count": 16
        }
      ]
    },
    {
      "cell_type": "code",
      "metadata": {
        "id": "8OiHyd67wqhH",
        "colab": {
          "base_uri": "https://localhost:8080/"
        },
        "outputId": "03f874a2-6d1a-43c2-ceaf-620976c6e33c"
      },
      "source": [
        "#print the best score for CV = 3\n",
        "print(gs.best_score_)"
      ],
      "execution_count": 17,
      "outputs": [
        {
          "output_type": "stream",
          "name": "stdout",
          "text": [
            "0.940070337373175\n"
          ]
        }
      ]
    },
    {
      "cell_type": "code",
      "metadata": {
        "id": "waTFY90mwqnT",
        "colab": {
          "base_uri": "https://localhost:8080/"
        },
        "outputId": "264f8e0c-d058-4f1d-ab0e-08da2a221d8c"
      },
      "source": [
        "#model score on training set\n",
        "gs.score(X_train, y_train)"
      ],
      "execution_count": 18,
      "outputs": [
        {
          "output_type": "execute_result",
          "data": {
            "text/plain": [
              "0.9880954394790418"
            ]
          },
          "metadata": {},
          "execution_count": 18
        }
      ]
    },
    {
      "cell_type": "code",
      "metadata": {
        "id": "ylYZKfSTwqp-",
        "colab": {
          "base_uri": "https://localhost:8080/"
        },
        "outputId": "186651b3-387b-4220-b2d7-846a0a99fd58"
      },
      "source": [
        "#score model on test set\n",
        "gs.score(X_test, y_test)"
      ],
      "execution_count": 19,
      "outputs": [
        {
          "output_type": "execute_result",
          "data": {
            "text/plain": [
              "0.9604987060654657"
            ]
          },
          "metadata": {},
          "execution_count": 19
        }
      ]
    },
    {
      "cell_type": "code",
      "metadata": {
        "id": "JKGuH5t4wqsx",
        "colab": {
          "base_uri": "https://localhost:8080/"
        },
        "outputId": "5dcc650f-5376-403e-a2e9-9b217fe86d0b"
      },
      "source": [
        "#get the best params\n",
        "gs.best_params_"
      ],
      "execution_count": 20,
      "outputs": [
        {
          "output_type": "execute_result",
          "data": {
            "text/plain": [
              "{'rf__max_depth': 7,\n",
              " 'rf__n_estimators': 102,\n",
              " 'rf__n_jobs': -1,\n",
              " 'rf__random_state': 42}"
            ]
          },
          "metadata": {},
          "execution_count": 20
        }
      ]
    },
    {
      "cell_type": "code",
      "metadata": {
        "id": "Vqzvx5UPwzZ9"
      },
      "source": [
        "#RandomForest AUC/Accuracy Score\n",
        "rf_r2_train = gs.score(X_train,y_train)\n",
        "rf_r2_test = gs.score(X_test,y_test)\n",
        "rf_rmse_train = mean_squared_error(gs.predict(X_train),y_train)\n",
        "rf_rmse_test = mean_squared_error(gs.predict(X_test),y_test)"
      ],
      "execution_count": 21,
      "outputs": []
    },
    {
      "cell_type": "code",
      "metadata": {
        "id": "ENbpE4Zcwzct",
        "colab": {
          "base_uri": "https://localhost:8080/"
        },
        "outputId": "c1978270-7f31-4310-f282-924f99f49072"
      },
      "source": [
        "print(f'RandomForestRegressor R2 train score {rf_r2_train}')\n",
        "print(f'RandomForestRegressor R2 test score {rf_r2_test}')\n",
        "print(f'RandomForestRegressor RMSE train score {rf_rmse_train}')\n",
        "print(f'RandomForestRegressor RMSE test score {rf_rmse_test}')"
      ],
      "execution_count": 22,
      "outputs": [
        {
          "output_type": "stream",
          "name": "stdout",
          "text": [
            "RandomForestRegressor R2 train score 0.9880954394790418\n",
            "RandomForestRegressor R2 test score 0.9604987060654658\n",
            "RandomForestRegressor RMSE train score 0.015893486780001045\n",
            "RandomForestRegressor RMSE test score 0.05168566412672756\n"
          ]
        }
      ]
    },
    {
      "cell_type": "markdown",
      "source": [
        "# Feature Ranking\n"
      ],
      "metadata": {
        "id": "X8eArLEiQZzX"
      }
    },
    {
      "cell_type": "code",
      "source": [
        "feature_names = pd.DataFrame(gs.best_estimator_.named_steps.rf.feature_names_in_, columns=['feature_name'])\n",
        "feature_names['importance'] = gs.best_estimator_.named_steps.rf.feature_importances_"
      ],
      "metadata": {
        "id": "GRmGhr1SQhNa"
      },
      "execution_count": 27,
      "outputs": []
    },
    {
      "cell_type": "code",
      "source": [
        "feature_names"
      ],
      "metadata": {
        "id": "E7W_R-D_Sv1B",
        "outputId": "4686e110-05b9-4476-d45a-86c7db4a7198",
        "colab": {
          "base_uri": "https://localhost:8080/",
          "height": 833
        }
      },
      "execution_count": 28,
      "outputs": [
        {
          "output_type": "execute_result",
          "data": {
            "text/html": [
              "<div>\n",
              "<style scoped>\n",
              "    .dataframe tbody tr th:only-of-type {\n",
              "        vertical-align: middle;\n",
              "    }\n",
              "\n",
              "    .dataframe tbody tr th {\n",
              "        vertical-align: top;\n",
              "    }\n",
              "\n",
              "    .dataframe thead th {\n",
              "        text-align: right;\n",
              "    }\n",
              "</style>\n",
              "<table border=\"1\" class=\"dataframe\">\n",
              "  <thead>\n",
              "    <tr style=\"text-align: right;\">\n",
              "      <th></th>\n",
              "      <th>feature_name</th>\n",
              "      <th>importance</th>\n",
              "    </tr>\n",
              "  </thead>\n",
              "  <tbody>\n",
              "    <tr>\n",
              "      <th>0</th>\n",
              "      <td>Ma ATL</td>\n",
              "      <td>0.002303</td>\n",
              "    </tr>\n",
              "    <tr>\n",
              "      <th>1</th>\n",
              "      <td>Ma Compl. Of Work</td>\n",
              "      <td>0.002946</td>\n",
              "    </tr>\n",
              "    <tr>\n",
              "      <th>2</th>\n",
              "      <td>Ma Sub Achievement</td>\n",
              "      <td>0.016033</td>\n",
              "    </tr>\n",
              "    <tr>\n",
              "      <th>3</th>\n",
              "      <td>Scaled Total</td>\n",
              "      <td>0.950796</td>\n",
              "    </tr>\n",
              "    <tr>\n",
              "      <th>4</th>\n",
              "      <td>Ma Std_ SL</td>\n",
              "      <td>0.002040</td>\n",
              "    </tr>\n",
              "    <tr>\n",
              "      <th>5</th>\n",
              "      <td>Ma Std_HL</td>\n",
              "      <td>0.000853</td>\n",
              "    </tr>\n",
              "    <tr>\n",
              "      <th>6</th>\n",
              "      <td>Ma Std_SL</td>\n",
              "      <td>0.010019</td>\n",
              "    </tr>\n",
              "    <tr>\n",
              "      <th>7</th>\n",
              "      <td>Ma Teacher_ CLe</td>\n",
              "      <td>0.000540</td>\n",
              "    </tr>\n",
              "    <tr>\n",
              "      <th>8</th>\n",
              "      <td>Ma Teacher_ CNa</td>\n",
              "      <td>0.000546</td>\n",
              "    </tr>\n",
              "    <tr>\n",
              "      <th>9</th>\n",
              "      <td>Ma Teacher_ FBe</td>\n",
              "      <td>0.000919</td>\n",
              "    </tr>\n",
              "    <tr>\n",
              "      <th>10</th>\n",
              "      <td>Ma Teacher_ RCh</td>\n",
              "      <td>0.000250</td>\n",
              "    </tr>\n",
              "    <tr>\n",
              "      <th>11</th>\n",
              "      <td>Ma Teacher_ SSn</td>\n",
              "      <td>0.000249</td>\n",
              "    </tr>\n",
              "    <tr>\n",
              "      <th>12</th>\n",
              "      <td>Ma Teacher_BGe</td>\n",
              "      <td>0.001547</td>\n",
              "    </tr>\n",
              "    <tr>\n",
              "      <th>13</th>\n",
              "      <td>Ma Teacher_CLe</td>\n",
              "      <td>0.000165</td>\n",
              "    </tr>\n",
              "    <tr>\n",
              "      <th>14</th>\n",
              "      <td>Ma Teacher_CNa</td>\n",
              "      <td>0.001161</td>\n",
              "    </tr>\n",
              "    <tr>\n",
              "      <th>15</th>\n",
              "      <td>Ma Teacher_DCh</td>\n",
              "      <td>0.000966</td>\n",
              "    </tr>\n",
              "    <tr>\n",
              "      <th>16</th>\n",
              "      <td>Ma Teacher_FBe</td>\n",
              "      <td>0.002714</td>\n",
              "    </tr>\n",
              "    <tr>\n",
              "      <th>17</th>\n",
              "      <td>Ma Teacher_FYi</td>\n",
              "      <td>0.000049</td>\n",
              "    </tr>\n",
              "    <tr>\n",
              "      <th>18</th>\n",
              "      <td>Ma Teacher_GGo</td>\n",
              "      <td>0.001628</td>\n",
              "    </tr>\n",
              "    <tr>\n",
              "      <th>19</th>\n",
              "      <td>Ma Teacher_GTu</td>\n",
              "      <td>0.000128</td>\n",
              "    </tr>\n",
              "    <tr>\n",
              "      <th>20</th>\n",
              "      <td>Ma Teacher_Gtu</td>\n",
              "      <td>0.000000</td>\n",
              "    </tr>\n",
              "    <tr>\n",
              "      <th>21</th>\n",
              "      <td>Ma Teacher_JTo</td>\n",
              "      <td>0.001477</td>\n",
              "    </tr>\n",
              "    <tr>\n",
              "      <th>22</th>\n",
              "      <td>Ma Teacher_LLP</td>\n",
              "      <td>0.000375</td>\n",
              "    </tr>\n",
              "    <tr>\n",
              "      <th>23</th>\n",
              "      <td>Ma Teacher_RCh</td>\n",
              "      <td>0.001425</td>\n",
              "    </tr>\n",
              "    <tr>\n",
              "      <th>24</th>\n",
              "      <td>Ma Teacher_TSS</td>\n",
              "      <td>0.000870</td>\n",
              "    </tr>\n",
              "  </tbody>\n",
              "</table>\n",
              "</div>"
            ],
            "text/plain": [
              "          feature_name  importance\n",
              "0               Ma ATL    0.002303\n",
              "1    Ma Compl. Of Work    0.002946\n",
              "2   Ma Sub Achievement    0.016033\n",
              "3         Scaled Total    0.950796\n",
              "4           Ma Std_ SL    0.002040\n",
              "5            Ma Std_HL    0.000853\n",
              "6            Ma Std_SL    0.010019\n",
              "7      Ma Teacher_ CLe    0.000540\n",
              "8      Ma Teacher_ CNa    0.000546\n",
              "9      Ma Teacher_ FBe    0.000919\n",
              "10     Ma Teacher_ RCh    0.000250\n",
              "11     Ma Teacher_ SSn    0.000249\n",
              "12      Ma Teacher_BGe    0.001547\n",
              "13      Ma Teacher_CLe    0.000165\n",
              "14      Ma Teacher_CNa    0.001161\n",
              "15      Ma Teacher_DCh    0.000966\n",
              "16      Ma Teacher_FBe    0.002714\n",
              "17      Ma Teacher_FYi    0.000049\n",
              "18      Ma Teacher_GGo    0.001628\n",
              "19      Ma Teacher_GTu    0.000128\n",
              "20      Ma Teacher_Gtu    0.000000\n",
              "21      Ma Teacher_JTo    0.001477\n",
              "22      Ma Teacher_LLP    0.000375\n",
              "23      Ma Teacher_RCh    0.001425\n",
              "24      Ma Teacher_TSS    0.000870"
            ]
          },
          "metadata": {},
          "execution_count": 28
        }
      ]
    },
    {
      "cell_type": "code",
      "source": [
        "feature_names.sort_values(by=\"importance\",ascending=False)[:10]"
      ],
      "metadata": {
        "id": "PECusZ8zUKiE",
        "outputId": "070e2d7a-52ce-4c1d-85c9-146deb44632b",
        "colab": {
          "base_uri": "https://localhost:8080/",
          "height": 362
        }
      },
      "execution_count": 29,
      "outputs": [
        {
          "output_type": "execute_result",
          "data": {
            "text/html": [
              "<div>\n",
              "<style scoped>\n",
              "    .dataframe tbody tr th:only-of-type {\n",
              "        vertical-align: middle;\n",
              "    }\n",
              "\n",
              "    .dataframe tbody tr th {\n",
              "        vertical-align: top;\n",
              "    }\n",
              "\n",
              "    .dataframe thead th {\n",
              "        text-align: right;\n",
              "    }\n",
              "</style>\n",
              "<table border=\"1\" class=\"dataframe\">\n",
              "  <thead>\n",
              "    <tr style=\"text-align: right;\">\n",
              "      <th></th>\n",
              "      <th>feature_name</th>\n",
              "      <th>importance</th>\n",
              "    </tr>\n",
              "  </thead>\n",
              "  <tbody>\n",
              "    <tr>\n",
              "      <th>3</th>\n",
              "      <td>Scaled Total</td>\n",
              "      <td>0.950796</td>\n",
              "    </tr>\n",
              "    <tr>\n",
              "      <th>2</th>\n",
              "      <td>Ma Sub Achievement</td>\n",
              "      <td>0.016033</td>\n",
              "    </tr>\n",
              "    <tr>\n",
              "      <th>6</th>\n",
              "      <td>Ma Std_SL</td>\n",
              "      <td>0.010019</td>\n",
              "    </tr>\n",
              "    <tr>\n",
              "      <th>1</th>\n",
              "      <td>Ma Compl. Of Work</td>\n",
              "      <td>0.002946</td>\n",
              "    </tr>\n",
              "    <tr>\n",
              "      <th>16</th>\n",
              "      <td>Ma Teacher_FBe</td>\n",
              "      <td>0.002714</td>\n",
              "    </tr>\n",
              "    <tr>\n",
              "      <th>0</th>\n",
              "      <td>Ma ATL</td>\n",
              "      <td>0.002303</td>\n",
              "    </tr>\n",
              "    <tr>\n",
              "      <th>4</th>\n",
              "      <td>Ma Std_ SL</td>\n",
              "      <td>0.002040</td>\n",
              "    </tr>\n",
              "    <tr>\n",
              "      <th>18</th>\n",
              "      <td>Ma Teacher_GGo</td>\n",
              "      <td>0.001628</td>\n",
              "    </tr>\n",
              "    <tr>\n",
              "      <th>12</th>\n",
              "      <td>Ma Teacher_BGe</td>\n",
              "      <td>0.001547</td>\n",
              "    </tr>\n",
              "    <tr>\n",
              "      <th>21</th>\n",
              "      <td>Ma Teacher_JTo</td>\n",
              "      <td>0.001477</td>\n",
              "    </tr>\n",
              "  </tbody>\n",
              "</table>\n",
              "</div>"
            ],
            "text/plain": [
              "          feature_name  importance\n",
              "3         Scaled Total    0.950796\n",
              "2   Ma Sub Achievement    0.016033\n",
              "6            Ma Std_SL    0.010019\n",
              "1    Ma Compl. Of Work    0.002946\n",
              "16      Ma Teacher_FBe    0.002714\n",
              "0               Ma ATL    0.002303\n",
              "4           Ma Std_ SL    0.002040\n",
              "18      Ma Teacher_GGo    0.001628\n",
              "12      Ma Teacher_BGe    0.001547\n",
              "21      Ma Teacher_JTo    0.001477"
            ]
          },
          "metadata": {},
          "execution_count": 29
        }
      ]
    },
    {
      "cell_type": "markdown",
      "source": [
        "# Model Prediction of Student's Grade\n"
      ],
      "metadata": {
        "id": "bEGLEX46QkN3"
      }
    },
    {
      "cell_type": "code",
      "metadata": {
        "id": "B_ZHgeYr4mIr"
      },
      "source": [
        "# rounding the results off to nearest whole number\n",
        "\n",
        "y_test_pred = gs.predict(X_test).round().astype('int')"
      ],
      "execution_count": 30,
      "outputs": []
    },
    {
      "cell_type": "code",
      "metadata": {
        "id": "aiQshvLrJ2Gv",
        "outputId": "4af9d38d-3ed4-4c2b-9e48-aa0a18d8c54f",
        "colab": {
          "base_uri": "https://localhost:8080/",
          "height": 423
        }
      },
      "source": [
        "X_test"
      ],
      "execution_count": 31,
      "outputs": [
        {
          "output_type": "execute_result",
          "data": {
            "text/html": [
              "<div>\n",
              "<style scoped>\n",
              "    .dataframe tbody tr th:only-of-type {\n",
              "        vertical-align: middle;\n",
              "    }\n",
              "\n",
              "    .dataframe tbody tr th {\n",
              "        vertical-align: top;\n",
              "    }\n",
              "\n",
              "    .dataframe thead th {\n",
              "        text-align: right;\n",
              "    }\n",
              "</style>\n",
              "<table border=\"1\" class=\"dataframe\">\n",
              "  <thead>\n",
              "    <tr style=\"text-align: right;\">\n",
              "      <th></th>\n",
              "      <th>Ma ATL</th>\n",
              "      <th>Ma Compl. Of Work</th>\n",
              "      <th>Ma Sub Achievement</th>\n",
              "      <th>Scaled Total</th>\n",
              "      <th>Ma Std_ SL</th>\n",
              "      <th>Ma Std_HL</th>\n",
              "      <th>Ma Std_SL</th>\n",
              "      <th>Ma Teacher_ CLe</th>\n",
              "      <th>Ma Teacher_ CNa</th>\n",
              "      <th>Ma Teacher_ FBe</th>\n",
              "      <th>Ma Teacher_ RCh</th>\n",
              "      <th>Ma Teacher_ SSn</th>\n",
              "      <th>Ma Teacher_BGe</th>\n",
              "      <th>Ma Teacher_CLe</th>\n",
              "      <th>Ma Teacher_CNa</th>\n",
              "      <th>Ma Teacher_DCh</th>\n",
              "      <th>Ma Teacher_FBe</th>\n",
              "      <th>Ma Teacher_FYi</th>\n",
              "      <th>Ma Teacher_GGo</th>\n",
              "      <th>Ma Teacher_GTu</th>\n",
              "      <th>Ma Teacher_Gtu</th>\n",
              "      <th>Ma Teacher_JTo</th>\n",
              "      <th>Ma Teacher_LLP</th>\n",
              "      <th>Ma Teacher_RCh</th>\n",
              "      <th>Ma Teacher_TSS</th>\n",
              "    </tr>\n",
              "  </thead>\n",
              "  <tbody>\n",
              "    <tr>\n",
              "      <th>165</th>\n",
              "      <td>7.0</td>\n",
              "      <td>7.0</td>\n",
              "      <td>7.0</td>\n",
              "      <td>87.0</td>\n",
              "      <td>0</td>\n",
              "      <td>1</td>\n",
              "      <td>0</td>\n",
              "      <td>0</td>\n",
              "      <td>0</td>\n",
              "      <td>0</td>\n",
              "      <td>0</td>\n",
              "      <td>0</td>\n",
              "      <td>0</td>\n",
              "      <td>0</td>\n",
              "      <td>0</td>\n",
              "      <td>0</td>\n",
              "      <td>0</td>\n",
              "      <td>0</td>\n",
              "      <td>1</td>\n",
              "      <td>0</td>\n",
              "      <td>0</td>\n",
              "      <td>0</td>\n",
              "      <td>0</td>\n",
              "      <td>0</td>\n",
              "      <td>0</td>\n",
              "    </tr>\n",
              "    <tr>\n",
              "      <th>60</th>\n",
              "      <td>6.0</td>\n",
              "      <td>6.0</td>\n",
              "      <td>4.0</td>\n",
              "      <td>57.0</td>\n",
              "      <td>0</td>\n",
              "      <td>1</td>\n",
              "      <td>0</td>\n",
              "      <td>0</td>\n",
              "      <td>0</td>\n",
              "      <td>0</td>\n",
              "      <td>0</td>\n",
              "      <td>0</td>\n",
              "      <td>0</td>\n",
              "      <td>0</td>\n",
              "      <td>0</td>\n",
              "      <td>0</td>\n",
              "      <td>0</td>\n",
              "      <td>0</td>\n",
              "      <td>1</td>\n",
              "      <td>0</td>\n",
              "      <td>0</td>\n",
              "      <td>0</td>\n",
              "      <td>0</td>\n",
              "      <td>0</td>\n",
              "      <td>0</td>\n",
              "    </tr>\n",
              "    <tr>\n",
              "      <th>112</th>\n",
              "      <td>6.0</td>\n",
              "      <td>6.0</td>\n",
              "      <td>5.0</td>\n",
              "      <td>75.0</td>\n",
              "      <td>0</td>\n",
              "      <td>0</td>\n",
              "      <td>1</td>\n",
              "      <td>0</td>\n",
              "      <td>0</td>\n",
              "      <td>0</td>\n",
              "      <td>0</td>\n",
              "      <td>0</td>\n",
              "      <td>0</td>\n",
              "      <td>0</td>\n",
              "      <td>0</td>\n",
              "      <td>0</td>\n",
              "      <td>0</td>\n",
              "      <td>0</td>\n",
              "      <td>0</td>\n",
              "      <td>0</td>\n",
              "      <td>0</td>\n",
              "      <td>0</td>\n",
              "      <td>0</td>\n",
              "      <td>0</td>\n",
              "      <td>1</td>\n",
              "    </tr>\n",
              "    <tr>\n",
              "      <th>5</th>\n",
              "      <td>6.0</td>\n",
              "      <td>5.0</td>\n",
              "      <td>4.0</td>\n",
              "      <td>58.0</td>\n",
              "      <td>0</td>\n",
              "      <td>0</td>\n",
              "      <td>1</td>\n",
              "      <td>0</td>\n",
              "      <td>0</td>\n",
              "      <td>0</td>\n",
              "      <td>0</td>\n",
              "      <td>0</td>\n",
              "      <td>0</td>\n",
              "      <td>0</td>\n",
              "      <td>0</td>\n",
              "      <td>0</td>\n",
              "      <td>0</td>\n",
              "      <td>0</td>\n",
              "      <td>0</td>\n",
              "      <td>0</td>\n",
              "      <td>0</td>\n",
              "      <td>0</td>\n",
              "      <td>1</td>\n",
              "      <td>0</td>\n",
              "      <td>0</td>\n",
              "    </tr>\n",
              "    <tr>\n",
              "      <th>76</th>\n",
              "      <td>7.0</td>\n",
              "      <td>7.0</td>\n",
              "      <td>7.0</td>\n",
              "      <td>85.0</td>\n",
              "      <td>0</td>\n",
              "      <td>0</td>\n",
              "      <td>1</td>\n",
              "      <td>0</td>\n",
              "      <td>0</td>\n",
              "      <td>0</td>\n",
              "      <td>0</td>\n",
              "      <td>0</td>\n",
              "      <td>0</td>\n",
              "      <td>0</td>\n",
              "      <td>0</td>\n",
              "      <td>0</td>\n",
              "      <td>0</td>\n",
              "      <td>0</td>\n",
              "      <td>0</td>\n",
              "      <td>0</td>\n",
              "      <td>0</td>\n",
              "      <td>0</td>\n",
              "      <td>1</td>\n",
              "      <td>0</td>\n",
              "      <td>0</td>\n",
              "    </tr>\n",
              "    <tr>\n",
              "      <th>...</th>\n",
              "      <td>...</td>\n",
              "      <td>...</td>\n",
              "      <td>...</td>\n",
              "      <td>...</td>\n",
              "      <td>...</td>\n",
              "      <td>...</td>\n",
              "      <td>...</td>\n",
              "      <td>...</td>\n",
              "      <td>...</td>\n",
              "      <td>...</td>\n",
              "      <td>...</td>\n",
              "      <td>...</td>\n",
              "      <td>...</td>\n",
              "      <td>...</td>\n",
              "      <td>...</td>\n",
              "      <td>...</td>\n",
              "      <td>...</td>\n",
              "      <td>...</td>\n",
              "      <td>...</td>\n",
              "      <td>...</td>\n",
              "      <td>...</td>\n",
              "      <td>...</td>\n",
              "      <td>...</td>\n",
              "      <td>...</td>\n",
              "      <td>...</td>\n",
              "    </tr>\n",
              "    <tr>\n",
              "      <th>154</th>\n",
              "      <td>7.0</td>\n",
              "      <td>7.0</td>\n",
              "      <td>5.0</td>\n",
              "      <td>61.0</td>\n",
              "      <td>1</td>\n",
              "      <td>0</td>\n",
              "      <td>0</td>\n",
              "      <td>0</td>\n",
              "      <td>0</td>\n",
              "      <td>0</td>\n",
              "      <td>0</td>\n",
              "      <td>0</td>\n",
              "      <td>0</td>\n",
              "      <td>0</td>\n",
              "      <td>0</td>\n",
              "      <td>0</td>\n",
              "      <td>0</td>\n",
              "      <td>0</td>\n",
              "      <td>0</td>\n",
              "      <td>0</td>\n",
              "      <td>0</td>\n",
              "      <td>0</td>\n",
              "      <td>0</td>\n",
              "      <td>0</td>\n",
              "      <td>0</td>\n",
              "    </tr>\n",
              "    <tr>\n",
              "      <th>96</th>\n",
              "      <td>6.0</td>\n",
              "      <td>6.0</td>\n",
              "      <td>6.0</td>\n",
              "      <td>67.0</td>\n",
              "      <td>0</td>\n",
              "      <td>0</td>\n",
              "      <td>1</td>\n",
              "      <td>0</td>\n",
              "      <td>0</td>\n",
              "      <td>1</td>\n",
              "      <td>0</td>\n",
              "      <td>0</td>\n",
              "      <td>0</td>\n",
              "      <td>0</td>\n",
              "      <td>0</td>\n",
              "      <td>0</td>\n",
              "      <td>0</td>\n",
              "      <td>0</td>\n",
              "      <td>0</td>\n",
              "      <td>0</td>\n",
              "      <td>0</td>\n",
              "      <td>0</td>\n",
              "      <td>0</td>\n",
              "      <td>0</td>\n",
              "      <td>0</td>\n",
              "    </tr>\n",
              "    <tr>\n",
              "      <th>143</th>\n",
              "      <td>5.0</td>\n",
              "      <td>5.0</td>\n",
              "      <td>4.0</td>\n",
              "      <td>42.0</td>\n",
              "      <td>0</td>\n",
              "      <td>0</td>\n",
              "      <td>1</td>\n",
              "      <td>0</td>\n",
              "      <td>0</td>\n",
              "      <td>0</td>\n",
              "      <td>0</td>\n",
              "      <td>0</td>\n",
              "      <td>0</td>\n",
              "      <td>0</td>\n",
              "      <td>1</td>\n",
              "      <td>0</td>\n",
              "      <td>0</td>\n",
              "      <td>0</td>\n",
              "      <td>0</td>\n",
              "      <td>0</td>\n",
              "      <td>0</td>\n",
              "      <td>0</td>\n",
              "      <td>0</td>\n",
              "      <td>0</td>\n",
              "      <td>0</td>\n",
              "    </tr>\n",
              "    <tr>\n",
              "      <th>115</th>\n",
              "      <td>6.0</td>\n",
              "      <td>6.0</td>\n",
              "      <td>5.0</td>\n",
              "      <td>52.0</td>\n",
              "      <td>0</td>\n",
              "      <td>0</td>\n",
              "      <td>1</td>\n",
              "      <td>1</td>\n",
              "      <td>0</td>\n",
              "      <td>0</td>\n",
              "      <td>0</td>\n",
              "      <td>0</td>\n",
              "      <td>0</td>\n",
              "      <td>0</td>\n",
              "      <td>0</td>\n",
              "      <td>0</td>\n",
              "      <td>0</td>\n",
              "      <td>0</td>\n",
              "      <td>0</td>\n",
              "      <td>0</td>\n",
              "      <td>0</td>\n",
              "      <td>0</td>\n",
              "      <td>0</td>\n",
              "      <td>0</td>\n",
              "      <td>0</td>\n",
              "    </tr>\n",
              "    <tr>\n",
              "      <th>75</th>\n",
              "      <td>7.0</td>\n",
              "      <td>7.0</td>\n",
              "      <td>4.0</td>\n",
              "      <td>68.0</td>\n",
              "      <td>0</td>\n",
              "      <td>1</td>\n",
              "      <td>0</td>\n",
              "      <td>0</td>\n",
              "      <td>0</td>\n",
              "      <td>0</td>\n",
              "      <td>0</td>\n",
              "      <td>0</td>\n",
              "      <td>0</td>\n",
              "      <td>0</td>\n",
              "      <td>0</td>\n",
              "      <td>0</td>\n",
              "      <td>0</td>\n",
              "      <td>0</td>\n",
              "      <td>0</td>\n",
              "      <td>0</td>\n",
              "      <td>0</td>\n",
              "      <td>1</td>\n",
              "      <td>0</td>\n",
              "      <td>0</td>\n",
              "      <td>0</td>\n",
              "    </tr>\n",
              "  </tbody>\n",
              "</table>\n",
              "<p>195 rows × 25 columns</p>\n",
              "</div>"
            ],
            "text/plain": [
              "     Ma ATL  Ma Compl. Of Work  ...  Ma Teacher_RCh  Ma Teacher_TSS\n",
              "165     7.0                7.0  ...               0               0\n",
              "60      6.0                6.0  ...               0               0\n",
              "112     6.0                6.0  ...               0               1\n",
              "5       6.0                5.0  ...               0               0\n",
              "76      7.0                7.0  ...               0               0\n",
              "..      ...                ...  ...             ...             ...\n",
              "154     7.0                7.0  ...               0               0\n",
              "96      6.0                6.0  ...               0               0\n",
              "143     5.0                5.0  ...               0               0\n",
              "115     6.0                6.0  ...               0               0\n",
              "75      7.0                7.0  ...               0               0\n",
              "\n",
              "[195 rows x 25 columns]"
            ]
          },
          "metadata": {},
          "execution_count": 31
        }
      ]
    },
    {
      "cell_type": "code",
      "metadata": {
        "id": "AStaDJXNJ57W"
      },
      "source": [
        "X_test['model prediction'] = y_test_pred"
      ],
      "execution_count": 32,
      "outputs": []
    },
    {
      "cell_type": "code",
      "metadata": {
        "id": "sifn1g_gKFQ4",
        "outputId": "55325212-8c4a-42eb-d2e9-4cfac197280b",
        "colab": {
          "base_uri": "https://localhost:8080/",
          "height": 223
        }
      },
      "source": [
        "X_test.head()"
      ],
      "execution_count": 33,
      "outputs": [
        {
          "output_type": "execute_result",
          "data": {
            "text/html": [
              "<div>\n",
              "<style scoped>\n",
              "    .dataframe tbody tr th:only-of-type {\n",
              "        vertical-align: middle;\n",
              "    }\n",
              "\n",
              "    .dataframe tbody tr th {\n",
              "        vertical-align: top;\n",
              "    }\n",
              "\n",
              "    .dataframe thead th {\n",
              "        text-align: right;\n",
              "    }\n",
              "</style>\n",
              "<table border=\"1\" class=\"dataframe\">\n",
              "  <thead>\n",
              "    <tr style=\"text-align: right;\">\n",
              "      <th></th>\n",
              "      <th>Ma ATL</th>\n",
              "      <th>Ma Compl. Of Work</th>\n",
              "      <th>Ma Sub Achievement</th>\n",
              "      <th>Scaled Total</th>\n",
              "      <th>Ma Std_ SL</th>\n",
              "      <th>Ma Std_HL</th>\n",
              "      <th>Ma Std_SL</th>\n",
              "      <th>Ma Teacher_ CLe</th>\n",
              "      <th>Ma Teacher_ CNa</th>\n",
              "      <th>Ma Teacher_ FBe</th>\n",
              "      <th>Ma Teacher_ RCh</th>\n",
              "      <th>Ma Teacher_ SSn</th>\n",
              "      <th>Ma Teacher_BGe</th>\n",
              "      <th>Ma Teacher_CLe</th>\n",
              "      <th>Ma Teacher_CNa</th>\n",
              "      <th>Ma Teacher_DCh</th>\n",
              "      <th>Ma Teacher_FBe</th>\n",
              "      <th>Ma Teacher_FYi</th>\n",
              "      <th>Ma Teacher_GGo</th>\n",
              "      <th>Ma Teacher_GTu</th>\n",
              "      <th>Ma Teacher_Gtu</th>\n",
              "      <th>Ma Teacher_JTo</th>\n",
              "      <th>Ma Teacher_LLP</th>\n",
              "      <th>Ma Teacher_RCh</th>\n",
              "      <th>Ma Teacher_TSS</th>\n",
              "      <th>model prediction</th>\n",
              "    </tr>\n",
              "  </thead>\n",
              "  <tbody>\n",
              "    <tr>\n",
              "      <th>165</th>\n",
              "      <td>7.0</td>\n",
              "      <td>7.0</td>\n",
              "      <td>7.0</td>\n",
              "      <td>87.0</td>\n",
              "      <td>0</td>\n",
              "      <td>1</td>\n",
              "      <td>0</td>\n",
              "      <td>0</td>\n",
              "      <td>0</td>\n",
              "      <td>0</td>\n",
              "      <td>0</td>\n",
              "      <td>0</td>\n",
              "      <td>0</td>\n",
              "      <td>0</td>\n",
              "      <td>0</td>\n",
              "      <td>0</td>\n",
              "      <td>0</td>\n",
              "      <td>0</td>\n",
              "      <td>1</td>\n",
              "      <td>0</td>\n",
              "      <td>0</td>\n",
              "      <td>0</td>\n",
              "      <td>0</td>\n",
              "      <td>0</td>\n",
              "      <td>0</td>\n",
              "      <td>7</td>\n",
              "    </tr>\n",
              "    <tr>\n",
              "      <th>60</th>\n",
              "      <td>6.0</td>\n",
              "      <td>6.0</td>\n",
              "      <td>4.0</td>\n",
              "      <td>57.0</td>\n",
              "      <td>0</td>\n",
              "      <td>1</td>\n",
              "      <td>0</td>\n",
              "      <td>0</td>\n",
              "      <td>0</td>\n",
              "      <td>0</td>\n",
              "      <td>0</td>\n",
              "      <td>0</td>\n",
              "      <td>0</td>\n",
              "      <td>0</td>\n",
              "      <td>0</td>\n",
              "      <td>0</td>\n",
              "      <td>0</td>\n",
              "      <td>0</td>\n",
              "      <td>1</td>\n",
              "      <td>0</td>\n",
              "      <td>0</td>\n",
              "      <td>0</td>\n",
              "      <td>0</td>\n",
              "      <td>0</td>\n",
              "      <td>0</td>\n",
              "      <td>5</td>\n",
              "    </tr>\n",
              "    <tr>\n",
              "      <th>112</th>\n",
              "      <td>6.0</td>\n",
              "      <td>6.0</td>\n",
              "      <td>5.0</td>\n",
              "      <td>75.0</td>\n",
              "      <td>0</td>\n",
              "      <td>0</td>\n",
              "      <td>1</td>\n",
              "      <td>0</td>\n",
              "      <td>0</td>\n",
              "      <td>0</td>\n",
              "      <td>0</td>\n",
              "      <td>0</td>\n",
              "      <td>0</td>\n",
              "      <td>0</td>\n",
              "      <td>0</td>\n",
              "      <td>0</td>\n",
              "      <td>0</td>\n",
              "      <td>0</td>\n",
              "      <td>0</td>\n",
              "      <td>0</td>\n",
              "      <td>0</td>\n",
              "      <td>0</td>\n",
              "      <td>0</td>\n",
              "      <td>0</td>\n",
              "      <td>1</td>\n",
              "      <td>6</td>\n",
              "    </tr>\n",
              "    <tr>\n",
              "      <th>5</th>\n",
              "      <td>6.0</td>\n",
              "      <td>5.0</td>\n",
              "      <td>4.0</td>\n",
              "      <td>58.0</td>\n",
              "      <td>0</td>\n",
              "      <td>0</td>\n",
              "      <td>1</td>\n",
              "      <td>0</td>\n",
              "      <td>0</td>\n",
              "      <td>0</td>\n",
              "      <td>0</td>\n",
              "      <td>0</td>\n",
              "      <td>0</td>\n",
              "      <td>0</td>\n",
              "      <td>0</td>\n",
              "      <td>0</td>\n",
              "      <td>0</td>\n",
              "      <td>0</td>\n",
              "      <td>0</td>\n",
              "      <td>0</td>\n",
              "      <td>0</td>\n",
              "      <td>0</td>\n",
              "      <td>1</td>\n",
              "      <td>0</td>\n",
              "      <td>0</td>\n",
              "      <td>5</td>\n",
              "    </tr>\n",
              "    <tr>\n",
              "      <th>76</th>\n",
              "      <td>7.0</td>\n",
              "      <td>7.0</td>\n",
              "      <td>7.0</td>\n",
              "      <td>85.0</td>\n",
              "      <td>0</td>\n",
              "      <td>0</td>\n",
              "      <td>1</td>\n",
              "      <td>0</td>\n",
              "      <td>0</td>\n",
              "      <td>0</td>\n",
              "      <td>0</td>\n",
              "      <td>0</td>\n",
              "      <td>0</td>\n",
              "      <td>0</td>\n",
              "      <td>0</td>\n",
              "      <td>0</td>\n",
              "      <td>0</td>\n",
              "      <td>0</td>\n",
              "      <td>0</td>\n",
              "      <td>0</td>\n",
              "      <td>0</td>\n",
              "      <td>0</td>\n",
              "      <td>1</td>\n",
              "      <td>0</td>\n",
              "      <td>0</td>\n",
              "      <td>7</td>\n",
              "    </tr>\n",
              "  </tbody>\n",
              "</table>\n",
              "</div>"
            ],
            "text/plain": [
              "     Ma ATL  Ma Compl. Of Work  ...  Ma Teacher_TSS  model prediction\n",
              "165     7.0                7.0  ...               0                 7\n",
              "60      6.0                6.0  ...               0                 5\n",
              "112     6.0                6.0  ...               1                 6\n",
              "5       6.0                5.0  ...               0                 5\n",
              "76      7.0                7.0  ...               0                 7\n",
              "\n",
              "[5 rows x 26 columns]"
            ]
          },
          "metadata": {},
          "execution_count": 33
        }
      ]
    },
    {
      "cell_type": "code",
      "metadata": {
        "id": "0nYmBvLyKH4T"
      },
      "source": [
        ""
      ],
      "execution_count": null,
      "outputs": []
    }
  ]
}