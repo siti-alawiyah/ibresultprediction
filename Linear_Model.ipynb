{
  "nbformat": 4,
  "nbformat_minor": 0,
  "metadata": {
    "colab": {
      "name": "Linear Model",
      "provenance": [],
      "collapsed_sections": [],
      "authorship_tag": "ABX9TyOedwIHQMCs/08Q3nofLLPf",
      "include_colab_link": true
    },
    "kernelspec": {
      "name": "python3",
      "display_name": "Python 3"
    },
    "language_info": {
      "name": "python"
    }
  },
  "cells": [
    {
      "cell_type": "markdown",
      "metadata": {
        "id": "view-in-github",
        "colab_type": "text"
      },
      "source": [
        "<a href=\"https://colab.research.google.com/github/siti-alawiyah/ibresultprediction/blob/main/Linear_Model.ipynb\" target=\"_parent\"><img src=\"https://colab.research.google.com/assets/colab-badge.svg\" alt=\"Open In Colab\"/></a>"
      ]
    },
    {
      "cell_type": "code",
      "metadata": {
        "id": "uN6LipTY2xrC"
      },
      "source": [
        "# imports\n",
        "# ignore future warnings\n",
        "import warnings\n",
        "warnings.simplefilter(action='ignore', category=FutureWarning)\n",
        "\n",
        "# import libraries\n",
        "import pandas as pd\n",
        "import numpy as np\n",
        "import matplotlib.pyplot as plt\n",
        "import seaborn as sns\n",
        "import missingno as msno\n",
        "\n",
        "from sklearn.preprocessing import StandardScaler, PolynomialFeatures\n",
        "from sklearn.model_selection import train_test_split, cross_val_score, GridSearchCV\n",
        "from sklearn.linear_model import LinearRegression, Ridge, RidgeCV, Lasso, LassoCV, ElasticNetCV\n",
        "from sklearn import metrics\n",
        "\n",
        "import statsmodels.api as sm\n",
        "from scipy import stats"
      ],
      "execution_count": 1,
      "outputs": []
    },
    {
      "cell_type": "code",
      "metadata": {
        "id": "ow9AnsRfoMQe"
      },
      "source": [
        "# links to dataset\n",
        "URL1 = \"https://raw.githubusercontent.com/siti-alawiyah/ibresultprediction/main/data/2020IB.csv\"\n",
        "URL2 = \"https://raw.githubusercontent.com/siti-alawiyah/ibresultprediction/main/data/2019IB.csv\"   "
      ],
      "execution_count": 2,
      "outputs": []
    },
    {
      "cell_type": "code",
      "metadata": {
        "id": "4WcygR0d9QaI"
      },
      "source": [
        "# read the url for the datasets\n",
        "df20 = pd.read_csv(URL1)\n",
        "df19 = pd.read_csv(URL2)"
      ],
      "execution_count": 3,
      "outputs": []
    },
    {
      "cell_type": "code",
      "metadata": {
        "id": "Ffrhg1IwoMXh"
      },
      "source": [
        "# getting the columns prior for modelling\n",
        "df20 = df20[[\"Ma Std\",\"Ma Teacher\",\"Ma ATL\",\"Ma Compl. Of Work\",\"Ma Sub Achievement\",\"Predicted Grade\",\"Actual Grade\",\"Scaled Total\"]]\n",
        "df19 = df19[[\"Ma Std\",\"Ma Teacher\",\"Ma ATL\",\"Ma Compl. Of Work\",\"Ma Sub Achievement\",\"Predicted Grade\",\"Actual Grade\",\"Scaled Total\"]]"
      ],
      "execution_count": 4,
      "outputs": []
    },
    {
      "cell_type": "code",
      "metadata": {
        "id": "q-hFcORpoMaP"
      },
      "source": [
        "# combine the dataframes into 1 before modelling\n",
        "frames = [df20,df19]\n",
        "df = pd.concat(frames)"
      ],
      "execution_count": 5,
      "outputs": []
    },
    {
      "cell_type": "code",
      "metadata": {
        "colab": {
          "base_uri": "https://localhost:8080/"
        },
        "id": "hj3w_HjEoMdA",
        "outputId": "a95688c5-1b92-4e9c-ba3f-7e64cb3ff33b"
      },
      "source": [
        "df.info()"
      ],
      "execution_count": 6,
      "outputs": [
        {
          "output_type": "stream",
          "name": "stdout",
          "text": [
            "<class 'pandas.core.frame.DataFrame'>\n",
            "Int64Index: 345 entries, 0 to 163\n",
            "Data columns (total 8 columns):\n",
            " #   Column              Non-Null Count  Dtype  \n",
            "---  ------              --------------  -----  \n",
            " 0   Ma Std              324 non-null    object \n",
            " 1   Ma Teacher          324 non-null    object \n",
            " 2   Ma ATL              324 non-null    float64\n",
            " 3   Ma Compl. Of Work   324 non-null    float64\n",
            " 4   Ma Sub Achievement  324 non-null    float64\n",
            " 5   Predicted Grade     322 non-null    float64\n",
            " 6   Actual Grade        321 non-null    float64\n",
            " 7   Scaled Total        321 non-null    float64\n",
            "dtypes: float64(6), object(2)\n",
            "memory usage: 24.3+ KB\n"
          ]
        }
      ]
    },
    {
      "cell_type": "code",
      "metadata": {
        "colab": {
          "base_uri": "https://localhost:8080/"
        },
        "id": "5oZJydJUoMfZ",
        "outputId": "fced7312-5160-442c-d3ee-1c3df7b2ffa4"
      },
      "source": [
        "df.isnull().sum()"
      ],
      "execution_count": 7,
      "outputs": [
        {
          "output_type": "execute_result",
          "data": {
            "text/plain": [
              "Ma Std                21\n",
              "Ma Teacher            21\n",
              "Ma ATL                21\n",
              "Ma Compl. Of Work     21\n",
              "Ma Sub Achievement    21\n",
              "Predicted Grade       23\n",
              "Actual Grade          24\n",
              "Scaled Total          24\n",
              "dtype: int64"
            ]
          },
          "metadata": {},
          "execution_count": 7
        }
      ]
    },
    {
      "cell_type": "code",
      "metadata": {
        "id": "knZyr35goMh5"
      },
      "source": [
        "#drop rows that have null values\n",
        "df.dropna(axis=0, inplace=True)"
      ],
      "execution_count": 8,
      "outputs": []
    },
    {
      "cell_type": "code",
      "metadata": {
        "colab": {
          "base_uri": "https://localhost:8080/"
        },
        "id": "8XTFg8vzoovA",
        "outputId": "b425b919-682d-4488-ea82-1dd77e6b079a"
      },
      "source": [
        "df.info()"
      ],
      "execution_count": 9,
      "outputs": [
        {
          "output_type": "stream",
          "name": "stdout",
          "text": [
            "<class 'pandas.core.frame.DataFrame'>\n",
            "Int64Index: 321 entries, 0 to 163\n",
            "Data columns (total 8 columns):\n",
            " #   Column              Non-Null Count  Dtype  \n",
            "---  ------              --------------  -----  \n",
            " 0   Ma Std              321 non-null    object \n",
            " 1   Ma Teacher          321 non-null    object \n",
            " 2   Ma ATL              321 non-null    float64\n",
            " 3   Ma Compl. Of Work   321 non-null    float64\n",
            " 4   Ma Sub Achievement  321 non-null    float64\n",
            " 5   Predicted Grade     321 non-null    float64\n",
            " 6   Actual Grade        321 non-null    float64\n",
            " 7   Scaled Total        321 non-null    float64\n",
            "dtypes: float64(6), object(2)\n",
            "memory usage: 22.6+ KB\n"
          ]
        }
      ]
    },
    {
      "cell_type": "code",
      "metadata": {
        "id": "E8fxjbZmoo2F"
      },
      "source": [
        "# dummify Ma Std and Ma Teacher\n",
        "col= ['Ma Std','Ma Teacher']\n",
        "\n",
        "# Creaing dummies \n",
        "df= pd.get_dummies(columns=col, data=df,drop_first=True)"
      ],
      "execution_count": 10,
      "outputs": []
    },
    {
      "cell_type": "code",
      "metadata": {
        "id": "drm9FxtKoo4v"
      },
      "source": [
        "# create train test split \n",
        "X = df.drop(['Predicted Grade','Actual Grade'],axis=1)\n",
        "y = df['Actual Grade']\n",
        "\n",
        "X_train, X_test, y_train, y_test = train_test_split(X, y, test_size=0.30, random_state=42)"
      ],
      "execution_count": 11,
      "outputs": []
    },
    {
      "cell_type": "code",
      "metadata": {
        "id": "jEuIl3DDoo7X"
      },
      "source": [
        "# instantiate standard scaler\n",
        "sc = StandardScaler()\n",
        "\n",
        "# fit standard scaler on train set\n",
        "X_train_sc = sc.fit_transform(X_train)\n",
        "\n",
        "# transform test set \n",
        "X_test_sc = sc.transform(X_test)\n"
      ],
      "execution_count": 12,
      "outputs": []
    },
    {
      "cell_type": "code",
      "metadata": {
        "id": "-5lk95hZoo99"
      },
      "source": [
        "# functions for comparing models \n",
        "\n",
        "# RMSE function\n",
        "def rmse(model, X, y):\n",
        "    rmse = np.sqrt(-cross_val_score(model, X, y, scoring=\"neg_mean_squared_error\", cv = 5))\n",
        "    return(rmse.mean())\n",
        "\n",
        "#compare train, test, and cv score\n",
        "def display_r2(model, X_train, y_train, X_test, y_test):\n",
        "    print('Train Score: ', round(model.score(X_train,y_train),7))\n",
        "    print('Test Score: ', round(model.score(X_test, y_test),7))\n",
        "    print('Cross Val Score:', round(cross_val_score(model, X_test,y_test).mean(),7))\n",
        "\n",
        "# model comparisons\n",
        "model_dictionary = {}\n",
        "def add_model(name, model, X_test, y_test):\n",
        "    model_dictionary[name] = [round(rmse(model,X_test,y_test),7), #RMSE\n",
        "                              round(model.score(X_test, y_test),7)] #r2 score\n",
        "    return pd.DataFrame.from_dict(model_dictionary, orient = 'index', columns=['RMSE', 'R2 Score'])\n",
        "    \n",
        "# Plot Residuals and Predictions\n",
        "def plot_pred(model, X_test, y_test):\n",
        "    pred = model.predict(X_test)\n",
        "    \n",
        "    \n",
        "    fig, (ax1, ax2) = plt.subplots(1, 2, figsize=(16,7))\n",
        "    \n",
        "    #Plot Residuals\n",
        "    ax1.set_title('Residuals Plot')\n",
        "    ax1.set(xlabel='Predicted values', ylabel='Residuals')\n",
        "    ax1.scatter(pred, y_test - pred)\n",
        "    ax1.hlines(y = 0, xmin = min(pred), xmax = max(pred), colors='red', linestyles='solid')\n",
        "    \n",
        "    #Plot Predictions\n",
        "    ax2.set_title('Predictions vs Actuals')\n",
        "    ax2.set(xlabel='Predicted values', ylabel='Actual Values')\n",
        "    ax2.scatter(pred, y_test)\n",
        "    \n",
        "    lims = [\n",
        "    np.min([ax2.get_xlim(), ax2.get_ylim()]),  # min of both axes\n",
        "    np.max([ax2.get_xlim(), ax2.get_ylim()]),  # max of both axes\n",
        "    ]\n",
        "    \n",
        "    ax2.plot(lims, lims, 'k-', c = 'red', zorder=0)\n",
        "                              \n",
        "    plt.show()"
      ],
      "execution_count": 13,
      "outputs": []
    },
    {
      "cell_type": "markdown",
      "metadata": {
        "id": "FA8PGArorBFm"
      },
      "source": [
        "# Baseline"
      ]
    },
    {
      "cell_type": "code",
      "metadata": {
        "id": "2u4eoYrtopAp"
      },
      "source": [
        "mean_yhat = y_train.mean()"
      ],
      "execution_count": 14,
      "outputs": []
    },
    {
      "cell_type": "code",
      "metadata": {
        "id": "elxjJ2CwopET"
      },
      "source": [
        "# Create dataframe of actual and predicted sale price for test set\n",
        "baseline = pd.DataFrame(y_test)\n",
        "baseline['yhat'] = mean_yhat"
      ],
      "execution_count": 15,
      "outputs": []
    },
    {
      "cell_type": "code",
      "metadata": {
        "colab": {
          "base_uri": "https://localhost:8080/"
        },
        "id": "pDqC7N0copHh",
        "outputId": "da421d4c-edf0-48e2-bfaa-d367041a79b4"
      },
      "source": [
        "# Calculate RMSE for test set\n",
        "print('RMSE :',(np.mean(np.square(np.expm1(y_test) - np.expm1(mean_yhat)) ** 0.5)))\n",
        "\n",
        "#Calculate r2 score\n",
        "print('r2 score:', metrics.r2_score(baseline['Actual Grade'], baseline['yhat']))"
      ],
      "execution_count": 16,
      "outputs": [
        {
          "output_type": "stream",
          "name": "stdout",
          "text": [
            "RMSE : 277.498905548502\n",
            "r2 score: -0.017812041599004846\n"
          ]
        }
      ]
    },
    {
      "cell_type": "code",
      "metadata": {
        "id": "j0rUlPMJrLSb"
      },
      "source": [
        "model_dictionary = {'Baseline': [np.mean(np.square(y_test - mean_yhat)) ** 0.5, #RMSE\n",
        "                                 metrics.r2_score(baseline['Actual Grade'], baseline['yhat'])]} #r2 Score"
      ],
      "execution_count": 17,
      "outputs": []
    },
    {
      "cell_type": "markdown",
      "metadata": {
        "id": "LqT0oa2zrR07"
      },
      "source": [
        "# Linear Regression\n",
        "\n",
        "compare the RMSE and the cross val score"
      ]
    },
    {
      "cell_type": "code",
      "metadata": {
        "colab": {
          "base_uri": "https://localhost:8080/"
        },
        "id": "kxPnSqVdrLaR",
        "outputId": "ccfe5f3d-2569-4c4b-92fd-78019ec30f4b"
      },
      "source": [
        "# instantiate linear regression \n",
        "lm = LinearRegression()\n",
        "\n",
        "# fit linear regression model on train data\n",
        "lm.fit(X_train_sc,y_train)"
      ],
      "execution_count": 18,
      "outputs": [
        {
          "output_type": "execute_result",
          "data": {
            "text/plain": [
              "LinearRegression()"
            ]
          },
          "metadata": {},
          "execution_count": 18
        }
      ]
    },
    {
      "cell_type": "code",
      "metadata": {
        "colab": {
          "base_uri": "https://localhost:8080/"
        },
        "id": "IMrZBm4CrLdM",
        "outputId": "6363f735-39c6-4d86-a705-d7153bce7e92"
      },
      "source": [
        "# compare train, test, cv scores\n",
        "display_r2(lm, X_train_sc, y_train, X_test_sc, y_test)"
      ],
      "execution_count": 19,
      "outputs": [
        {
          "output_type": "stream",
          "name": "stdout",
          "text": [
            "Train Score:  0.9431163\n",
            "Test Score:  0.9371465\n",
            "Cross Val Score: 0.9065653\n"
          ]
        }
      ]
    },
    {
      "cell_type": "code",
      "metadata": {
        "colab": {
          "base_uri": "https://localhost:8080/",
          "height": 458
        },
        "id": "3SA2UzTPrLf-",
        "outputId": "8852c835-70cf-4169-ae53-d6f21aeb7661"
      },
      "source": [
        "# plot residuals and prediction vs actual\n",
        "plot_pred(lm, X_test_sc, y_test)"
      ],
      "execution_count": 20,
      "outputs": [
        {
          "output_type": "display_data",
          "data": {
            "image/png": "[encoded data removed]",
            "text/plain": [
              "<Figure size 1152x504 with 2 Axes>"
            ]
          },
          "metadata": {
            "needs_background": "light"
          }
        }
      ]
    },
    {
      "cell_type": "code",
      "metadata": {
        "colab": {
          "base_uri": "https://localhost:8080/",
          "height": 112
        },
        "id": "UynENaIirLil",
        "outputId": "2ec7e49f-f38c-443b-f892-43548df806b6"
      },
      "source": [
        "# add model for comparison\n",
        "add_model('LinReg Default', lm, X_test_sc, y_test)"
      ],
      "execution_count": 21,
      "outputs": [
        {
          "output_type": "execute_result",
          "data": {
            "text/html": [
              "<div>\n",
              "<style scoped>\n",
              "    .dataframe tbody tr th:only-of-type {\n",
              "        vertical-align: middle;\n",
              "    }\n",
              "\n",
              "    .dataframe tbody tr th {\n",
              "        vertical-align: top;\n",
              "    }\n",
              "\n",
              "    .dataframe thead th {\n",
              "        text-align: right;\n",
              "    }\n",
              "</style>\n",
              "<table border=\"1\" class=\"dataframe\">\n",
              "  <thead>\n",
              "    <tr style=\"text-align: right;\">\n",
              "      <th></th>\n",
              "      <th>RMSE</th>\n",
              "      <th>R2 Score</th>\n",
              "    </tr>\n",
              "  </thead>\n",
              "  <tbody>\n",
              "    <tr>\n",
              "      <th>Baseline</th>\n",
              "      <td>1.218701</td>\n",
              "      <td>-0.017812</td>\n",
              "    </tr>\n",
              "    <tr>\n",
              "      <th>LinReg Default</th>\n",
              "      <td>0.353228</td>\n",
              "      <td>0.937146</td>\n",
              "    </tr>\n",
              "  </tbody>\n",
              "</table>\n",
              "</div>"
            ],
            "text/plain": [
              "                    RMSE  R2 Score\n",
              "Baseline        1.218701 -0.017812\n",
              "LinReg Default  0.353228  0.937146"
            ]
          },
          "metadata": {},
          "execution_count": 21
        }
      ]
    },
    {
      "cell_type": "markdown",
      "metadata": {
        "id": "mZMaZ0GOrywo"
      },
      "source": [
        "# Ridge Regression with hyperparameter tuning"
      ]
    },
    {
      "cell_type": "code",
      "metadata": {
        "id": "Zzn78sgqrLlP"
      },
      "source": [
        "# choose values of alpha to train\n",
        "r_alphas = np.logspace(0.01, 10, 500)\n",
        "\n",
        "# instantiate ridgeCV\n",
        "ridge_cv = RidgeCV(alphas=r_alphas, scoring='r2', cv=5)\n",
        "\n",
        "# fit ridgeCV to train data\n",
        "ridge_cv = ridge_cv.fit(X_train_sc, y_train)"
      ],
      "execution_count": 22,
      "outputs": []
    },
    {
      "cell_type": "code",
      "metadata": {
        "id": "16dXPinEsBlp"
      },
      "source": [
        "# store best value for alpha\n",
        "ridge_a = ridge_cv.alpha_"
      ],
      "execution_count": 23,
      "outputs": []
    },
    {
      "cell_type": "code",
      "metadata": {
        "colab": {
          "base_uri": "https://localhost:8080/"
        },
        "id": "JZucXwzrsBrb",
        "outputId": "c3383873-df2b-4968-86b5-fc3c28e4c73a"
      },
      "source": [
        "#instantiate ridge with best value for alpha\n",
        "ridge_tuned = Ridge(alpha = ridge_a )\n",
        "\n",
        "#fit ridge to train data\n",
        "ridge_tuned.fit(X_train_sc, y_train)"
      ],
      "execution_count": 24,
      "outputs": [
        {
          "output_type": "execute_result",
          "data": {
            "text/plain": [
              "Ridge(alpha=2.3461767214368203)"
            ]
          },
          "metadata": {},
          "execution_count": 24
        }
      ]
    },
    {
      "cell_type": "code",
      "metadata": {
        "colab": {
          "base_uri": "https://localhost:8080/"
        },
        "id": "fAG7DBRZsBux",
        "outputId": "1f0a7fed-45d6-4ecc-8183-f4bf9b508450"
      },
      "source": [
        "# compare train, test, cv scores\n",
        "display_r2(ridge_tuned, X_train_sc, y_train, X_test_sc, y_test)"
      ],
      "execution_count": 25,
      "outputs": [
        {
          "output_type": "stream",
          "name": "stdout",
          "text": [
            "Train Score:  0.9428057\n",
            "Test Score:  0.9365986\n",
            "Cross Val Score: 0.9082021\n"
          ]
        }
      ]
    },
    {
      "cell_type": "code",
      "metadata": {
        "colab": {
          "base_uri": "https://localhost:8080/",
          "height": 458
        },
        "id": "_KgC-BeEsBx2",
        "outputId": "d6d78115-71e7-4646-e27d-0181930f060d"
      },
      "source": [
        "# plot residuals and prediction vs actual\n",
        "plot_pred(ridge_tuned, X_test_sc, y_test)"
      ],
      "execution_count": 26,
      "outputs": [
        {
          "output_type": "display_data",
          "data": {
            "image/png": "[encoded data removed]",
            "text/plain": [
              "<Figure size 1152x504 with 2 Axes>"
            ]
          },
          "metadata": {
            "needs_background": "light"
          }
        }
      ]
    },
    {
      "cell_type": "code",
      "metadata": {
        "colab": {
          "base_uri": "https://localhost:8080/",
          "height": 143
        },
        "id": "ctyZWrbQsLFN",
        "outputId": "6ee11e6d-cc25-4945-c346-bb189a386395"
      },
      "source": [
        "# add model for comparison\n",
        "add_model('Ridge with Hyperparameter Tuning', ridge_tuned, X_test_sc, y_test)"
      ],
      "execution_count": 27,
      "outputs": [
        {
          "output_type": "execute_result",
          "data": {
            "text/html": [
              "<div>\n",
              "<style scoped>\n",
              "    .dataframe tbody tr th:only-of-type {\n",
              "        vertical-align: middle;\n",
              "    }\n",
              "\n",
              "    .dataframe tbody tr th {\n",
              "        vertical-align: top;\n",
              "    }\n",
              "\n",
              "    .dataframe thead th {\n",
              "        text-align: right;\n",
              "    }\n",
              "</style>\n",
              "<table border=\"1\" class=\"dataframe\">\n",
              "  <thead>\n",
              "    <tr style=\"text-align: right;\">\n",
              "      <th></th>\n",
              "      <th>RMSE</th>\n",
              "      <th>R2 Score</th>\n",
              "    </tr>\n",
              "  </thead>\n",
              "  <tbody>\n",
              "    <tr>\n",
              "      <th>Baseline</th>\n",
              "      <td>1.218701</td>\n",
              "      <td>-0.017812</td>\n",
              "    </tr>\n",
              "    <tr>\n",
              "      <th>LinReg Default</th>\n",
              "      <td>0.353228</td>\n",
              "      <td>0.937146</td>\n",
              "    </tr>\n",
              "    <tr>\n",
              "      <th>Ridge with Hyperparameter Tuning</th>\n",
              "      <td>0.352371</td>\n",
              "      <td>0.936599</td>\n",
              "    </tr>\n",
              "  </tbody>\n",
              "</table>\n",
              "</div>"
            ],
            "text/plain": [
              "                                      RMSE  R2 Score\n",
              "Baseline                          1.218701 -0.017812\n",
              "LinReg Default                    0.353228  0.937146\n",
              "Ridge with Hyperparameter Tuning  0.352371  0.936599"
            ]
          },
          "metadata": {},
          "execution_count": 27
        }
      ]
    },
    {
      "cell_type": "markdown",
      "metadata": {
        "id": "WolXNwYMsR5C"
      },
      "source": [
        "# Lasso Regression with hyperparameter tuning"
      ]
    },
    {
      "cell_type": "code",
      "metadata": {
        "id": "1c7Aa8WnsLJg"
      },
      "source": [
        "# choose values of alpha to train\n",
        "l_alphas = np.logspace(-3, 100, 500)\n",
        "\n",
        "# instantiate lassoCV\n",
        "lasso_cv = LassoCV(alphas=l_alphas, cv=5, max_iter=80000)\n",
        "\n",
        "# fit lassoCV to train data\n",
        "lasso_cv.fit(X_train_sc, y_train);\n"
      ],
      "execution_count": 28,
      "outputs": []
    },
    {
      "cell_type": "code",
      "metadata": {
        "id": "xAlGKU4osLMS"
      },
      "source": [
        "# store best value for alpha\n",
        "lasso_a = lasso_cv.alpha_"
      ],
      "execution_count": 29,
      "outputs": []
    },
    {
      "cell_type": "code",
      "metadata": {
        "colab": {
          "base_uri": "https://localhost:8080/"
        },
        "id": "tAtycK1PsbjO",
        "outputId": "d3ecca05-e302-474f-8f46-eed2799139cf"
      },
      "source": [
        "# instantiate lasso with new alpha\n",
        "lasso_tuned = Lasso(alpha = lasso_a )\n",
        "\n",
        "# fit lasso to train data\n",
        "lasso_tuned.fit(X_train_sc, y_train)"
      ],
      "execution_count": 30,
      "outputs": [
        {
          "output_type": "execute_result",
          "data": {
            "text/plain": [
              "Lasso(alpha=0.017317171337233546)"
            ]
          },
          "metadata": {},
          "execution_count": 30
        }
      ]
    },
    {
      "cell_type": "code",
      "metadata": {
        "colab": {
          "base_uri": "https://localhost:8080/"
        },
        "id": "zU67UEk8sbmV",
        "outputId": "afa4fda8-0b22-4887-fed9-a598873a4698"
      },
      "source": [
        "# compare train, test, cv scores\n",
        "\n",
        "display_r2(lasso_tuned, X_train_sc, y_train, X_test_sc, y_test)"
      ],
      "execution_count": 31,
      "outputs": [
        {
          "output_type": "stream",
          "name": "stdout",
          "text": [
            "Train Score:  0.9403191\n",
            "Test Score:  0.9365786\n",
            "Cross Val Score: 0.9212704\n"
          ]
        }
      ]
    },
    {
      "cell_type": "code",
      "metadata": {
        "colab": {
          "base_uri": "https://localhost:8080/",
          "height": 458
        },
        "id": "PjvT9PAFsbpC",
        "outputId": "da7aab4d-9b54-4aa8-ab6b-f423894f89e4"
      },
      "source": [
        "# plot residuals and prediction vs actual\n",
        "\n",
        "plot_pred(lasso_tuned, X_test_sc, y_test)"
      ],
      "execution_count": 32,
      "outputs": [
        {
          "output_type": "display_data",
          "data": {
            "image/png": "[encoded data removed]",
            "text/plain": [
              "<Figure size 1152x504 with 2 Axes>"
            ]
          },
          "metadata": {
            "needs_background": "light"
          }
        }
      ]
    },
    {
      "cell_type": "code",
      "metadata": {
        "colab": {
          "base_uri": "https://localhost:8080/",
          "height": 175
        },
        "id": "tn_5bxY-sbrt",
        "outputId": "01c2a89d-aa01-4c76-985b-950a675e8f7d"
      },
      "source": [
        "# add model for comparison\n",
        "\n",
        "add_model('Lasso with Hyperparameter Tuning', lasso_tuned, X_test_sc, y_test)"
      ],
      "execution_count": 33,
      "outputs": [
        {
          "output_type": "execute_result",
          "data": {
            "text/html": [
              "<div>\n",
              "<style scoped>\n",
              "    .dataframe tbody tr th:only-of-type {\n",
              "        vertical-align: middle;\n",
              "    }\n",
              "\n",
              "    .dataframe tbody tr th {\n",
              "        vertical-align: top;\n",
              "    }\n",
              "\n",
              "    .dataframe thead th {\n",
              "        text-align: right;\n",
              "    }\n",
              "</style>\n",
              "<table border=\"1\" class=\"dataframe\">\n",
              "  <thead>\n",
              "    <tr style=\"text-align: right;\">\n",
              "      <th></th>\n",
              "      <th>RMSE</th>\n",
              "      <th>R2 Score</th>\n",
              "    </tr>\n",
              "  </thead>\n",
              "  <tbody>\n",
              "    <tr>\n",
              "      <th>Baseline</th>\n",
              "      <td>1.218701</td>\n",
              "      <td>-0.017812</td>\n",
              "    </tr>\n",
              "    <tr>\n",
              "      <th>LinReg Default</th>\n",
              "      <td>0.353228</td>\n",
              "      <td>0.937146</td>\n",
              "    </tr>\n",
              "    <tr>\n",
              "      <th>Ridge with Hyperparameter Tuning</th>\n",
              "      <td>0.352371</td>\n",
              "      <td>0.936599</td>\n",
              "    </tr>\n",
              "    <tr>\n",
              "      <th>Lasso with Hyperparameter Tuning</th>\n",
              "      <td>0.323212</td>\n",
              "      <td>0.936579</td>\n",
              "    </tr>\n",
              "  </tbody>\n",
              "</table>\n",
              "</div>"
            ],
            "text/plain": [
              "                                      RMSE  R2 Score\n",
              "Baseline                          1.218701 -0.017812\n",
              "LinReg Default                    0.353228  0.937146\n",
              "Ridge with Hyperparameter Tuning  0.352371  0.936599\n",
              "Lasso with Hyperparameter Tuning  0.323212  0.936579"
            ]
          },
          "metadata": {},
          "execution_count": 33
        }
      ]
    }
  ]
}