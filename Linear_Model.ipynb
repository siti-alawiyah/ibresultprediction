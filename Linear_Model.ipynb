{
  "nbformat": 4,
  "nbformat_minor": 0,
  "metadata": {
    "colab": {
      "name": "Linear Model",
      "provenance": [],
      "collapsed_sections": [],
      "authorship_tag": "ABX9TyNDwCnVIbAfnt/3zeF0WiZF",
      "include_colab_link": true
    },
    "kernelspec": {
      "name": "python3",
      "display_name": "Python 3"
    },
    "language_info": {
      "name": "python"
    }
  },
  "cells": [
    {
      "cell_type": "markdown",
      "metadata": {
        "id": "view-in-github",
        "colab_type": "text"
      },
      "source": [
        "<a href=\"https://colab.research.google.com/github/siti-alawiyah/ibresultprediction/blob/main/Linear_Model.ipynb\" target=\"_parent\"><img src=\"https://colab.research.google.com/assets/colab-badge.svg\" alt=\"Open In Colab\"/></a>"
      ]
    },
    {
      "cell_type": "code",
      "metadata": {
        "id": "uN6LipTY2xrC"
      },
      "source": [
        "# imports\n",
        "# ignore future warnings\n",
        "import warnings\n",
        "warnings.simplefilter(action='ignore', category=FutureWarning)\n",
        "\n",
        "# import libraries\n",
        "import pandas as pd\n",
        "import numpy as np\n",
        "import matplotlib.pyplot as plt\n",
        "import seaborn as sns\n",
        "import missingno as msno\n",
        "\n",
        "from sklearn.preprocessing import StandardScaler, PolynomialFeatures\n",
        "from sklearn.model_selection import train_test_split, cross_val_score, GridSearchCV\n",
        "from sklearn.linear_model import LinearRegression, Ridge, RidgeCV, Lasso, LassoCV\n",
        "from sklearn import metrics\n",
        "\n",
        "import statsmodels.api as sm\n",
        "from scipy import stats"
      ],
      "execution_count": 18,
      "outputs": []
    },
    {
      "cell_type": "code",
      "metadata": {
        "id": "ow9AnsRfoMQe"
      },
      "source": [
        "# links to dataset\n",
        "URL1 = \"https://raw.githubusercontent.com/siti-alawiyah/ibresultprediction/main/data/2020IB.csv\"\n",
        "URL2 = \"https://raw.githubusercontent.com/siti-alawiyah/ibresultprediction/main/data/2019IB.csv\"\n",
        "URL3 = \"https://raw.githubusercontent.com/siti-alawiyah/ibresultprediction/main/data/2018IB.csv\"   \n",
        "URL4 = \"https://raw.githubusercontent.com/siti-alawiyah/ibresultprediction/main/data/2017IB.csv\"      "
      ],
      "execution_count": 19,
      "outputs": []
    },
    {
      "cell_type": "code",
      "metadata": {
        "id": "4WcygR0d9QaI"
      },
      "source": [
        "# read the url for the datasets\n",
        "df20 = pd.read_csv(URL1)\n",
        "df19 = pd.read_csv(URL2)\n",
        "df18 = pd.read_csv(URL3)\n",
        "df17 = pd.read_csv(URL4)"
      ],
      "execution_count": 20,
      "outputs": []
    },
    {
      "cell_type": "code",
      "metadata": {
        "id": "Ffrhg1IwoMXh"
      },
      "source": [
        "# getting the columns prior for modelling\n",
        "df20 = df20[[\"Ma Std\",\"Ma Teacher\",\"Ma ATL\",\"Ma Compl. Of Work\",\"Ma Sub Achievement\",\"Predicted Grade\",\"Actual Grade\",\"Scaled Total\"]]\n",
        "df19 = df19[[\"Ma Std\",\"Ma Teacher\",\"Ma ATL\",\"Ma Compl. Of Work\",\"Ma Sub Achievement\",\"Predicted Grade\",\"Actual Grade\",\"Scaled Total\"]]\n",
        "df18 = df18[[\"Ma Std\",\"Ma Teacher\",\"Ma ATL\",\"Ma Compl. Of Work\",\"Ma Sub Achievement\",\"Predicted Grade\",\"Actual Grade\",\"Scaled Total\"]]\n",
        "df17 = df17[[\"Ma Std\",\"Ma Teacher\",\"Ma ATL\",\"Ma Compl. Of Work\",\"Ma Sub Achievement\",\"Predicted Grade\",\"Actual Grade\",\"Scaled Total\"]]"
      ],
      "execution_count": 21,
      "outputs": []
    },
    {
      "cell_type": "code",
      "metadata": {
        "id": "q-hFcORpoMaP"
      },
      "source": [
        "# combine the dataframes into 1 before modelling\n",
        "frames = [df20,df19,df18,df17]\n",
        "df = pd.concat(frames)"
      ],
      "execution_count": 22,
      "outputs": []
    },
    {
      "cell_type": "code",
      "metadata": {
        "colab": {
          "base_uri": "https://localhost:8080/"
        },
        "id": "hj3w_HjEoMdA",
        "outputId": "386f5430-2c3a-4ae2-8392-bf09fe4bf962"
      },
      "source": [
        "df.info()"
      ],
      "execution_count": 23,
      "outputs": [
        {
          "output_type": "stream",
          "name": "stdout",
          "text": [
            "<class 'pandas.core.frame.DataFrame'>\n",
            "Int64Index: 692 entries, 0 to 178\n",
            "Data columns (total 8 columns):\n",
            " #   Column              Non-Null Count  Dtype  \n",
            "---  ------              --------------  -----  \n",
            " 0   Ma Std              657 non-null    object \n",
            " 1   Ma Teacher          657 non-null    object \n",
            " 2   Ma ATL              657 non-null    float64\n",
            " 3   Ma Compl. Of Work   654 non-null    float64\n",
            " 4   Ma Sub Achievement  657 non-null    float64\n",
            " 5   Predicted Grade     654 non-null    float64\n",
            " 6   Actual Grade        652 non-null    float64\n",
            " 7   Scaled Total        653 non-null    float64\n",
            "dtypes: float64(6), object(2)\n",
            "memory usage: 48.7+ KB\n"
          ]
        }
      ]
    },
    {
      "cell_type": "code",
      "metadata": {
        "colab": {
          "base_uri": "https://localhost:8080/"
        },
        "id": "5oZJydJUoMfZ",
        "outputId": "e2a3f4ea-8378-4d19-acd0-abfccdde936b"
      },
      "source": [
        "df.isnull().sum()"
      ],
      "execution_count": 24,
      "outputs": [
        {
          "output_type": "execute_result",
          "data": {
            "text/plain": [
              "Ma Std                35\n",
              "Ma Teacher            35\n",
              "Ma ATL                35\n",
              "Ma Compl. Of Work     38\n",
              "Ma Sub Achievement    35\n",
              "Predicted Grade       38\n",
              "Actual Grade          40\n",
              "Scaled Total          39\n",
              "dtype: int64"
            ]
          },
          "metadata": {},
          "execution_count": 24
        }
      ]
    },
    {
      "cell_type": "code",
      "metadata": {
        "id": "knZyr35goMh5"
      },
      "source": [
        "#drop rows that have null values\n",
        "df.dropna(axis=0, inplace=True)"
      ],
      "execution_count": 25,
      "outputs": []
    },
    {
      "cell_type": "code",
      "metadata": {
        "colab": {
          "base_uri": "https://localhost:8080/"
        },
        "id": "8XTFg8vzoovA",
        "outputId": "4b58f076-801d-42c9-db83-730a2dd2435f"
      },
      "source": [
        "df.info()"
      ],
      "execution_count": 26,
      "outputs": [
        {
          "output_type": "stream",
          "name": "stdout",
          "text": [
            "<class 'pandas.core.frame.DataFrame'>\n",
            "Int64Index: 650 entries, 0 to 177\n",
            "Data columns (total 8 columns):\n",
            " #   Column              Non-Null Count  Dtype  \n",
            "---  ------              --------------  -----  \n",
            " 0   Ma Std              650 non-null    object \n",
            " 1   Ma Teacher          650 non-null    object \n",
            " 2   Ma ATL              650 non-null    float64\n",
            " 3   Ma Compl. Of Work   650 non-null    float64\n",
            " 4   Ma Sub Achievement  650 non-null    float64\n",
            " 5   Predicted Grade     650 non-null    float64\n",
            " 6   Actual Grade        650 non-null    float64\n",
            " 7   Scaled Total        650 non-null    float64\n",
            "dtypes: float64(6), object(2)\n",
            "memory usage: 45.7+ KB\n"
          ]
        }
      ]
    },
    {
      "cell_type": "code",
      "metadata": {
        "id": "E8fxjbZmoo2F"
      },
      "source": [
        "# dummify Ma Std and Ma Teacher\n",
        "col= ['Ma Std','Ma Teacher']\n",
        "\n",
        "# Creaing dummies \n",
        "df= pd.get_dummies(columns=col, data=df,drop_first=True)"
      ],
      "execution_count": 27,
      "outputs": []
    },
    {
      "cell_type": "code",
      "metadata": {
        "id": "drm9FxtKoo4v"
      },
      "source": [
        "# create train test split \n",
        "X = df.drop(['Predicted Grade','Actual Grade'],axis=1)\n",
        "y = df['Actual Grade']\n",
        "\n",
        "X_train, X_test, y_train, y_test = train_test_split(X, y, test_size=0.30, random_state=42)"
      ],
      "execution_count": 28,
      "outputs": []
    },
    {
      "cell_type": "code",
      "metadata": {
        "id": "jEuIl3DDoo7X"
      },
      "source": [
        "# instantiate standard scaler\n",
        "sc = StandardScaler()\n",
        "\n",
        "# fit standard scaler on train set\n",
        "X_train_sc = sc.fit_transform(X_train)\n",
        "\n",
        "# transform test set \n",
        "X_test_sc = sc.transform(X_test)\n"
      ],
      "execution_count": 29,
      "outputs": []
    },
    {
      "cell_type": "code",
      "metadata": {
        "id": "-5lk95hZoo99"
      },
      "source": [
        "# functions for comparing models \n",
        "\n",
        "# RMSE function\n",
        "def rmse(model, X, y):\n",
        "    rmse = np.sqrt(-cross_val_score(model, X, y, scoring=\"neg_mean_squared_error\", cv = 5))\n",
        "    return(rmse.mean())\n",
        "\n",
        "#compare train, test, and cv score\n",
        "def display_r2(model, X_train, y_train, X_test, y_test):\n",
        "    print('Train Score: ', round(model.score(X_train,y_train),7))\n",
        "    print('Test Score: ', round(model.score(X_test, y_test),7))\n",
        "    print('Cross Val Score:', round(cross_val_score(model, X_test,y_test).mean(),7))\n",
        "\n",
        "# model comparisons\n",
        "model_dictionary = {}\n",
        "def add_model(name, model, X_test, y_test):\n",
        "    model_dictionary[name] = [round(rmse(model,X_test,y_test),7), #RMSE\n",
        "                              round(model.score(X_test, y_test),7)] #r2 score\n",
        "    return pd.DataFrame.from_dict(model_dictionary, orient = 'index', columns=['RMSE', 'R2 Score'])\n",
        "    \n",
        "# Plot Residuals and Predictions\n",
        "def plot_pred(model, X_test, y_test):\n",
        "    pred = model.predict(X_test)\n",
        "    \n",
        "    \n",
        "    fig, (ax1, ax2) = plt.subplots(1, 2, figsize=(16,7))\n",
        "    \n",
        "    #Plot Residuals\n",
        "    ax1.set_title('Residuals Plot')\n",
        "    ax1.set(xlabel='Predicted values', ylabel='Residuals')\n",
        "    ax1.scatter(pred, y_test - pred)\n",
        "    ax1.hlines(y = 0, xmin = min(pred), xmax = max(pred), colors='red', linestyles='solid')\n",
        "    \n",
        "    #Plot Predictions\n",
        "    ax2.set_title('Predictions vs Actuals')\n",
        "    ax2.set(xlabel='Predicted values', ylabel='Actual Values')\n",
        "    ax2.scatter(pred, y_test)\n",
        "    \n",
        "    lims = [\n",
        "    np.min([ax2.get_xlim(), ax2.get_ylim()]),  # min of both axes\n",
        "    np.max([ax2.get_xlim(), ax2.get_ylim()]),  # max of both axes\n",
        "    ]\n",
        "    \n",
        "    ax2.plot(lims, lims, 'k-', c = 'red', zorder=0)\n",
        "                              \n",
        "    plt.show()"
      ],
      "execution_count": 30,
      "outputs": []
    },
    {
      "cell_type": "markdown",
      "metadata": {
        "id": "FA8PGArorBFm"
      },
      "source": [
        "# Baseline"
      ]
    },
    {
      "cell_type": "code",
      "metadata": {
        "id": "2u4eoYrtopAp"
      },
      "source": [
        "mean_yhat = y_train.mean()"
      ],
      "execution_count": 31,
      "outputs": []
    },
    {
      "cell_type": "code",
      "metadata": {
        "id": "elxjJ2CwopET"
      },
      "source": [
        "# Create dataframe of actual and predicted sale price for test set\n",
        "baseline = pd.DataFrame(y_test)\n",
        "baseline['yhat'] = mean_yhat"
      ],
      "execution_count": 32,
      "outputs": []
    },
    {
      "cell_type": "code",
      "metadata": {
        "colab": {
          "base_uri": "https://localhost:8080/"
        },
        "id": "pDqC7N0copHh",
        "outputId": "688ed1c3-570f-41b2-e9b7-dbccdbee6b4a"
      },
      "source": [
        "# Calculate RMSE for test set\n",
        "print('RMSE :',(np.mean(np.square(np.expm1(y_test) - np.expm1(mean_yhat)) ** 0.5)))\n",
        "\n",
        "#Calculate r2 score\n",
        "print('r2 score:', metrics.r2_score(baseline['Actual Grade'], baseline['yhat']))"
      ],
      "execution_count": 33,
      "outputs": [
        {
          "output_type": "stream",
          "name": "stdout",
          "text": [
            "RMSE : 261.04692888537073\n",
            "r2 score: -0.0002563633484908845\n"
          ]
        }
      ]
    },
    {
      "cell_type": "code",
      "metadata": {
        "id": "j0rUlPMJrLSb"
      },
      "source": [
        "model_dictionary = {'Baseline': [np.mean(np.square(y_test - mean_yhat)) ** 0.5, #RMSE\n",
        "                                 metrics.r2_score(baseline['Actual Grade'], baseline['yhat'])]} #r2 Score"
      ],
      "execution_count": 34,
      "outputs": []
    },
    {
      "cell_type": "markdown",
      "metadata": {
        "id": "LqT0oa2zrR07"
      },
      "source": [
        "# Linear Regression\n",
        "\n",
        "compare the RMSE and the cross val score"
      ]
    },
    {
      "cell_type": "code",
      "metadata": {
        "colab": {
          "base_uri": "https://localhost:8080/"
        },
        "id": "kxPnSqVdrLaR",
        "outputId": "87fbe268-30c2-4494-cedd-5bef126a5e53"
      },
      "source": [
        "# instantiate linear regression \n",
        "lm = LinearRegression()\n",
        "\n",
        "# fit linear regression model on train data\n",
        "lm.fit(X_train_sc,y_train)"
      ],
      "execution_count": 35,
      "outputs": [
        {
          "output_type": "execute_result",
          "data": {
            "text/plain": [
              "LinearRegression()"
            ]
          },
          "metadata": {},
          "execution_count": 35
        }
      ]
    },
    {
      "cell_type": "code",
      "metadata": {
        "colab": {
          "base_uri": "https://localhost:8080/"
        },
        "id": "IMrZBm4CrLdM",
        "outputId": "e890c279-9f2d-40dc-d9ec-a251655e6d48"
      },
      "source": [
        "# compare train, test, cv scores\n",
        "display_r2(lm, X_train_sc, y_train, X_test_sc, y_test)"
      ],
      "execution_count": 36,
      "outputs": [
        {
          "output_type": "stream",
          "name": "stdout",
          "text": [
            "Train Score:  0.9358288\n",
            "Test Score:  0.9359327\n",
            "Cross Val Score: 0.9212869\n"
          ]
        }
      ]
    },
    {
      "cell_type": "code",
      "metadata": {
        "colab": {
          "base_uri": "https://localhost:8080/",
          "height": 458
        },
        "id": "3SA2UzTPrLf-",
        "outputId": "0c73623a-3f74-488a-990c-3f7524dc1bb3"
      },
      "source": [
        "# plot residuals and prediction vs actual\n",
        "plot_pred(lm, X_test_sc, y_test)"
      ],
      "execution_count": 37,
      "outputs": [
        {
          "output_type": "display_data",
          "data": {
            "image/png": "[encoded data removed]",
            "text/plain": [
              "<Figure size 1152x504 with 2 Axes>"
            ]
          },
          "metadata": {
            "needs_background": "light"
          }
        }
      ]
    },
    {
      "cell_type": "code",
      "metadata": {
        "colab": {
          "base_uri": "https://localhost:8080/",
          "height": 112
        },
        "id": "UynENaIirLil",
        "outputId": "e1b2f0d2-bd59-478b-a6e7-bd74b9a67798"
      },
      "source": [
        "# add model for comparison\n",
        "add_model('LinReg Default', lm, X_test_sc, y_test)"
      ],
      "execution_count": 38,
      "outputs": [
        {
          "output_type": "execute_result",
          "data": {
            "text/html": [
              "<div>\n",
              "<style scoped>\n",
              "    .dataframe tbody tr th:only-of-type {\n",
              "        vertical-align: middle;\n",
              "    }\n",
              "\n",
              "    .dataframe tbody tr th {\n",
              "        vertical-align: top;\n",
              "    }\n",
              "\n",
              "    .dataframe thead th {\n",
              "        text-align: right;\n",
              "    }\n",
              "</style>\n",
              "<table border=\"1\" class=\"dataframe\">\n",
              "  <thead>\n",
              "    <tr style=\"text-align: right;\">\n",
              "      <th></th>\n",
              "      <th>RMSE</th>\n",
              "      <th>R2 Score</th>\n",
              "    </tr>\n",
              "  </thead>\n",
              "  <tbody>\n",
              "    <tr>\n",
              "      <th>Baseline</th>\n",
              "      <td>1.144024</td>\n",
              "      <td>-0.000256</td>\n",
              "    </tr>\n",
              "    <tr>\n",
              "      <th>LinReg Default</th>\n",
              "      <td>0.315863</td>\n",
              "      <td>0.935933</td>\n",
              "    </tr>\n",
              "  </tbody>\n",
              "</table>\n",
              "</div>"
            ],
            "text/plain": [
              "                    RMSE  R2 Score\n",
              "Baseline        1.144024 -0.000256\n",
              "LinReg Default  0.315863  0.935933"
            ]
          },
          "metadata": {},
          "execution_count": 38
        }
      ]
    },
    {
      "cell_type": "markdown",
      "metadata": {
        "id": "mZMaZ0GOrywo"
      },
      "source": [
        "# Ridge Regression with hyperparameter tuning"
      ]
    },
    {
      "cell_type": "code",
      "metadata": {
        "id": "Zzn78sgqrLlP"
      },
      "source": [
        "# choose values of alpha to train\n",
        "r_alphas = np.logspace(0.01, 10, 500)\n",
        "\n",
        "# instantiate ridgeCV\n",
        "ridge_cv = RidgeCV(alphas=r_alphas, scoring='r2', cv=5)\n",
        "\n",
        "# fit ridgeCV to train data\n",
        "ridge_cv = ridge_cv.fit(X_train_sc, y_train)"
      ],
      "execution_count": 39,
      "outputs": []
    },
    {
      "cell_type": "code",
      "metadata": {
        "id": "16dXPinEsBlp"
      },
      "source": [
        "# store best value for alpha\n",
        "ridge_a = ridge_cv.alpha_"
      ],
      "execution_count": 40,
      "outputs": []
    },
    {
      "cell_type": "code",
      "metadata": {
        "colab": {
          "base_uri": "https://localhost:8080/"
        },
        "id": "JZucXwzrsBrb",
        "outputId": "a3cb20a9-b10e-4e8e-c000-b52f1233880a"
      },
      "source": [
        "#instantiate ridge with best value for alpha\n",
        "ridge_tuned = Ridge(alpha = ridge_a )\n",
        "\n",
        "#fit ridge to train data\n",
        "ridge_tuned.fit(X_train_sc, y_train)"
      ],
      "execution_count": 41,
      "outputs": [
        {
          "output_type": "execute_result",
          "data": {
            "text/plain": [
              "Ridge(alpha=1.2885468108547453)"
            ]
          },
          "metadata": {},
          "execution_count": 41
        }
      ]
    },
    {
      "cell_type": "code",
      "metadata": {
        "colab": {
          "base_uri": "https://localhost:8080/"
        },
        "id": "fAG7DBRZsBux",
        "outputId": "b3fa887d-dd7f-4c9d-b983-618ba3094544"
      },
      "source": [
        "# compare train, test, cv scores\n",
        "display_r2(ridge_tuned, X_train_sc, y_train, X_test_sc, y_test)"
      ],
      "execution_count": 42,
      "outputs": [
        {
          "output_type": "stream",
          "name": "stdout",
          "text": [
            "Train Score:  0.9358746\n",
            "Test Score:  0.9360413\n",
            "Cross Val Score: 0.920371\n"
          ]
        }
      ]
    },
    {
      "cell_type": "code",
      "metadata": {
        "colab": {
          "base_uri": "https://localhost:8080/",
          "height": 458
        },
        "id": "_KgC-BeEsBx2",
        "outputId": "3d59aeeb-fdad-4c55-d70e-66c81fe77bcc"
      },
      "source": [
        "# plot residuals and prediction vs actual\n",
        "plot_pred(ridge_tuned, X_test_sc, y_test)"
      ],
      "execution_count": 43,
      "outputs": [
        {
          "output_type": "display_data",
          "data": {
            "image/png": "[encoded data removed]",
            "text/plain": [
              "<Figure size 1152x504 with 2 Axes>"
            ]
          },
          "metadata": {
            "needs_background": "light"
          }
        }
      ]
    },
    {
      "cell_type": "code",
      "metadata": {
        "colab": {
          "base_uri": "https://localhost:8080/",
          "height": 143
        },
        "id": "ctyZWrbQsLFN",
        "outputId": "cd083801-449d-4885-adea-0a3ffcdd7d80"
      },
      "source": [
        "# add model for comparison\n",
        "add_model('Ridge with Hyperparameter Tuning', ridge_tuned, X_test_sc, y_test)"
      ],
      "execution_count": 44,
      "outputs": [
        {
          "output_type": "execute_result",
          "data": {
            "text/html": [
              "<div>\n",
              "<style scoped>\n",
              "    .dataframe tbody tr th:only-of-type {\n",
              "        vertical-align: middle;\n",
              "    }\n",
              "\n",
              "    .dataframe tbody tr th {\n",
              "        vertical-align: top;\n",
              "    }\n",
              "\n",
              "    .dataframe thead th {\n",
              "        text-align: right;\n",
              "    }\n",
              "</style>\n",
              "<table border=\"1\" class=\"dataframe\">\n",
              "  <thead>\n",
              "    <tr style=\"text-align: right;\">\n",
              "      <th></th>\n",
              "      <th>RMSE</th>\n",
              "      <th>R2 Score</th>\n",
              "    </tr>\n",
              "  </thead>\n",
              "  <tbody>\n",
              "    <tr>\n",
              "      <th>Baseline</th>\n",
              "      <td>1.144024</td>\n",
              "      <td>-0.000256</td>\n",
              "    </tr>\n",
              "    <tr>\n",
              "      <th>LinReg Default</th>\n",
              "      <td>0.315863</td>\n",
              "      <td>0.935933</td>\n",
              "    </tr>\n",
              "    <tr>\n",
              "      <th>Ridge with Hyperparameter Tuning</th>\n",
              "      <td>0.317564</td>\n",
              "      <td>0.936041</td>\n",
              "    </tr>\n",
              "  </tbody>\n",
              "</table>\n",
              "</div>"
            ],
            "text/plain": [
              "                                      RMSE  R2 Score\n",
              "Baseline                          1.144024 -0.000256\n",
              "LinReg Default                    0.315863  0.935933\n",
              "Ridge with Hyperparameter Tuning  0.317564  0.936041"
            ]
          },
          "metadata": {},
          "execution_count": 44
        }
      ]
    },
    {
      "cell_type": "markdown",
      "metadata": {
        "id": "WolXNwYMsR5C"
      },
      "source": [
        "# Lasso Regression with hyperparameter tuning"
      ]
    },
    {
      "cell_type": "code",
      "metadata": {
        "id": "1c7Aa8WnsLJg"
      },
      "source": [
        "# choose values of alpha to train\n",
        "l_alphas = np.logspace(-3, 100, 500)\n",
        "\n",
        "# instantiate lassoCV\n",
        "lasso_cv = LassoCV(alphas=l_alphas, cv=5, max_iter=80000)\n",
        "\n",
        "# fit lassoCV to train data\n",
        "lasso_cv.fit(X_train_sc, y_train);\n"
      ],
      "execution_count": 45,
      "outputs": []
    },
    {
      "cell_type": "code",
      "metadata": {
        "id": "xAlGKU4osLMS"
      },
      "source": [
        "# store best value for alpha\n",
        "lasso_a = lasso_cv.alpha_"
      ],
      "execution_count": 46,
      "outputs": []
    },
    {
      "cell_type": "code",
      "metadata": {
        "colab": {
          "base_uri": "https://localhost:8080/"
        },
        "id": "tAtycK1PsbjO",
        "outputId": "eca52e49-6f47-400f-83fe-30578f3a1cca"
      },
      "source": [
        "# instantiate lasso with new alpha\n",
        "lasso_tuned = Lasso(alpha = lasso_a )\n",
        "\n",
        "# fit lasso to train data\n",
        "lasso_tuned.fit(X_train_sc, y_train)"
      ],
      "execution_count": 47,
      "outputs": [
        {
          "output_type": "execute_result",
          "data": {
            "text/plain": [
              "Lasso(alpha=0.010766241770454934)"
            ]
          },
          "metadata": {},
          "execution_count": 47
        }
      ]
    },
    {
      "cell_type": "code",
      "metadata": {
        "colab": {
          "base_uri": "https://localhost:8080/"
        },
        "id": "zU67UEk8sbmV",
        "outputId": "9254a436-9f41-4aef-870f-8c3d3003f95c"
      },
      "source": [
        "# compare train, test, cv scores\n",
        "\n",
        "display_r2(lasso_tuned, X_train_sc, y_train, X_test_sc, y_test)"
      ],
      "execution_count": 48,
      "outputs": [
        {
          "output_type": "stream",
          "name": "stdout",
          "text": [
            "Train Score:  0.9341888\n",
            "Test Score:  0.936768\n",
            "Cross Val Score: 0.9253762\n"
          ]
        }
      ]
    },
    {
      "cell_type": "code",
      "metadata": {
        "colab": {
          "base_uri": "https://localhost:8080/",
          "height": 458
        },
        "id": "PjvT9PAFsbpC",
        "outputId": "64f63572-817b-441a-f202-ab8e45973216"
      },
      "source": [
        "# plot residuals and prediction vs actual\n",
        "\n",
        "plot_pred(lasso_tuned, X_test_sc, y_test)"
      ],
      "execution_count": 49,
      "outputs": [
        {
          "output_type": "display_data",
          "data": {
            "image/png": "[encoded data removed]",
            "text/plain": [
              "<Figure size 1152x504 with 2 Axes>"
            ]
          },
          "metadata": {
            "needs_background": "light"
          }
        }
      ]
    },
    {
      "cell_type": "code",
      "metadata": {
        "colab": {
          "base_uri": "https://localhost:8080/",
          "height": 174
        },
        "id": "tn_5bxY-sbrt",
        "outputId": "1b7a0e62-51d6-4462-afe5-7a7e0ad57384"
      },
      "source": [
        "# add model for comparison\n",
        "\n",
        "add_model('Lasso with Hyperparameter Tuning', lasso_tuned, X_test_sc, y_test)"
      ],
      "execution_count": 50,
      "outputs": [
        {
          "output_type": "execute_result",
          "data": {
            "text/html": [
              "<div>\n",
              "<style scoped>\n",
              "    .dataframe tbody tr th:only-of-type {\n",
              "        vertical-align: middle;\n",
              "    }\n",
              "\n",
              "    .dataframe tbody tr th {\n",
              "        vertical-align: top;\n",
              "    }\n",
              "\n",
              "    .dataframe thead th {\n",
              "        text-align: right;\n",
              "    }\n",
              "</style>\n",
              "<table border=\"1\" class=\"dataframe\">\n",
              "  <thead>\n",
              "    <tr style=\"text-align: right;\">\n",
              "      <th></th>\n",
              "      <th>RMSE</th>\n",
              "      <th>R2 Score</th>\n",
              "    </tr>\n",
              "  </thead>\n",
              "  <tbody>\n",
              "    <tr>\n",
              "      <th>Baseline</th>\n",
              "      <td>1.144024</td>\n",
              "      <td>-0.000256</td>\n",
              "    </tr>\n",
              "    <tr>\n",
              "      <th>LinReg Default</th>\n",
              "      <td>0.315863</td>\n",
              "      <td>0.935933</td>\n",
              "    </tr>\n",
              "    <tr>\n",
              "      <th>Ridge with Hyperparameter Tuning</th>\n",
              "      <td>0.317564</td>\n",
              "      <td>0.936041</td>\n",
              "    </tr>\n",
              "    <tr>\n",
              "      <th>Lasso with Hyperparameter Tuning</th>\n",
              "      <td>0.307547</td>\n",
              "      <td>0.936768</td>\n",
              "    </tr>\n",
              "  </tbody>\n",
              "</table>\n",
              "</div>"
            ],
            "text/plain": [
              "                                      RMSE  R2 Score\n",
              "Baseline                          1.144024 -0.000256\n",
              "LinReg Default                    0.315863  0.935933\n",
              "Ridge with Hyperparameter Tuning  0.317564  0.936041\n",
              "Lasso with Hyperparameter Tuning  0.307547  0.936768"
            ]
          },
          "metadata": {},
          "execution_count": 50
        }
      ]
    },
    {
      "cell_type": "markdown",
      "metadata": {
        "id": "CJ01acWn950t"
      },
      "source": [
        "# Conclusion "
      ]
    },
    {
      "cell_type": "code",
      "metadata": {
        "id": "HF4ixDH1-BAU"
      },
      "source": [
        ""
      ],
      "execution_count": null,
      "outputs": []
    }
  ]
}