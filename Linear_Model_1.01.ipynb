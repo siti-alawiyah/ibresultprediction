{
  "nbformat": 4,
  "nbformat_minor": 0,
  "metadata": {
    "colab": {
      "name": "Linear Model",
      "provenance": [],
      "collapsed_sections": [],
      "toc_visible": true,
      "authorship_tag": "ABX9TyOVZLiNsvlh0Q+XitAJB8eQ",
      "include_colab_link": true
    },
    "kernelspec": {
      "name": "python3",
      "display_name": "Python 3"
    },
    "language_info": {
      "name": "python"
    }
  },
  "cells": [
    {
      "cell_type": "markdown",
      "metadata": {
        "id": "view-in-github",
        "colab_type": "text"
      },
      "source": [
        "<a href=\"https://colab.research.google.com/github/siti-alawiyah/ibresultprediction/blob/main/Linear_Model_1.01.ipynb\" target=\"_parent\"><img src=\"https://colab.research.google.com/assets/colab-badge.svg\" alt=\"Open In Colab\"/></a>"
      ]
    },
    {
      "cell_type": "markdown",
      "source": [
        "Since the aim of the project is to predict a student's IB score based on a subject, I shall take all columns that are related to mathematics."
      ],
      "metadata": {
        "id": "loTfG2csCp1h"
      }
    },
    {
      "cell_type": "markdown",
      "source": [
        "# Import Data"
      ],
      "metadata": {
        "id": "ay9Adp-p0bSU"
      }
    },
    {
      "cell_type": "code",
      "metadata": {
        "id": "uN6LipTY2xrC"
      },
      "source": [
        "# imports\n",
        "# ignore future warnings\n",
        "import warnings\n",
        "warnings.simplefilter(action='ignore', category=FutureWarning)\n",
        "\n",
        "# import libraries\n",
        "import pandas as pd\n",
        "import numpy as np\n",
        "import matplotlib.pyplot as plt\n",
        "import seaborn as sns\n",
        "import missingno as msno\n",
        "\n",
        "from sklearn.preprocessing import StandardScaler, PolynomialFeatures\n",
        "from sklearn.model_selection import train_test_split, cross_val_score, GridSearchCV\n",
        "from sklearn.linear_model import LinearRegression, Ridge, RidgeCV, Lasso, LassoCV\n",
        "from sklearn import metrics\n",
        "\n",
        "import statsmodels.api as sm\n",
        "from scipy import stats"
      ],
      "execution_count": 1,
      "outputs": []
    },
    {
      "cell_type": "code",
      "metadata": {
        "id": "ow9AnsRfoMQe"
      },
      "source": [
        "# links to dataset\n",
        "URL1 = \"https://raw.githubusercontent.com/siti-alawiyah/ibresultprediction/main/data/2020IB.csv\"\n",
        "URL2 = \"https://raw.githubusercontent.com/siti-alawiyah/ibresultprediction/main/data/2019IB.csv\"\n",
        "URL3 = \"https://raw.githubusercontent.com/siti-alawiyah/ibresultprediction/main/data/2018IB.csv\"   \n",
        "URL4 = \"https://raw.githubusercontent.com/siti-alawiyah/ibresultprediction/main/data/2017IB.csv\"      "
      ],
      "execution_count": 2,
      "outputs": []
    },
    {
      "cell_type": "code",
      "metadata": {
        "id": "4WcygR0d9QaI"
      },
      "source": [
        "# read the url for the datasets\n",
        "df20 = pd.read_csv(URL1)\n",
        "df19 = pd.read_csv(URL2)\n",
        "df18 = pd.read_csv(URL3)\n",
        "df17 = pd.read_csv(URL4)"
      ],
      "execution_count": 3,
      "outputs": []
    },
    {
      "cell_type": "code",
      "metadata": {
        "id": "Ffrhg1IwoMXh"
      },
      "source": [
        "# getting the columns prior for modelling\n",
        "col_name = [\"StudentID\",\"Ma Std\",\"Ma Teacher\",\"Ma ATL\",\"Ma Compl. Of Work\",\"Ma Sub Achievement\",\"Predicted Grade\",\"Actual Grade\",\"Scaled Total\"]\n",
        "\n",
        "df20 = df20[col_name]\n",
        "df19 = df19[col_name]\n",
        "df18 = df18[col_name]\n",
        "df17 = df17[col_name]"
      ],
      "execution_count": 4,
      "outputs": []
    },
    {
      "cell_type": "code",
      "metadata": {
        "id": "q-hFcORpoMaP"
      },
      "source": [
        "# combine the dataframes into 1 before modelling\n",
        "frames = [df20,df19,df18,df17]\n",
        "df = pd.concat(frames,ignore_index=True )"
      ],
      "execution_count": 5,
      "outputs": []
    },
    {
      "cell_type": "code",
      "source": [
        "df.head()"
      ],
      "metadata": {
        "id": "RYHXMx-MHspl",
        "outputId": "bde0834e-dabb-4fcc-bdb2-bce7c7af6228",
        "colab": {
          "base_uri": "https://localhost:8080/",
          "height": 206
        }
      },
      "execution_count": 6,
      "outputs": [
        {
          "output_type": "execute_result",
          "data": {
            "text/html": [
              "<div>\n",
              "<style scoped>\n",
              "    .dataframe tbody tr th:only-of-type {\n",
              "        vertical-align: middle;\n",
              "    }\n",
              "\n",
              "    .dataframe tbody tr th {\n",
              "        vertical-align: top;\n",
              "    }\n",
              "\n",
              "    .dataframe thead th {\n",
              "        text-align: right;\n",
              "    }\n",
              "</style>\n",
              "<table border=\"1\" class=\"dataframe\">\n",
              "  <thead>\n",
              "    <tr style=\"text-align: right;\">\n",
              "      <th></th>\n",
              "      <th>StudentID</th>\n",
              "      <th>Ma Std</th>\n",
              "      <th>Ma Teacher</th>\n",
              "      <th>Ma ATL</th>\n",
              "      <th>Ma Compl. Of Work</th>\n",
              "      <th>Ma Sub Achievement</th>\n",
              "      <th>Predicted Grade</th>\n",
              "      <th>Actual Grade</th>\n",
              "      <th>Scaled Total</th>\n",
              "    </tr>\n",
              "  </thead>\n",
              "  <tbody>\n",
              "    <tr>\n",
              "      <th>0</th>\n",
              "      <td>1.154050e+11</td>\n",
              "      <td>SL</td>\n",
              "      <td>BGe</td>\n",
              "      <td>7.0</td>\n",
              "      <td>7.0</td>\n",
              "      <td>6.0</td>\n",
              "      <td>6.0</td>\n",
              "      <td>6.0</td>\n",
              "      <td>74.0</td>\n",
              "    </tr>\n",
              "    <tr>\n",
              "      <th>1</th>\n",
              "      <td>9.544171e+10</td>\n",
              "      <td>HL</td>\n",
              "      <td>GGo</td>\n",
              "      <td>6.0</td>\n",
              "      <td>6.0</td>\n",
              "      <td>6.0</td>\n",
              "      <td>6.0</td>\n",
              "      <td>6.0</td>\n",
              "      <td>69.0</td>\n",
              "    </tr>\n",
              "    <tr>\n",
              "      <th>2</th>\n",
              "      <td>1.146250e+11</td>\n",
              "      <td>HL</td>\n",
              "      <td>JTo</td>\n",
              "      <td>5.0</td>\n",
              "      <td>5.0</td>\n",
              "      <td>4.0</td>\n",
              "      <td>4.0</td>\n",
              "      <td>4.0</td>\n",
              "      <td>44.0</td>\n",
              "    </tr>\n",
              "    <tr>\n",
              "      <th>3</th>\n",
              "      <td>1.616420e+11</td>\n",
              "      <td>SL</td>\n",
              "      <td>LLP</td>\n",
              "      <td>7.0</td>\n",
              "      <td>7.0</td>\n",
              "      <td>6.0</td>\n",
              "      <td>6.0</td>\n",
              "      <td>6.0</td>\n",
              "      <td>76.0</td>\n",
              "    </tr>\n",
              "    <tr>\n",
              "      <th>4</th>\n",
              "      <td>1.416540e+11</td>\n",
              "      <td>SL</td>\n",
              "      <td>CNa</td>\n",
              "      <td>5.0</td>\n",
              "      <td>5.0</td>\n",
              "      <td>4.0</td>\n",
              "      <td>5.0</td>\n",
              "      <td>5.0</td>\n",
              "      <td>57.0</td>\n",
              "    </tr>\n",
              "  </tbody>\n",
              "</table>\n",
              "</div>"
            ],
            "text/plain": [
              "      StudentID Ma Std Ma Teacher  ...  Predicted Grade  Actual Grade  Scaled Total\n",
              "0  1.154050e+11     SL        BGe  ...              6.0           6.0          74.0\n",
              "1  9.544171e+10     HL        GGo  ...              6.0           6.0          69.0\n",
              "2  1.146250e+11     HL        JTo  ...              4.0           4.0          44.0\n",
              "3  1.616420e+11     SL        LLP  ...              6.0           6.0          76.0\n",
              "4  1.416540e+11     SL        CNa  ...              5.0           5.0          57.0\n",
              "\n",
              "[5 rows x 9 columns]"
            ]
          },
          "metadata": {},
          "execution_count": 6
        }
      ]
    },
    {
      "cell_type": "code",
      "source": [
        "df['Ma Teacher'].unique()"
      ],
      "metadata": {
        "id": "PUsBzORQIwjP",
        "outputId": "81e6cbdc-c398-4456-f2fa-93b0ce1fd876",
        "colab": {
          "base_uri": "https://localhost:8080/"
        }
      },
      "execution_count": 7,
      "outputs": [
        {
          "output_type": "execute_result",
          "data": {
            "text/plain": [
              "array(['BGe', 'GGo', 'JTo', 'LLP', 'CNa', 'RCh', 'FYi', nan, 'GTu',\n",
              "       ' SSn', ' RCh', ' CLe', ' CNa', ' BGe', ' FBe', 'Gtu', 'TSS',\n",
              "       'FBe', 'CLe', 'DCh'], dtype=object)"
            ]
          },
          "metadata": {},
          "execution_count": 7
        }
      ]
    },
    {
      "cell_type": "code",
      "metadata": {
        "colab": {
          "base_uri": "https://localhost:8080/"
        },
        "id": "hj3w_HjEoMdA",
        "outputId": "8b9c030a-cfe9-49ff-d9ff-9d0620200940"
      },
      "source": [
        "df.info()"
      ],
      "execution_count": 8,
      "outputs": [
        {
          "output_type": "stream",
          "name": "stdout",
          "text": [
            "<class 'pandas.core.frame.DataFrame'>\n",
            "RangeIndex: 681 entries, 0 to 680\n",
            "Data columns (total 9 columns):\n",
            " #   Column              Non-Null Count  Dtype  \n",
            "---  ------              --------------  -----  \n",
            " 0   StudentID           681 non-null    float64\n",
            " 1   Ma Std              657 non-null    object \n",
            " 2   Ma Teacher          657 non-null    object \n",
            " 3   Ma ATL              657 non-null    float64\n",
            " 4   Ma Compl. Of Work   654 non-null    float64\n",
            " 5   Ma Sub Achievement  657 non-null    float64\n",
            " 6   Predicted Grade     654 non-null    float64\n",
            " 7   Actual Grade        652 non-null    float64\n",
            " 8   Scaled Total        653 non-null    float64\n",
            "dtypes: float64(7), object(2)\n",
            "memory usage: 48.0+ KB\n"
          ]
        }
      ]
    },
    {
      "cell_type": "code",
      "metadata": {
        "colab": {
          "base_uri": "https://localhost:8080/"
        },
        "id": "5oZJydJUoMfZ",
        "outputId": "090418dc-9685-4bca-da18-337377ee6ea3"
      },
      "source": [
        "df.isnull().sum()"
      ],
      "execution_count": 9,
      "outputs": [
        {
          "output_type": "execute_result",
          "data": {
            "text/plain": [
              "StudentID              0\n",
              "Ma Std                24\n",
              "Ma Teacher            24\n",
              "Ma ATL                24\n",
              "Ma Compl. Of Work     27\n",
              "Ma Sub Achievement    24\n",
              "Predicted Grade       27\n",
              "Actual Grade          29\n",
              "Scaled Total          28\n",
              "dtype: int64"
            ]
          },
          "metadata": {},
          "execution_count": 9
        }
      ]
    },
    {
      "cell_type": "code",
      "metadata": {
        "id": "knZyr35goMh5"
      },
      "source": [
        "#drop rows that have null values\n",
        "df.dropna(axis=0, inplace=True)"
      ],
      "execution_count": 10,
      "outputs": []
    },
    {
      "cell_type": "markdown",
      "source": [
        "Removing the null values as the students do not take the subject to have any grades."
      ],
      "metadata": {
        "id": "AWfXFfluINaV"
      }
    },
    {
      "cell_type": "code",
      "source": [
        "df.isnull().sum()"
      ],
      "metadata": {
        "colab": {
          "base_uri": "https://localhost:8080/"
        },
        "id": "oNnJL8P6LvvN",
        "outputId": "627fa800-b7fc-4ce2-9c56-6036f0db3dc3"
      },
      "execution_count": 11,
      "outputs": [
        {
          "output_type": "execute_result",
          "data": {
            "text/plain": [
              "StudentID             0\n",
              "Ma Std                0\n",
              "Ma Teacher            0\n",
              "Ma ATL                0\n",
              "Ma Compl. Of Work     0\n",
              "Ma Sub Achievement    0\n",
              "Predicted Grade       0\n",
              "Actual Grade          0\n",
              "Scaled Total          0\n",
              "dtype: int64"
            ]
          },
          "metadata": {},
          "execution_count": 11
        }
      ]
    },
    {
      "cell_type": "code",
      "source": [
        "df.info()"
      ],
      "metadata": {
        "colab": {
          "base_uri": "https://localhost:8080/"
        },
        "id": "ce2_G6u6L6We",
        "outputId": "32f5665d-7b5a-48fe-f31d-f11f42aee619"
      },
      "execution_count": 12,
      "outputs": [
        {
          "output_type": "stream",
          "name": "stdout",
          "text": [
            "<class 'pandas.core.frame.DataFrame'>\n",
            "Int64Index: 650 entries, 0 to 680\n",
            "Data columns (total 9 columns):\n",
            " #   Column              Non-Null Count  Dtype  \n",
            "---  ------              --------------  -----  \n",
            " 0   StudentID           650 non-null    float64\n",
            " 1   Ma Std              650 non-null    object \n",
            " 2   Ma Teacher          650 non-null    object \n",
            " 3   Ma ATL              650 non-null    float64\n",
            " 4   Ma Compl. Of Work   650 non-null    float64\n",
            " 5   Ma Sub Achievement  650 non-null    float64\n",
            " 6   Predicted Grade     650 non-null    float64\n",
            " 7   Actual Grade        650 non-null    float64\n",
            " 8   Scaled Total        650 non-null    float64\n",
            "dtypes: float64(7), object(2)\n",
            "memory usage: 50.8+ KB\n"
          ]
        }
      ]
    },
    {
      "cell_type": "markdown",
      "source": [
        "a total of 650 rows left after removing the null values. initially there were 681 rows.\n"
      ],
      "metadata": {
        "id": "tl5zv_F-L_mq"
      }
    },
    {
      "cell_type": "markdown",
      "source": [
        "# Correlation Plot"
      ],
      "metadata": {
        "id": "6Kz0JN0B0fQK"
      }
    },
    {
      "cell_type": "code",
      "source": [
        "plt.figure(figsize=(5, 10))\n",
        "heatmap = sns.heatmap(df.corr()[['Actual Grade']].sort_values(by='Actual Grade', ascending=False), \n",
        "                      vmin=-1, vmax=1, annot=True, cmap='BrBG')\n",
        "heatmap.set_title('Features Correlating with Actual grade', fontdict={'fontsize':10}, pad=16);"
      ],
      "metadata": {
        "id": "CGSqh6qMLqI2",
        "outputId": "21b23e08-b6d2-4f99-f156-9fc5f5253b08",
        "colab": {
          "base_uri": "https://localhost:8080/",
          "height": 614
        }
      },
      "execution_count": 13,
      "outputs": [
        {
          "output_type": "display_data",
          "data": {
            "image/png": "[encoded data removed]",
            "text/plain": [
              "<Figure size 360x720 with 2 Axes>"
            ]
          },
          "metadata": {
            "needs_background": "light"
          }
        }
      ]
    },
    {
      "cell_type": "code",
      "metadata": {
        "colab": {
          "base_uri": "https://localhost:8080/"
        },
        "id": "8XTFg8vzoovA",
        "outputId": "b56de5c1-ae6c-496d-c28b-7aebdd825298"
      },
      "source": [
        "df.info()"
      ],
      "execution_count": 14,
      "outputs": [
        {
          "output_type": "stream",
          "name": "stdout",
          "text": [
            "<class 'pandas.core.frame.DataFrame'>\n",
            "Int64Index: 650 entries, 0 to 680\n",
            "Data columns (total 9 columns):\n",
            " #   Column              Non-Null Count  Dtype  \n",
            "---  ------              --------------  -----  \n",
            " 0   StudentID           650 non-null    float64\n",
            " 1   Ma Std              650 non-null    object \n",
            " 2   Ma Teacher          650 non-null    object \n",
            " 3   Ma ATL              650 non-null    float64\n",
            " 4   Ma Compl. Of Work   650 non-null    float64\n",
            " 5   Ma Sub Achievement  650 non-null    float64\n",
            " 6   Predicted Grade     650 non-null    float64\n",
            " 7   Actual Grade        650 non-null    float64\n",
            " 8   Scaled Total        650 non-null    float64\n",
            "dtypes: float64(7), object(2)\n",
            "memory usage: 50.8+ KB\n"
          ]
        }
      ]
    },
    {
      "cell_type": "markdown",
      "source": [
        "# 1.0 Data Preprocessing"
      ],
      "metadata": {
        "id": "u49mM--F05zp"
      }
    },
    {
      "cell_type": "code",
      "metadata": {
        "id": "E8fxjbZmoo2F"
      },
      "source": [
        "# dummify Ma Std and Ma Teacher\n",
        "col= ['Ma Std','Ma Teacher']\n",
        "\n",
        "# Creaing dummies \n",
        "df= pd.get_dummies(columns=col, data=df)"
      ],
      "execution_count": 15,
      "outputs": []
    },
    {
      "cell_type": "code",
      "source": [
        "df.head()"
      ],
      "metadata": {
        "id": "SlMXusXcJAwL",
        "outputId": "8224cb08-0b80-4752-b2ca-595fc92a9327",
        "colab": {
          "base_uri": "https://localhost:8080/",
          "height": 277
        }
      },
      "execution_count": 16,
      "outputs": [
        {
          "output_type": "execute_result",
          "data": {
            "text/html": [
              "<div>\n",
              "<style scoped>\n",
              "    .dataframe tbody tr th:only-of-type {\n",
              "        vertical-align: middle;\n",
              "    }\n",
              "\n",
              "    .dataframe tbody tr th {\n",
              "        vertical-align: top;\n",
              "    }\n",
              "\n",
              "    .dataframe thead th {\n",
              "        text-align: right;\n",
              "    }\n",
              "</style>\n",
              "<table border=\"1\" class=\"dataframe\">\n",
              "  <thead>\n",
              "    <tr style=\"text-align: right;\">\n",
              "      <th></th>\n",
              "      <th>StudentID</th>\n",
              "      <th>Ma ATL</th>\n",
              "      <th>Ma Compl. Of Work</th>\n",
              "      <th>Ma Sub Achievement</th>\n",
              "      <th>Predicted Grade</th>\n",
              "      <th>Actual Grade</th>\n",
              "      <th>Scaled Total</th>\n",
              "      <th>Ma Std_ HL</th>\n",
              "      <th>Ma Std_ SL</th>\n",
              "      <th>Ma Std_HL</th>\n",
              "      <th>Ma Std_SL</th>\n",
              "      <th>Ma Teacher_ BGe</th>\n",
              "      <th>Ma Teacher_ CLe</th>\n",
              "      <th>Ma Teacher_ CNa</th>\n",
              "      <th>Ma Teacher_ FBe</th>\n",
              "      <th>Ma Teacher_ RCh</th>\n",
              "      <th>Ma Teacher_ SSn</th>\n",
              "      <th>Ma Teacher_BGe</th>\n",
              "      <th>Ma Teacher_CLe</th>\n",
              "      <th>Ma Teacher_CNa</th>\n",
              "      <th>Ma Teacher_DCh</th>\n",
              "      <th>Ma Teacher_FBe</th>\n",
              "      <th>Ma Teacher_FYi</th>\n",
              "      <th>Ma Teacher_GGo</th>\n",
              "      <th>Ma Teacher_GTu</th>\n",
              "      <th>Ma Teacher_Gtu</th>\n",
              "      <th>Ma Teacher_JTo</th>\n",
              "      <th>Ma Teacher_LLP</th>\n",
              "      <th>Ma Teacher_RCh</th>\n",
              "      <th>Ma Teacher_TSS</th>\n",
              "    </tr>\n",
              "  </thead>\n",
              "  <tbody>\n",
              "    <tr>\n",
              "      <th>0</th>\n",
              "      <td>1.154050e+11</td>\n",
              "      <td>7.0</td>\n",
              "      <td>7.0</td>\n",
              "      <td>6.0</td>\n",
              "      <td>6.0</td>\n",
              "      <td>6.0</td>\n",
              "      <td>74.0</td>\n",
              "      <td>0</td>\n",
              "      <td>0</td>\n",
              "      <td>0</td>\n",
              "      <td>1</td>\n",
              "      <td>0</td>\n",
              "      <td>0</td>\n",
              "      <td>0</td>\n",
              "      <td>0</td>\n",
              "      <td>0</td>\n",
              "      <td>0</td>\n",
              "      <td>1</td>\n",
              "      <td>0</td>\n",
              "      <td>0</td>\n",
              "      <td>0</td>\n",
              "      <td>0</td>\n",
              "      <td>0</td>\n",
              "      <td>0</td>\n",
              "      <td>0</td>\n",
              "      <td>0</td>\n",
              "      <td>0</td>\n",
              "      <td>0</td>\n",
              "      <td>0</td>\n",
              "      <td>0</td>\n",
              "    </tr>\n",
              "    <tr>\n",
              "      <th>1</th>\n",
              "      <td>9.544171e+10</td>\n",
              "      <td>6.0</td>\n",
              "      <td>6.0</td>\n",
              "      <td>6.0</td>\n",
              "      <td>6.0</td>\n",
              "      <td>6.0</td>\n",
              "      <td>69.0</td>\n",
              "      <td>0</td>\n",
              "      <td>0</td>\n",
              "      <td>1</td>\n",
              "      <td>0</td>\n",
              "      <td>0</td>\n",
              "      <td>0</td>\n",
              "      <td>0</td>\n",
              "      <td>0</td>\n",
              "      <td>0</td>\n",
              "      <td>0</td>\n",
              "      <td>0</td>\n",
              "      <td>0</td>\n",
              "      <td>0</td>\n",
              "      <td>0</td>\n",
              "      <td>0</td>\n",
              "      <td>0</td>\n",
              "      <td>1</td>\n",
              "      <td>0</td>\n",
              "      <td>0</td>\n",
              "      <td>0</td>\n",
              "      <td>0</td>\n",
              "      <td>0</td>\n",
              "      <td>0</td>\n",
              "    </tr>\n",
              "    <tr>\n",
              "      <th>2</th>\n",
              "      <td>1.146250e+11</td>\n",
              "      <td>5.0</td>\n",
              "      <td>5.0</td>\n",
              "      <td>4.0</td>\n",
              "      <td>4.0</td>\n",
              "      <td>4.0</td>\n",
              "      <td>44.0</td>\n",
              "      <td>0</td>\n",
              "      <td>0</td>\n",
              "      <td>1</td>\n",
              "      <td>0</td>\n",
              "      <td>0</td>\n",
              "      <td>0</td>\n",
              "      <td>0</td>\n",
              "      <td>0</td>\n",
              "      <td>0</td>\n",
              "      <td>0</td>\n",
              "      <td>0</td>\n",
              "      <td>0</td>\n",
              "      <td>0</td>\n",
              "      <td>0</td>\n",
              "      <td>0</td>\n",
              "      <td>0</td>\n",
              "      <td>0</td>\n",
              "      <td>0</td>\n",
              "      <td>0</td>\n",
              "      <td>1</td>\n",
              "      <td>0</td>\n",
              "      <td>0</td>\n",
              "      <td>0</td>\n",
              "    </tr>\n",
              "    <tr>\n",
              "      <th>3</th>\n",
              "      <td>1.616420e+11</td>\n",
              "      <td>7.0</td>\n",
              "      <td>7.0</td>\n",
              "      <td>6.0</td>\n",
              "      <td>6.0</td>\n",
              "      <td>6.0</td>\n",
              "      <td>76.0</td>\n",
              "      <td>0</td>\n",
              "      <td>0</td>\n",
              "      <td>0</td>\n",
              "      <td>1</td>\n",
              "      <td>0</td>\n",
              "      <td>0</td>\n",
              "      <td>0</td>\n",
              "      <td>0</td>\n",
              "      <td>0</td>\n",
              "      <td>0</td>\n",
              "      <td>0</td>\n",
              "      <td>0</td>\n",
              "      <td>0</td>\n",
              "      <td>0</td>\n",
              "      <td>0</td>\n",
              "      <td>0</td>\n",
              "      <td>0</td>\n",
              "      <td>0</td>\n",
              "      <td>0</td>\n",
              "      <td>0</td>\n",
              "      <td>1</td>\n",
              "      <td>0</td>\n",
              "      <td>0</td>\n",
              "    </tr>\n",
              "    <tr>\n",
              "      <th>4</th>\n",
              "      <td>1.416540e+11</td>\n",
              "      <td>5.0</td>\n",
              "      <td>5.0</td>\n",
              "      <td>4.0</td>\n",
              "      <td>5.0</td>\n",
              "      <td>5.0</td>\n",
              "      <td>57.0</td>\n",
              "      <td>0</td>\n",
              "      <td>0</td>\n",
              "      <td>0</td>\n",
              "      <td>1</td>\n",
              "      <td>0</td>\n",
              "      <td>0</td>\n",
              "      <td>0</td>\n",
              "      <td>0</td>\n",
              "      <td>0</td>\n",
              "      <td>0</td>\n",
              "      <td>0</td>\n",
              "      <td>0</td>\n",
              "      <td>1</td>\n",
              "      <td>0</td>\n",
              "      <td>0</td>\n",
              "      <td>0</td>\n",
              "      <td>0</td>\n",
              "      <td>0</td>\n",
              "      <td>0</td>\n",
              "      <td>0</td>\n",
              "      <td>0</td>\n",
              "      <td>0</td>\n",
              "      <td>0</td>\n",
              "    </tr>\n",
              "  </tbody>\n",
              "</table>\n",
              "</div>"
            ],
            "text/plain": [
              "      StudentID  Ma ATL  ...  Ma Teacher_RCh  Ma Teacher_TSS\n",
              "0  1.154050e+11     7.0  ...               0               0\n",
              "1  9.544171e+10     6.0  ...               0               0\n",
              "2  1.146250e+11     5.0  ...               0               0\n",
              "3  1.616420e+11     7.0  ...               0               0\n",
              "4  1.416540e+11     5.0  ...               0               0\n",
              "\n",
              "[5 rows x 30 columns]"
            ]
          },
          "metadata": {},
          "execution_count": 16
        }
      ]
    },
    {
      "cell_type": "code",
      "metadata": {
        "id": "drm9FxtKoo4v"
      },
      "source": [
        "# create train test split \n",
        "X = df.drop(['Predicted Grade','Actual Grade','Scaled Total','StudentID'],axis=1)\n",
        "y = df['Actual Grade']\n",
        "\n",
        "X_train, X_test, y_train, y_test = train_test_split(X, y, test_size=0.30, random_state=42)"
      ],
      "execution_count": 17,
      "outputs": []
    },
    {
      "cell_type": "code",
      "source": [
        "X.columns"
      ],
      "metadata": {
        "id": "K_pLf9cpDQZT",
        "outputId": "abfc1540-4c14-4c85-bf24-82745731ca3b",
        "colab": {
          "base_uri": "https://localhost:8080/"
        }
      },
      "execution_count": 18,
      "outputs": [
        {
          "output_type": "execute_result",
          "data": {
            "text/plain": [
              "Index(['Ma ATL', 'Ma Compl. Of Work', 'Ma Sub Achievement', 'Ma Std_ HL',\n",
              "       'Ma Std_ SL', 'Ma Std_HL', 'Ma Std_SL', 'Ma Teacher_ BGe',\n",
              "       'Ma Teacher_ CLe', 'Ma Teacher_ CNa', 'Ma Teacher_ FBe',\n",
              "       'Ma Teacher_ RCh', 'Ma Teacher_ SSn', 'Ma Teacher_BGe',\n",
              "       'Ma Teacher_CLe', 'Ma Teacher_CNa', 'Ma Teacher_DCh', 'Ma Teacher_FBe',\n",
              "       'Ma Teacher_FYi', 'Ma Teacher_GGo', 'Ma Teacher_GTu', 'Ma Teacher_Gtu',\n",
              "       'Ma Teacher_JTo', 'Ma Teacher_LLP', 'Ma Teacher_RCh', 'Ma Teacher_TSS'],\n",
              "      dtype='object')"
            ]
          },
          "metadata": {},
          "execution_count": 18
        }
      ]
    },
    {
      "cell_type": "code",
      "metadata": {
        "id": "jEuIl3DDoo7X"
      },
      "source": [
        "# instantiate standard scaler\n",
        "sc = StandardScaler()\n",
        "\n",
        "# fit standard scaler on train set\n",
        "X_train_sc = sc.fit_transform(X_train)\n",
        "\n",
        "# transform test set \n",
        "X_test_sc = sc.transform(X_test)\n"
      ],
      "execution_count": 19,
      "outputs": []
    },
    {
      "cell_type": "code",
      "metadata": {
        "id": "-5lk95hZoo99"
      },
      "source": [
        "# functions for comparing models \n",
        "\n",
        "# RMSE function\n",
        "def rmse(model, X, y):\n",
        "    rmse = np.sqrt(-cross_val_score(model, X, y, scoring=\"neg_mean_squared_error\", cv = 5))\n",
        "    return(rmse.mean())\n",
        "\n",
        "#compare train, test, and cv score\n",
        "def display_r2(model, X_train, y_train, X_test, y_test):\n",
        "    print('Train Score: ', round(model.score(X_train,y_train),7))\n",
        "    print('Test Score: ', round(model.score(X_test, y_test),7))\n",
        "    print('Cross Val Score:', round(cross_val_score(model, X_test,y_test).mean(),7))\n",
        "\n",
        "# model comparisons\n",
        "model_dictionary = {}\n",
        "def add_model(name, model, X_test, y_test):\n",
        "    model_dictionary[name] = [round(rmse(model,X_test,y_test),7), #RMSE\n",
        "                              round(model.score(X_test, y_test),7)] #r2 score\n",
        "    return pd.DataFrame.from_dict(model_dictionary, orient = 'index', columns=['RMSE', 'R2 Score'])\n",
        "    \n",
        "# Plot Residuals and Predictions\n",
        "def plot_pred(model, X_test, y_test):\n",
        "    pred = model.predict(X_test)\n",
        "    \n",
        "    \n",
        "    fig, (ax1, ax2) = plt.subplots(1, 2, figsize=(16,7))\n",
        "    \n",
        "    #Plot Residuals\n",
        "    ax1.set_title('Residuals Plot')\n",
        "    ax1.set(xlabel='Predicted values', ylabel='Residuals')\n",
        "    ax1.scatter(pred, y_test - pred)\n",
        "    ax1.hlines(y = 0, xmin = min(pred), xmax = max(pred), colors='red', linestyles='solid')\n",
        "    \n",
        "    #Plot Predictions\n",
        "    ax2.set_title('Predictions vs Actuals')\n",
        "    ax2.set(xlabel='Predicted values', ylabel='Actual Values')\n",
        "    ax2.scatter(pred, y_test)\n",
        "    \n",
        "    lims = [\n",
        "    np.min([ax2.get_xlim(), ax2.get_ylim()]),  # min of both axes\n",
        "    np.max([ax2.get_xlim(), ax2.get_ylim()]),  # max of both axes\n",
        "    ]\n",
        "    \n",
        "    ax2.plot(lims, lims, 'k-', c = 'red', zorder=0)\n",
        "                              \n",
        "    plt.show()"
      ],
      "execution_count": 20,
      "outputs": []
    },
    {
      "cell_type": "markdown",
      "source": [
        "# 2.0 Modelling\n",
        "* 2.1 Baseline Model\n",
        "* 2.2 Linear Regression\n",
        "* 2.3 Ridge Regression \n",
        "* 2.4 Lasso Regression\n"
      ],
      "metadata": {
        "id": "9pwRYORR-1D4"
      }
    },
    {
      "cell_type": "markdown",
      "metadata": {
        "id": "FA8PGArorBFm"
      },
      "source": [
        "### 2.1 Baseline"
      ]
    },
    {
      "cell_type": "code",
      "metadata": {
        "id": "2u4eoYrtopAp"
      },
      "source": [
        "mean_yhat = y_train.mean()"
      ],
      "execution_count": 21,
      "outputs": []
    },
    {
      "cell_type": "code",
      "metadata": {
        "id": "elxjJ2CwopET"
      },
      "source": [
        "# Create dataframe of actual and predicted sale price for test set\n",
        "baseline = pd.DataFrame(y_test)\n",
        "baseline['yhat'] = mean_yhat"
      ],
      "execution_count": 22,
      "outputs": []
    },
    {
      "cell_type": "code",
      "metadata": {
        "colab": {
          "base_uri": "https://localhost:8080/"
        },
        "id": "pDqC7N0copHh",
        "outputId": "d0c28a62-2978-4263-f558-98a77ff5d36b"
      },
      "source": [
        "# Calculate RMSE for test set\n",
        "print('RMSE :',(np.mean(np.square(np.expm1(y_test) - np.expm1(mean_yhat)) ** 0.5)))\n",
        "\n",
        "#Calculate r2 score\n",
        "print('r2 score:', metrics.r2_score(baseline['Actual Grade'], baseline['yhat']))"
      ],
      "execution_count": 23,
      "outputs": [
        {
          "output_type": "stream",
          "name": "stdout",
          "text": [
            "RMSE : 261.04692888537073\n",
            "r2 score: -0.0002563633484908845\n"
          ]
        }
      ]
    },
    {
      "cell_type": "code",
      "metadata": {
        "id": "j0rUlPMJrLSb"
      },
      "source": [
        "model_dictionary = {'Baseline': [np.mean(np.square(y_test - mean_yhat)) ** 0.5, #RMSE\n",
        "                                 metrics.r2_score(baseline['Actual Grade'], baseline['yhat'])]} #r2 Score"
      ],
      "execution_count": 24,
      "outputs": []
    },
    {
      "cell_type": "markdown",
      "metadata": {
        "id": "LqT0oa2zrR07"
      },
      "source": [
        "## 2.2 Linear Regression\n",
        "\n",
        "compare the RMSE, train test score as well as R2"
      ]
    },
    {
      "cell_type": "code",
      "metadata": {
        "colab": {
          "base_uri": "https://localhost:8080/"
        },
        "id": "kxPnSqVdrLaR",
        "outputId": "b78b4940-8d27-4601-9a48-ebc59e1ca3f5"
      },
      "source": [
        "# instantiate linear regression \n",
        "lm = LinearRegression()\n",
        "\n",
        "# fit linear regression model on train data\n",
        "lm.fit(X_train_sc,y_train)"
      ],
      "execution_count": 25,
      "outputs": [
        {
          "output_type": "execute_result",
          "data": {
            "text/plain": [
              "LinearRegression()"
            ]
          },
          "metadata": {},
          "execution_count": 25
        }
      ]
    },
    {
      "cell_type": "code",
      "metadata": {
        "colab": {
          "base_uri": "https://localhost:8080/"
        },
        "id": "IMrZBm4CrLdM",
        "outputId": "2d23cab2-81f2-4bca-88e7-9201f9bb204d"
      },
      "source": [
        "# compare train, test, cv scores\n",
        "display_r2(lm, X_train_sc, y_train, X_test_sc, y_test)"
      ],
      "execution_count": 26,
      "outputs": [
        {
          "output_type": "stream",
          "name": "stdout",
          "text": [
            "Train Score:  0.6871283\n",
            "Test Score:  0.6242078\n",
            "Cross Val Score: 0.5922114\n"
          ]
        }
      ]
    },
    {
      "cell_type": "code",
      "metadata": {
        "colab": {
          "base_uri": "https://localhost:8080/",
          "height": 457
        },
        "id": "3SA2UzTPrLf-",
        "outputId": "4d050d8b-699c-4001-92da-a7dcf01b27aa"
      },
      "source": [
        "# plot residuals and prediction vs actual\n",
        "plot_pred(lm, X_test_sc, y_test)"
      ],
      "execution_count": 27,
      "outputs": [
        {
          "output_type": "display_data",
          "data": {
            "image/png": "[encoded data removed]",
            "text/plain": [
              "<Figure size 1152x504 with 2 Axes>"
            ]
          },
          "metadata": {
            "needs_background": "light"
          }
        }
      ]
    },
    {
      "cell_type": "code",
      "metadata": {
        "colab": {
          "base_uri": "https://localhost:8080/",
          "height": 112
        },
        "id": "UynENaIirLil",
        "outputId": "ebbebca0-afc5-464a-d700-38701651efc1"
      },
      "source": [
        "# add model for comparison\n",
        "add_model('LinReg Default', lm, X_test_sc, y_test)"
      ],
      "execution_count": 28,
      "outputs": [
        {
          "output_type": "execute_result",
          "data": {
            "text/html": [
              "<div>\n",
              "<style scoped>\n",
              "    .dataframe tbody tr th:only-of-type {\n",
              "        vertical-align: middle;\n",
              "    }\n",
              "\n",
              "    .dataframe tbody tr th {\n",
              "        vertical-align: top;\n",
              "    }\n",
              "\n",
              "    .dataframe thead th {\n",
              "        text-align: right;\n",
              "    }\n",
              "</style>\n",
              "<table border=\"1\" class=\"dataframe\">\n",
              "  <thead>\n",
              "    <tr style=\"text-align: right;\">\n",
              "      <th></th>\n",
              "      <th>RMSE</th>\n",
              "      <th>R2 Score</th>\n",
              "    </tr>\n",
              "  </thead>\n",
              "  <tbody>\n",
              "    <tr>\n",
              "      <th>Baseline</th>\n",
              "      <td>1.144024</td>\n",
              "      <td>-0.000256</td>\n",
              "    </tr>\n",
              "    <tr>\n",
              "      <th>LinReg Default</th>\n",
              "      <td>0.718962</td>\n",
              "      <td>0.624208</td>\n",
              "    </tr>\n",
              "  </tbody>\n",
              "</table>\n",
              "</div>"
            ],
            "text/plain": [
              "                    RMSE  R2 Score\n",
              "Baseline        1.144024 -0.000256\n",
              "LinReg Default  0.718962  0.624208"
            ]
          },
          "metadata": {},
          "execution_count": 28
        }
      ]
    },
    {
      "cell_type": "markdown",
      "metadata": {
        "id": "mZMaZ0GOrywo"
      },
      "source": [
        "## 2.3 Ridge Regression with hyperparameter tuning"
      ]
    },
    {
      "cell_type": "code",
      "metadata": {
        "id": "Zzn78sgqrLlP"
      },
      "source": [
        "# choose values of alpha to train\n",
        "r_alphas = np.logspace(0.01, 50, 700)\n",
        "\n",
        "# instantiate ridgeCV\n",
        "ridge_cv = RidgeCV(alphas=r_alphas, scoring='neg_root_mean_squared_error', cv=5)\n",
        "\n",
        "# fit ridgeCV to train data\n",
        "ridge_cv = ridge_cv.fit(X_train_sc, y_train)"
      ],
      "execution_count": 29,
      "outputs": []
    },
    {
      "cell_type": "markdown",
      "source": [
        "I have tried various start and stop numbers for alpha to get the closest (difference) in the train/test score. But there was no change at all. "
      ],
      "metadata": {
        "id": "6vmcKz4hNdYA"
      }
    },
    {
      "cell_type": "code",
      "metadata": {
        "id": "16dXPinEsBlp"
      },
      "source": [
        "# store best value for alpha\n",
        "ridge_a = ridge_cv.alpha_"
      ],
      "execution_count": 30,
      "outputs": []
    },
    {
      "cell_type": "code",
      "metadata": {
        "colab": {
          "base_uri": "https://localhost:8080/"
        },
        "id": "JZucXwzrsBrb",
        "outputId": "7fe46c79-606d-4cfd-96a1-fe9836e76f28"
      },
      "source": [
        "#instantiate ridge with best value for alpha\n",
        "ridge_tuned = Ridge(alpha = ridge_a )\n",
        "\n",
        "#fit ridge to train data\n",
        "ridge_tuned.fit(X_train_sc, y_train)"
      ],
      "execution_count": 31,
      "outputs": [
        {
          "output_type": "execute_result",
          "data": {
            "text/plain": [
              "Ridge(alpha=16.81820668060909)"
            ]
          },
          "metadata": {},
          "execution_count": 31
        }
      ]
    },
    {
      "cell_type": "code",
      "metadata": {
        "colab": {
          "base_uri": "https://localhost:8080/"
        },
        "id": "fAG7DBRZsBux",
        "outputId": "1d25f462-020c-4461-e8fa-d696f0a9277c"
      },
      "source": [
        "# compare train, test, cv scores\n",
        "display_r2(ridge_tuned, X_train_sc, y_train, X_test_sc, y_test)"
      ],
      "execution_count": 32,
      "outputs": [
        {
          "output_type": "stream",
          "name": "stdout",
          "text": [
            "Train Score:  0.6860768\n",
            "Test Score:  0.62892\n",
            "Cross Val Score: 0.5895141\n"
          ]
        }
      ]
    },
    {
      "cell_type": "code",
      "metadata": {
        "colab": {
          "base_uri": "https://localhost:8080/",
          "height": 457
        },
        "id": "_KgC-BeEsBx2",
        "outputId": "2a661ca4-6ea0-4a5c-b8e7-0dde768e025c"
      },
      "source": [
        "# plot residuals and prediction vs actual\n",
        "plot_pred(ridge_tuned, X_test_sc, y_test)"
      ],
      "execution_count": 33,
      "outputs": [
        {
          "output_type": "display_data",
          "data": {
            "image/png": "[encoded data removed]",
            "text/plain": [
              "<Figure size 1152x504 with 2 Axes>"
            ]
          },
          "metadata": {
            "needs_background": "light"
          }
        }
      ]
    },
    {
      "cell_type": "code",
      "metadata": {
        "colab": {
          "base_uri": "https://localhost:8080/",
          "height": 143
        },
        "id": "ctyZWrbQsLFN",
        "outputId": "e3408af9-3701-4c4c-d5dc-42e1102103fa"
      },
      "source": [
        "# add model for comparison\n",
        "add_model('Ridge with Hyperparameter Tuning', ridge_tuned, X_test_sc, y_test)"
      ],
      "execution_count": 34,
      "outputs": [
        {
          "output_type": "execute_result",
          "data": {
            "text/html": [
              "<div>\n",
              "<style scoped>\n",
              "    .dataframe tbody tr th:only-of-type {\n",
              "        vertical-align: middle;\n",
              "    }\n",
              "\n",
              "    .dataframe tbody tr th {\n",
              "        vertical-align: top;\n",
              "    }\n",
              "\n",
              "    .dataframe thead th {\n",
              "        text-align: right;\n",
              "    }\n",
              "</style>\n",
              "<table border=\"1\" class=\"dataframe\">\n",
              "  <thead>\n",
              "    <tr style=\"text-align: right;\">\n",
              "      <th></th>\n",
              "      <th>RMSE</th>\n",
              "      <th>R2 Score</th>\n",
              "    </tr>\n",
              "  </thead>\n",
              "  <tbody>\n",
              "    <tr>\n",
              "      <th>Baseline</th>\n",
              "      <td>1.144024</td>\n",
              "      <td>-0.000256</td>\n",
              "    </tr>\n",
              "    <tr>\n",
              "      <th>LinReg Default</th>\n",
              "      <td>0.718962</td>\n",
              "      <td>0.624208</td>\n",
              "    </tr>\n",
              "    <tr>\n",
              "      <th>Ridge with Hyperparameter Tuning</th>\n",
              "      <td>0.720323</td>\n",
              "      <td>0.628920</td>\n",
              "    </tr>\n",
              "  </tbody>\n",
              "</table>\n",
              "</div>"
            ],
            "text/plain": [
              "                                      RMSE  R2 Score\n",
              "Baseline                          1.144024 -0.000256\n",
              "LinReg Default                    0.718962  0.624208\n",
              "Ridge with Hyperparameter Tuning  0.720323  0.628920"
            ]
          },
          "metadata": {},
          "execution_count": 34
        }
      ]
    },
    {
      "cell_type": "markdown",
      "metadata": {
        "id": "WolXNwYMsR5C"
      },
      "source": [
        "## 2.4 Lasso Regression with hyperparameter tuning"
      ]
    },
    {
      "cell_type": "code",
      "metadata": {
        "id": "1c7Aa8WnsLJg"
      },
      "source": [
        "# choose values of alpha to train\n",
        "l_alphas = np.logspace(-3, 50, 700)\n",
        "\n",
        "# instantiate lassoCV\n",
        "lasso_cv = LassoCV(alphas=l_alphas, cv=5, max_iter=80000)\n",
        "\n",
        "# fit lassoCV to train data\n",
        "lasso_cv.fit(X_train_sc, y_train);\n"
      ],
      "execution_count": 35,
      "outputs": []
    },
    {
      "cell_type": "code",
      "metadata": {
        "id": "xAlGKU4osLMS"
      },
      "source": [
        "# store best value for alpha\n",
        "lasso_a = lasso_cv.alpha_"
      ],
      "execution_count": 36,
      "outputs": []
    },
    {
      "cell_type": "code",
      "metadata": {
        "colab": {
          "base_uri": "https://localhost:8080/"
        },
        "id": "tAtycK1PsbjO",
        "outputId": "86f8722e-3161-4444-d579-750cd6764a1f"
      },
      "source": [
        "# instantiate lasso with new alpha\n",
        "lasso_tuned = Lasso(alpha = lasso_a )\n",
        "\n",
        "# fit lasso to train data\n",
        "lasso_tuned.fit(X_train_sc, y_train)"
      ],
      "execution_count": 37,
      "outputs": [
        {
          "output_type": "execute_result",
          "data": {
            "text/plain": [
              "Lasso(alpha=0.006824151202508981)"
            ]
          },
          "metadata": {},
          "execution_count": 37
        }
      ]
    },
    {
      "cell_type": "code",
      "metadata": {
        "colab": {
          "base_uri": "https://localhost:8080/"
        },
        "id": "zU67UEk8sbmV",
        "outputId": "9ce88a7b-962b-43e8-b011-8ff5fbd816a3"
      },
      "source": [
        "# compare train, test, cv scores\n",
        "\n",
        "display_r2(lasso_tuned, X_train_sc, y_train, X_test_sc, y_test)"
      ],
      "execution_count": 38,
      "outputs": [
        {
          "output_type": "stream",
          "name": "stdout",
          "text": [
            "Train Score:  0.6862096\n",
            "Test Score:  0.6226915\n",
            "Cross Val Score: 0.5893649\n"
          ]
        }
      ]
    },
    {
      "cell_type": "code",
      "metadata": {
        "colab": {
          "base_uri": "https://localhost:8080/",
          "height": 457
        },
        "id": "PjvT9PAFsbpC",
        "outputId": "f4c46aeb-00c0-497b-d96f-f8023db2b12d"
      },
      "source": [
        "# plot residuals and prediction vs actual\n",
        "\n",
        "plot_pred(lasso_tuned, X_test_sc, y_test)"
      ],
      "execution_count": 39,
      "outputs": [
        {
          "output_type": "display_data",
          "data": {
            "image/png": "[encoded data removed]",
            "text/plain": [
              "<Figure size 1152x504 with 2 Axes>"
            ]
          },
          "metadata": {
            "needs_background": "light"
          }
        }
      ]
    },
    {
      "cell_type": "code",
      "metadata": {
        "colab": {
          "base_uri": "https://localhost:8080/",
          "height": 174
        },
        "id": "tn_5bxY-sbrt",
        "outputId": "ecd202bc-c9b7-47ad-a82d-bb46a10323af"
      },
      "source": [
        "# add model for comparison\n",
        "\n",
        "add_model('Lasso with Hyperparameter Tuning', lasso_tuned, X_test_sc, y_test)"
      ],
      "execution_count": 40,
      "outputs": [
        {
          "output_type": "execute_result",
          "data": {
            "text/html": [
              "<div>\n",
              "<style scoped>\n",
              "    .dataframe tbody tr th:only-of-type {\n",
              "        vertical-align: middle;\n",
              "    }\n",
              "\n",
              "    .dataframe tbody tr th {\n",
              "        vertical-align: top;\n",
              "    }\n",
              "\n",
              "    .dataframe thead th {\n",
              "        text-align: right;\n",
              "    }\n",
              "</style>\n",
              "<table border=\"1\" class=\"dataframe\">\n",
              "  <thead>\n",
              "    <tr style=\"text-align: right;\">\n",
              "      <th></th>\n",
              "      <th>RMSE</th>\n",
              "      <th>R2 Score</th>\n",
              "    </tr>\n",
              "  </thead>\n",
              "  <tbody>\n",
              "    <tr>\n",
              "      <th>Baseline</th>\n",
              "      <td>1.144024</td>\n",
              "      <td>-0.000256</td>\n",
              "    </tr>\n",
              "    <tr>\n",
              "      <th>LinReg Default</th>\n",
              "      <td>0.718962</td>\n",
              "      <td>0.624208</td>\n",
              "    </tr>\n",
              "    <tr>\n",
              "      <th>Ridge with Hyperparameter Tuning</th>\n",
              "      <td>0.720323</td>\n",
              "      <td>0.628920</td>\n",
              "    </tr>\n",
              "    <tr>\n",
              "      <th>Lasso with Hyperparameter Tuning</th>\n",
              "      <td>0.721469</td>\n",
              "      <td>0.622691</td>\n",
              "    </tr>\n",
              "  </tbody>\n",
              "</table>\n",
              "</div>"
            ],
            "text/plain": [
              "                                      RMSE  R2 Score\n",
              "Baseline                          1.144024 -0.000256\n",
              "LinReg Default                    0.718962  0.624208\n",
              "Ridge with Hyperparameter Tuning  0.720323  0.628920\n",
              "Lasso with Hyperparameter Tuning  0.721469  0.622691"
            ]
          },
          "metadata": {},
          "execution_count": 40
        }
      ]
    },
    {
      "cell_type": "markdown",
      "source": [
        "# 3.0 Results, Conclusion"
      ],
      "metadata": {
        "id": "HoHedQIA-ni4"
      }
    },
    {
      "cell_type": "markdown",
      "source": [
        "## 3.1 Top 10 Model Coefficient"
      ],
      "metadata": {
        "id": "GDCR_J95tA60"
      }
    },
    {
      "cell_type": "code",
      "source": [
        "best_model_coef = ridge_tuned.coef_\n",
        "ridge_coefficient = sorted(zip(map(lambda X: round(X, 4), best_model_coef),X.columns), reverse=True)[:10]\n",
        "ridge_10_best=[k[1] for k in sorted(ridge_coefficient, key = lambda X : X, reverse = True)[:10]]"
      ],
      "metadata": {
        "id": "Fu3X6gbwtDjy"
      },
      "execution_count": 41,
      "outputs": []
    },
    {
      "cell_type": "code",
      "source": [
        "print(ridge_10_best)"
      ],
      "metadata": {
        "id": "-EoHNWmStDrx",
        "outputId": "34329296-4b02-4a4b-9ec8-220f46eb76c1",
        "colab": {
          "base_uri": "https://localhost:8080/"
        }
      },
      "execution_count": 42,
      "outputs": [
        {
          "output_type": "stream",
          "name": "stdout",
          "text": [
            "['Ma Sub Achievement', 'Ma Compl. Of Work', 'Ma Teacher_Gtu', 'Ma ATL', 'Ma Teacher_CLe', 'Ma Teacher_CNa', 'Ma Teacher_DCh', 'Ma Std_SL', 'Ma Teacher_ RCh', 'Ma Std_ HL']\n"
          ]
        }
      ]
    },
    {
      "cell_type": "markdown",
      "source": [
        "## 3.2 Comparison of Model's Prediction, Actual Grades, Predicted Grades (from teacher)"
      ],
      "metadata": {
        "id": "cd5Zflgbr5yA"
      }
    },
    {
      "cell_type": "code",
      "metadata": {
        "id": "EdclnJtujb31",
        "outputId": "5f1e72a7-e0f6-483d-c069-c2c121e2cb36",
        "colab": {
          "base_uri": "https://localhost:8080/",
          "height": 146
        }
      },
      "source": [
        "X_test.head(2)"
      ],
      "execution_count": 43,
      "outputs": [
        {
          "output_type": "execute_result",
          "data": {
            "text/html": [
              "<div>\n",
              "<style scoped>\n",
              "    .dataframe tbody tr th:only-of-type {\n",
              "        vertical-align: middle;\n",
              "    }\n",
              "\n",
              "    .dataframe tbody tr th {\n",
              "        vertical-align: top;\n",
              "    }\n",
              "\n",
              "    .dataframe thead th {\n",
              "        text-align: right;\n",
              "    }\n",
              "</style>\n",
              "<table border=\"1\" class=\"dataframe\">\n",
              "  <thead>\n",
              "    <tr style=\"text-align: right;\">\n",
              "      <th></th>\n",
              "      <th>Ma ATL</th>\n",
              "      <th>Ma Compl. Of Work</th>\n",
              "      <th>Ma Sub Achievement</th>\n",
              "      <th>Ma Std_ HL</th>\n",
              "      <th>Ma Std_ SL</th>\n",
              "      <th>Ma Std_HL</th>\n",
              "      <th>Ma Std_SL</th>\n",
              "      <th>Ma Teacher_ BGe</th>\n",
              "      <th>Ma Teacher_ CLe</th>\n",
              "      <th>Ma Teacher_ CNa</th>\n",
              "      <th>Ma Teacher_ FBe</th>\n",
              "      <th>Ma Teacher_ RCh</th>\n",
              "      <th>Ma Teacher_ SSn</th>\n",
              "      <th>Ma Teacher_BGe</th>\n",
              "      <th>Ma Teacher_CLe</th>\n",
              "      <th>Ma Teacher_CNa</th>\n",
              "      <th>Ma Teacher_DCh</th>\n",
              "      <th>Ma Teacher_FBe</th>\n",
              "      <th>Ma Teacher_FYi</th>\n",
              "      <th>Ma Teacher_GGo</th>\n",
              "      <th>Ma Teacher_GTu</th>\n",
              "      <th>Ma Teacher_Gtu</th>\n",
              "      <th>Ma Teacher_JTo</th>\n",
              "      <th>Ma Teacher_LLP</th>\n",
              "      <th>Ma Teacher_RCh</th>\n",
              "      <th>Ma Teacher_TSS</th>\n",
              "    </tr>\n",
              "  </thead>\n",
              "  <tbody>\n",
              "    <tr>\n",
              "      <th>668</th>\n",
              "      <td>7.0</td>\n",
              "      <td>7.0</td>\n",
              "      <td>7.0</td>\n",
              "      <td>0</td>\n",
              "      <td>0</td>\n",
              "      <td>1</td>\n",
              "      <td>0</td>\n",
              "      <td>0</td>\n",
              "      <td>0</td>\n",
              "      <td>0</td>\n",
              "      <td>0</td>\n",
              "      <td>0</td>\n",
              "      <td>0</td>\n",
              "      <td>0</td>\n",
              "      <td>0</td>\n",
              "      <td>0</td>\n",
              "      <td>0</td>\n",
              "      <td>0</td>\n",
              "      <td>0</td>\n",
              "      <td>1</td>\n",
              "      <td>0</td>\n",
              "      <td>0</td>\n",
              "      <td>0</td>\n",
              "      <td>0</td>\n",
              "      <td>0</td>\n",
              "      <td>0</td>\n",
              "    </tr>\n",
              "    <tr>\n",
              "      <th>231</th>\n",
              "      <td>6.0</td>\n",
              "      <td>6.0</td>\n",
              "      <td>4.0</td>\n",
              "      <td>0</td>\n",
              "      <td>0</td>\n",
              "      <td>1</td>\n",
              "      <td>0</td>\n",
              "      <td>0</td>\n",
              "      <td>0</td>\n",
              "      <td>0</td>\n",
              "      <td>0</td>\n",
              "      <td>0</td>\n",
              "      <td>0</td>\n",
              "      <td>0</td>\n",
              "      <td>0</td>\n",
              "      <td>0</td>\n",
              "      <td>0</td>\n",
              "      <td>0</td>\n",
              "      <td>0</td>\n",
              "      <td>1</td>\n",
              "      <td>0</td>\n",
              "      <td>0</td>\n",
              "      <td>0</td>\n",
              "      <td>0</td>\n",
              "      <td>0</td>\n",
              "      <td>0</td>\n",
              "    </tr>\n",
              "  </tbody>\n",
              "</table>\n",
              "</div>"
            ],
            "text/plain": [
              "     Ma ATL  Ma Compl. Of Work  ...  Ma Teacher_RCh  Ma Teacher_TSS\n",
              "668     7.0                7.0  ...               0               0\n",
              "231     6.0                6.0  ...               0               0\n",
              "\n",
              "[2 rows x 26 columns]"
            ]
          },
          "metadata": {},
          "execution_count": 43
        }
      ]
    },
    {
      "cell_type": "code",
      "metadata": {
        "id": "bFkMl1ohAdDF"
      },
      "source": [
        "# rounding the results off to nearest whole number using the best model\n",
        "\n",
        "y_test_pred = ridge_tuned.predict(X_test_sc).round().astype('int')"
      ],
      "execution_count": 44,
      "outputs": []
    },
    {
      "cell_type": "code",
      "metadata": {
        "id": "baUC8qgyVyEX"
      },
      "source": [
        "# create a column in X_test called model predictiuon that stores the model's predicted grades\n",
        "\n",
        "X_test['model prediction'] = y_test_pred"
      ],
      "execution_count": 45,
      "outputs": []
    },
    {
      "cell_type": "code",
      "source": [
        "# map back the actual grades given by IB to the consecutive index\n",
        "\n",
        "X_test['Actual Grade'] = df.loc[X_test.index, 'Actual Grade']"
      ],
      "metadata": {
        "id": "BL53rZzQa7dd"
      },
      "execution_count": 46,
      "outputs": []
    },
    {
      "cell_type": "code",
      "source": [
        "# map back the predicted grades given by teachers to the consecutive index\n",
        "\n",
        "X_test['Predicted Grade'] = df.loc[X_test.index, 'Predicted Grade']"
      ],
      "metadata": {
        "id": "JIqclm-da8az"
      },
      "execution_count": 47,
      "outputs": []
    },
    {
      "cell_type": "code",
      "metadata": {
        "id": "NkYM1MZijHWz",
        "outputId": "4c406469-4f80-4e35-afca-8f2297977190",
        "colab": {
          "base_uri": "https://localhost:8080/",
          "height": 257
        }
      },
      "source": [
        "X_test.head()"
      ],
      "execution_count": 48,
      "outputs": [
        {
          "output_type": "execute_result",
          "data": {
            "text/html": [
              "<div>\n",
              "<style scoped>\n",
              "    .dataframe tbody tr th:only-of-type {\n",
              "        vertical-align: middle;\n",
              "    }\n",
              "\n",
              "    .dataframe tbody tr th {\n",
              "        vertical-align: top;\n",
              "    }\n",
              "\n",
              "    .dataframe thead th {\n",
              "        text-align: right;\n",
              "    }\n",
              "</style>\n",
              "<table border=\"1\" class=\"dataframe\">\n",
              "  <thead>\n",
              "    <tr style=\"text-align: right;\">\n",
              "      <th></th>\n",
              "      <th>Ma ATL</th>\n",
              "      <th>Ma Compl. Of Work</th>\n",
              "      <th>Ma Sub Achievement</th>\n",
              "      <th>Ma Std_ HL</th>\n",
              "      <th>Ma Std_ SL</th>\n",
              "      <th>Ma Std_HL</th>\n",
              "      <th>Ma Std_SL</th>\n",
              "      <th>Ma Teacher_ BGe</th>\n",
              "      <th>Ma Teacher_ CLe</th>\n",
              "      <th>Ma Teacher_ CNa</th>\n",
              "      <th>Ma Teacher_ FBe</th>\n",
              "      <th>Ma Teacher_ RCh</th>\n",
              "      <th>Ma Teacher_ SSn</th>\n",
              "      <th>Ma Teacher_BGe</th>\n",
              "      <th>Ma Teacher_CLe</th>\n",
              "      <th>Ma Teacher_CNa</th>\n",
              "      <th>Ma Teacher_DCh</th>\n",
              "      <th>Ma Teacher_FBe</th>\n",
              "      <th>Ma Teacher_FYi</th>\n",
              "      <th>Ma Teacher_GGo</th>\n",
              "      <th>Ma Teacher_GTu</th>\n",
              "      <th>Ma Teacher_Gtu</th>\n",
              "      <th>Ma Teacher_JTo</th>\n",
              "      <th>Ma Teacher_LLP</th>\n",
              "      <th>Ma Teacher_RCh</th>\n",
              "      <th>Ma Teacher_TSS</th>\n",
              "      <th>model prediction</th>\n",
              "      <th>Actual Grade</th>\n",
              "      <th>Predicted Grade</th>\n",
              "    </tr>\n",
              "  </thead>\n",
              "  <tbody>\n",
              "    <tr>\n",
              "      <th>668</th>\n",
              "      <td>7.0</td>\n",
              "      <td>7.0</td>\n",
              "      <td>7.0</td>\n",
              "      <td>0</td>\n",
              "      <td>0</td>\n",
              "      <td>1</td>\n",
              "      <td>0</td>\n",
              "      <td>0</td>\n",
              "      <td>0</td>\n",
              "      <td>0</td>\n",
              "      <td>0</td>\n",
              "      <td>0</td>\n",
              "      <td>0</td>\n",
              "      <td>0</td>\n",
              "      <td>0</td>\n",
              "      <td>0</td>\n",
              "      <td>0</td>\n",
              "      <td>0</td>\n",
              "      <td>0</td>\n",
              "      <td>1</td>\n",
              "      <td>0</td>\n",
              "      <td>0</td>\n",
              "      <td>0</td>\n",
              "      <td>0</td>\n",
              "      <td>0</td>\n",
              "      <td>0</td>\n",
              "      <td>7</td>\n",
              "      <td>7.0</td>\n",
              "      <td>7.0</td>\n",
              "    </tr>\n",
              "    <tr>\n",
              "      <th>231</th>\n",
              "      <td>6.0</td>\n",
              "      <td>6.0</td>\n",
              "      <td>4.0</td>\n",
              "      <td>0</td>\n",
              "      <td>0</td>\n",
              "      <td>1</td>\n",
              "      <td>0</td>\n",
              "      <td>0</td>\n",
              "      <td>0</td>\n",
              "      <td>0</td>\n",
              "      <td>0</td>\n",
              "      <td>0</td>\n",
              "      <td>0</td>\n",
              "      <td>0</td>\n",
              "      <td>0</td>\n",
              "      <td>0</td>\n",
              "      <td>0</td>\n",
              "      <td>0</td>\n",
              "      <td>0</td>\n",
              "      <td>1</td>\n",
              "      <td>0</td>\n",
              "      <td>0</td>\n",
              "      <td>0</td>\n",
              "      <td>0</td>\n",
              "      <td>0</td>\n",
              "      <td>0</td>\n",
              "      <td>5</td>\n",
              "      <td>5.0</td>\n",
              "      <td>6.0</td>\n",
              "    </tr>\n",
              "    <tr>\n",
              "      <th>447</th>\n",
              "      <td>6.0</td>\n",
              "      <td>6.0</td>\n",
              "      <td>5.0</td>\n",
              "      <td>0</td>\n",
              "      <td>0</td>\n",
              "      <td>0</td>\n",
              "      <td>1</td>\n",
              "      <td>0</td>\n",
              "      <td>0</td>\n",
              "      <td>0</td>\n",
              "      <td>0</td>\n",
              "      <td>0</td>\n",
              "      <td>0</td>\n",
              "      <td>0</td>\n",
              "      <td>0</td>\n",
              "      <td>0</td>\n",
              "      <td>0</td>\n",
              "      <td>0</td>\n",
              "      <td>0</td>\n",
              "      <td>0</td>\n",
              "      <td>0</td>\n",
              "      <td>0</td>\n",
              "      <td>0</td>\n",
              "      <td>0</td>\n",
              "      <td>0</td>\n",
              "      <td>1</td>\n",
              "      <td>5</td>\n",
              "      <td>6.0</td>\n",
              "      <td>5.0</td>\n",
              "    </tr>\n",
              "    <tr>\n",
              "      <th>340</th>\n",
              "      <td>6.0</td>\n",
              "      <td>5.0</td>\n",
              "      <td>4.0</td>\n",
              "      <td>0</td>\n",
              "      <td>0</td>\n",
              "      <td>0</td>\n",
              "      <td>1</td>\n",
              "      <td>0</td>\n",
              "      <td>0</td>\n",
              "      <td>0</td>\n",
              "      <td>0</td>\n",
              "      <td>0</td>\n",
              "      <td>0</td>\n",
              "      <td>0</td>\n",
              "      <td>0</td>\n",
              "      <td>0</td>\n",
              "      <td>0</td>\n",
              "      <td>0</td>\n",
              "      <td>0</td>\n",
              "      <td>0</td>\n",
              "      <td>0</td>\n",
              "      <td>0</td>\n",
              "      <td>0</td>\n",
              "      <td>1</td>\n",
              "      <td>0</td>\n",
              "      <td>0</td>\n",
              "      <td>5</td>\n",
              "      <td>5.0</td>\n",
              "      <td>5.0</td>\n",
              "    </tr>\n",
              "    <tr>\n",
              "      <th>76</th>\n",
              "      <td>7.0</td>\n",
              "      <td>7.0</td>\n",
              "      <td>7.0</td>\n",
              "      <td>0</td>\n",
              "      <td>0</td>\n",
              "      <td>0</td>\n",
              "      <td>1</td>\n",
              "      <td>0</td>\n",
              "      <td>0</td>\n",
              "      <td>0</td>\n",
              "      <td>0</td>\n",
              "      <td>0</td>\n",
              "      <td>0</td>\n",
              "      <td>0</td>\n",
              "      <td>0</td>\n",
              "      <td>0</td>\n",
              "      <td>0</td>\n",
              "      <td>0</td>\n",
              "      <td>0</td>\n",
              "      <td>0</td>\n",
              "      <td>0</td>\n",
              "      <td>0</td>\n",
              "      <td>0</td>\n",
              "      <td>1</td>\n",
              "      <td>0</td>\n",
              "      <td>0</td>\n",
              "      <td>7</td>\n",
              "      <td>7.0</td>\n",
              "      <td>7.0</td>\n",
              "    </tr>\n",
              "  </tbody>\n",
              "</table>\n",
              "</div>"
            ],
            "text/plain": [
              "     Ma ATL  Ma Compl. Of Work  ...  Actual Grade  Predicted Grade\n",
              "668     7.0                7.0  ...           7.0              7.0\n",
              "231     6.0                6.0  ...           5.0              6.0\n",
              "447     6.0                6.0  ...           6.0              5.0\n",
              "340     6.0                5.0  ...           5.0              5.0\n",
              "76      7.0                7.0  ...           7.0              7.0\n",
              "\n",
              "[5 rows x 29 columns]"
            ]
          },
          "metadata": {},
          "execution_count": 48
        }
      ]
    },
    {
      "cell_type": "code",
      "source": [
        "#increase pandas default max_rows so I can view all columns at once\n",
        "\n",
        "X_test[['model prediction','Actual Grade','Predicted Grade']]"
      ],
      "metadata": {
        "id": "zribI3ecpHJa",
        "outputId": "3e132bc5-801f-488b-bd0a-90d2b0228257",
        "colab": {
          "base_uri": "https://localhost:8080/",
          "height": 423
        }
      },
      "execution_count": 49,
      "outputs": [
        {
          "output_type": "execute_result",
          "data": {
            "text/html": [
              "<div>\n",
              "<style scoped>\n",
              "    .dataframe tbody tr th:only-of-type {\n",
              "        vertical-align: middle;\n",
              "    }\n",
              "\n",
              "    .dataframe tbody tr th {\n",
              "        vertical-align: top;\n",
              "    }\n",
              "\n",
              "    .dataframe thead th {\n",
              "        text-align: right;\n",
              "    }\n",
              "</style>\n",
              "<table border=\"1\" class=\"dataframe\">\n",
              "  <thead>\n",
              "    <tr style=\"text-align: right;\">\n",
              "      <th></th>\n",
              "      <th>model prediction</th>\n",
              "      <th>Actual Grade</th>\n",
              "      <th>Predicted Grade</th>\n",
              "    </tr>\n",
              "  </thead>\n",
              "  <tbody>\n",
              "    <tr>\n",
              "      <th>668</th>\n",
              "      <td>7</td>\n",
              "      <td>7.0</td>\n",
              "      <td>7.0</td>\n",
              "    </tr>\n",
              "    <tr>\n",
              "      <th>231</th>\n",
              "      <td>5</td>\n",
              "      <td>5.0</td>\n",
              "      <td>6.0</td>\n",
              "    </tr>\n",
              "    <tr>\n",
              "      <th>447</th>\n",
              "      <td>5</td>\n",
              "      <td>6.0</td>\n",
              "      <td>5.0</td>\n",
              "    </tr>\n",
              "    <tr>\n",
              "      <th>340</th>\n",
              "      <td>5</td>\n",
              "      <td>5.0</td>\n",
              "      <td>5.0</td>\n",
              "    </tr>\n",
              "    <tr>\n",
              "      <th>76</th>\n",
              "      <td>7</td>\n",
              "      <td>7.0</td>\n",
              "      <td>7.0</td>\n",
              "    </tr>\n",
              "    <tr>\n",
              "      <th>...</th>\n",
              "      <td>...</td>\n",
              "      <td>...</td>\n",
              "      <td>...</td>\n",
              "    </tr>\n",
              "    <tr>\n",
              "      <th>325</th>\n",
              "      <td>5</td>\n",
              "      <td>5.0</td>\n",
              "      <td>6.0</td>\n",
              "    </tr>\n",
              "    <tr>\n",
              "      <th>267</th>\n",
              "      <td>5</td>\n",
              "      <td>6.0</td>\n",
              "      <td>6.0</td>\n",
              "    </tr>\n",
              "    <tr>\n",
              "      <th>143</th>\n",
              "      <td>5</td>\n",
              "      <td>3.0</td>\n",
              "      <td>5.0</td>\n",
              "    </tr>\n",
              "    <tr>\n",
              "      <th>286</th>\n",
              "      <td>5</td>\n",
              "      <td>4.0</td>\n",
              "      <td>6.0</td>\n",
              "    </tr>\n",
              "    <tr>\n",
              "      <th>246</th>\n",
              "      <td>5</td>\n",
              "      <td>5.0</td>\n",
              "      <td>4.0</td>\n",
              "    </tr>\n",
              "  </tbody>\n",
              "</table>\n",
              "<p>195 rows × 3 columns</p>\n",
              "</div>"
            ],
            "text/plain": [
              "     model prediction  Actual Grade  Predicted Grade\n",
              "668                 7           7.0              7.0\n",
              "231                 5           5.0              6.0\n",
              "447                 5           6.0              5.0\n",
              "340                 5           5.0              5.0\n",
              "76                  7           7.0              7.0\n",
              "..                ...           ...              ...\n",
              "325                 5           5.0              6.0\n",
              "267                 5           6.0              6.0\n",
              "143                 5           3.0              5.0\n",
              "286                 5           4.0              6.0\n",
              "246                 5           5.0              4.0\n",
              "\n",
              "[195 rows x 3 columns]"
            ]
          },
          "metadata": {},
          "execution_count": 49
        }
      ]
    },
    {
      "cell_type": "code",
      "source": [
        "temp_df1= X_test[['model prediction','Actual Grade','Predicted Grade']].reset_index()"
      ],
      "metadata": {
        "id": "iw7Dso5L__sq"
      },
      "execution_count": 50,
      "outputs": []
    },
    {
      "cell_type": "code",
      "source": [
        "newlist = temp_df1.loc[:,'Actual Grade']  - temp_df1.loc[:,'Predicted Grade']\n",
        "newlist[:10]"
      ],
      "metadata": {
        "colab": {
          "base_uri": "https://localhost:8080/"
        },
        "id": "6zqkt6i9Bire",
        "outputId": "002bc949-4280-4f21-b048-be8ad088b94c"
      },
      "execution_count": 51,
      "outputs": [
        {
          "output_type": "execute_result",
          "data": {
            "text/plain": [
              "0    0.0\n",
              "1   -1.0\n",
              "2    1.0\n",
              "3    0.0\n",
              "4    0.0\n",
              "5    1.0\n",
              "6    0.0\n",
              "7    1.0\n",
              "8   -1.0\n",
              "9    0.0\n",
              "dtype: float64"
            ]
          },
          "metadata": {},
          "execution_count": 51
        }
      ]
    },
    {
      "cell_type": "markdown",
      "source": [
        "This shows that the teacher's predictions will either: remain the same the actual grade, student will either 1 grade above or 1 grade below from their predicted grade. This was also seen in the EDA notebook."
      ],
      "metadata": {
        "id": "YBkvyL7-E7rr"
      }
    },
    {
      "cell_type": "markdown",
      "source": [
        "Let's calculate the RMSE of the predicted grades that was given by teachers from their professional point of view."
      ],
      "metadata": {
        "id": "Ko8pp3PSnt1N"
      }
    },
    {
      "cell_type": "code",
      "source": [
        "from sklearn.metrics import mean_squared_error\n",
        "import math\n",
        "\n",
        "actual = X_test['Actual Grade']\n",
        "predicted = X_test['Predicted Grade']\n",
        "mse = mean_squared_error(actual, predicted)\n",
        "\n",
        "rmse = math.sqrt(mse)\n",
        "\n",
        "print(rmse)"
      ],
      "metadata": {
        "colab": {
          "base_uri": "https://localhost:8080/"
        },
        "id": "4nLI-f-Slzno",
        "outputId": "c805481c-1284-4d23-c5ee-a4778c140fe5"
      },
      "execution_count": 52,
      "outputs": [
        {
          "output_type": "stream",
          "name": "stdout",
          "text": [
            "0.8101914936669333\n"
          ]
        }
      ]
    },
    {
      "cell_type": "markdown",
      "source": [
        "## 3.3 Conclusion\n",
        "\n",
        "From comparisons, \n",
        "\n",
        "Predicted Grade given by teacher, RMSE: 0.81019  \n",
        "LinReg Default, RMSE:\t0.718962\t  \n",
        "Ridge with Hyperparameter Tuning, RMSE:\t0.720323\t\n",
        "Lasso with Hyperparameter Tuning, RMSE:\t0.721469  \n",
        "\n",
        "\n",
        "This showed that the prediction errors given by machine learning model is much lower compared to that by a human. Yes, Machine Learning models can predict the grades of students. Best model is Ridge with hyperparameter tuning.\n",
        "\n",
        "However, we must take into account that the actual grades are very much dependent on student to perform consistently well for their final papers as there is a percentage that will taken into account before IB give back their Actual Grades.\n",
        "\n",
        "\n"
      ],
      "metadata": {
        "id": "UEgIhcDWn1oo"
      }
    }
  ]
}