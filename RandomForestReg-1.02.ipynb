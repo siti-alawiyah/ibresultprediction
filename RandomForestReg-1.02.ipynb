{
  "nbformat": 4,
  "nbformat_minor": 0,
  "metadata": {
    "colab": {
      "name": "Linear Model",
      "provenance": [],
      "collapsed_sections": [],
      "authorship_tag": "ABX9TyNdlyG+Ne5rS6ivIkVds2xG",
      "include_colab_link": true
    },
    "kernelspec": {
      "name": "python3",
      "display_name": "Python 3"
    },
    "language_info": {
      "name": "python"
    }
  },
  "cells": [
    {
      "cell_type": "markdown",
      "metadata": {
        "id": "view-in-github",
        "colab_type": "text"
      },
      "source": [
        "<a href=\"https://colab.research.google.com/github/siti-alawiyah/ibresultprediction/blob/main/RandomForestReg-1.02.ipynb\" target=\"_parent\"><img src=\"https://colab.research.google.com/assets/colab-badge.svg\" alt=\"Open In Colab\"/></a>"
      ]
    },
    {
      "cell_type": "code",
      "metadata": {
        "id": "uN6LipTY2xrC"
      },
      "source": [
        "# imports\n",
        "# ignore future warnings\n",
        "import warnings\n",
        "warnings.simplefilter(action='ignore', category=FutureWarning)\n",
        "\n",
        "# import libraries\n",
        "import pandas as pd\n",
        "import numpy as np\n",
        "import matplotlib.pyplot as plt\n",
        "\n",
        "\n",
        "from sklearn.preprocessing import StandardScaler\n",
        "from sklearn.model_selection import train_test_split, cross_val_score, GridSearchCV\n",
        "from sklearn.metrics import confusion_matrix, plot_confusion_matrix,make_scorer, r2_score, mean_squared_error\n",
        "from sklearn.pipeline import Pipeline\n",
        "from sklearn.ensemble import RandomForestRegressor\n",
        "from sklearn.datasets import make_regression\n",
        "from sklearn import metrics\n",
        "import pickle\n",
        "\n",
        "import statsmodels.api as sm\n",
        "from scipy import stats"
      ],
      "execution_count": 1,
      "outputs": []
    },
    {
      "cell_type": "code",
      "metadata": {
        "id": "ow9AnsRfoMQe"
      },
      "source": [
        "# links to dataset\n",
        "URL1 = \"https://raw.githubusercontent.com/siti-alawiyah/ibresultprediction/main/data/2020IB.csv\"\n",
        "URL2 = \"https://raw.githubusercontent.com/siti-alawiyah/ibresultprediction/main/data/2019IB.csv\"\n",
        "URL3 = \"https://raw.githubusercontent.com/siti-alawiyah/ibresultprediction/main/data/2018IB.csv\"   \n",
        "URL4 = \"https://raw.githubusercontent.com/siti-alawiyah/ibresultprediction/main/data/2017IB.csv\"      "
      ],
      "execution_count": 2,
      "outputs": []
    },
    {
      "cell_type": "code",
      "metadata": {
        "id": "4WcygR0d9QaI"
      },
      "source": [
        "# read the url for the datasets\n",
        "df20 = pd.read_csv(URL1)\n",
        "df19 = pd.read_csv(URL2)\n",
        "df18 = pd.read_csv(URL3)\n",
        "df17 = pd.read_csv(URL4)"
      ],
      "execution_count": 3,
      "outputs": []
    },
    {
      "cell_type": "code",
      "metadata": {
        "id": "Ffrhg1IwoMXh"
      },
      "source": [
        "# getting the columns prior for modelling\n",
        "col_name = [\"Ma Std\",\"Ma Teacher\",\"Ma ATL\",\"Ma Compl. Of Work\",\"Ma Sub Achievement\",\"Predicted Grade\",\"Actual Grade\",\"Scaled Total\"]\n",
        "\n",
        "df20 = df20[col_name]\n",
        "df19 = df19[col_name]\n",
        "df18 = df18[col_name]\n",
        "df17 = df17[col_name]"
      ],
      "execution_count": 4,
      "outputs": []
    },
    {
      "cell_type": "code",
      "metadata": {
        "id": "q-hFcORpoMaP"
      },
      "source": [
        "# combine the dataframes into 1 before modelling\n",
        "frames = [df20,df19,df18,df17]\n",
        "df = pd.concat(frames)"
      ],
      "execution_count": 5,
      "outputs": []
    },
    {
      "cell_type": "code",
      "metadata": {
        "colab": {
          "base_uri": "https://localhost:8080/"
        },
        "id": "hj3w_HjEoMdA",
        "outputId": "d847ceb1-5ed9-4a74-cedb-7b744386e1e1"
      },
      "source": [
        "df.info()"
      ],
      "execution_count": 6,
      "outputs": [
        {
          "output_type": "stream",
          "name": "stdout",
          "text": [
            "<class 'pandas.core.frame.DataFrame'>\n",
            "Int64Index: 681 entries, 0 to 177\n",
            "Data columns (total 8 columns):\n",
            " #   Column              Non-Null Count  Dtype  \n",
            "---  ------              --------------  -----  \n",
            " 0   Ma Std              657 non-null    object \n",
            " 1   Ma Teacher          657 non-null    object \n",
            " 2   Ma ATL              657 non-null    float64\n",
            " 3   Ma Compl. Of Work   654 non-null    float64\n",
            " 4   Ma Sub Achievement  657 non-null    float64\n",
            " 5   Predicted Grade     654 non-null    float64\n",
            " 6   Actual Grade        652 non-null    float64\n",
            " 7   Scaled Total        653 non-null    float64\n",
            "dtypes: float64(6), object(2)\n",
            "memory usage: 47.9+ KB\n"
          ]
        }
      ]
    },
    {
      "cell_type": "code",
      "metadata": {
        "colab": {
          "base_uri": "https://localhost:8080/"
        },
        "id": "5oZJydJUoMfZ",
        "outputId": "0cf6c98c-2a43-45fe-cdc8-ffae7418fa01"
      },
      "source": [
        "df.isnull().sum()"
      ],
      "execution_count": 7,
      "outputs": [
        {
          "output_type": "execute_result",
          "data": {
            "text/plain": [
              "Ma Std                24\n",
              "Ma Teacher            24\n",
              "Ma ATL                24\n",
              "Ma Compl. Of Work     27\n",
              "Ma Sub Achievement    24\n",
              "Predicted Grade       27\n",
              "Actual Grade          29\n",
              "Scaled Total          28\n",
              "dtype: int64"
            ]
          },
          "metadata": {},
          "execution_count": 7
        }
      ]
    },
    {
      "cell_type": "code",
      "metadata": {
        "id": "knZyr35goMh5"
      },
      "source": [
        "#drop rows that have null values\n",
        "df.dropna(axis=0, inplace=True)"
      ],
      "execution_count": 8,
      "outputs": []
    },
    {
      "cell_type": "code",
      "metadata": {
        "colab": {
          "base_uri": "https://localhost:8080/"
        },
        "id": "8XTFg8vzoovA",
        "outputId": "9f074aa5-e424-4b96-c5f3-d582be3d72ad"
      },
      "source": [
        "df.info()"
      ],
      "execution_count": 9,
      "outputs": [
        {
          "output_type": "stream",
          "name": "stdout",
          "text": [
            "<class 'pandas.core.frame.DataFrame'>\n",
            "Int64Index: 650 entries, 0 to 177\n",
            "Data columns (total 8 columns):\n",
            " #   Column              Non-Null Count  Dtype  \n",
            "---  ------              --------------  -----  \n",
            " 0   Ma Std              650 non-null    object \n",
            " 1   Ma Teacher          650 non-null    object \n",
            " 2   Ma ATL              650 non-null    float64\n",
            " 3   Ma Compl. Of Work   650 non-null    float64\n",
            " 4   Ma Sub Achievement  650 non-null    float64\n",
            " 5   Predicted Grade     650 non-null    float64\n",
            " 6   Actual Grade        650 non-null    float64\n",
            " 7   Scaled Total        650 non-null    float64\n",
            "dtypes: float64(6), object(2)\n",
            "memory usage: 45.7+ KB\n"
          ]
        }
      ]
    },
    {
      "cell_type": "code",
      "metadata": {
        "id": "E8fxjbZmoo2F"
      },
      "source": [
        "# dummify Ma Std and Ma Teacher\n",
        "col= ['Ma Std','Ma Teacher']\n",
        "\n",
        "# Creaing dummies \n",
        "df = pd.get_dummies(columns=col, data=df,drop_first=True)"
      ],
      "execution_count": 10,
      "outputs": []
    },
    {
      "cell_type": "code",
      "metadata": {
        "id": "drm9FxtKoo4v"
      },
      "source": [
        "# create train test split \n",
        "X = df.drop(['Predicted Grade','Actual Grade'],axis=1)\n",
        "y = df['Actual Grade']\n",
        "\n",
        "X_train, X_test, y_train, y_test = train_test_split(X, y, test_size=0.30, random_state=42)"
      ],
      "execution_count": 11,
      "outputs": []
    },
    {
      "cell_type": "code",
      "metadata": {
        "id": "baUC8qgyVyEX"
      },
      "source": [
        "pipe  = Pipeline([('rf', RandomForestRegressor(random_state=42))])"
      ],
      "execution_count": 12,
      "outputs": []
    },
    {
      "cell_type": "code",
      "metadata": {
        "id": "ihPQtqQPt9K1"
      },
      "source": [
        "pipe_params = {\n",
        "    'rf__n_jobs': [-1],\n",
        "    'rf__n_estimators': [10,50,100,150,200,250],\n",
        "    'rf__max_depth': [None, 1, 2, 3, 4, 5, 6, 7, 8, 9, 10],\n",
        "    'rf__random_state': [42]\n",
        "    }"
      ],
      "execution_count": 14,
      "outputs": []
    },
    {
      "cell_type": "code",
      "metadata": {
        "id": "FYx7-B7b2swH"
      },
      "source": [
        "scorers = {'RMSE': make_scorer(mean_squared_error), 'R2': make_scorer(r2_score)}"
      ],
      "execution_count": 15,
      "outputs": []
    },
    {
      "cell_type": "code",
      "metadata": {
        "id": "i2MD4cI5wkAH"
      },
      "source": [
        "# instantiate GridSeachCV\n",
        "gs = GridSearchCV(pipe, param_grid = pipe_params, cv = 3, scoring = scorers, n_jobs = -1, refit = 'R2')"
      ],
      "execution_count": 16,
      "outputs": []
    },
    {
      "cell_type": "code",
      "metadata": {
        "id": "eByzwnASwoMX",
        "outputId": "1e669e90-6be2-454e-b423-c8eb9742d72e",
        "colab": {
          "base_uri": "https://localhost:8080/"
        }
      },
      "source": [
        "# fit grid search to training data\n",
        "gs.fit(X_train, y_train)"
      ],
      "execution_count": 17,
      "outputs": [
        {
          "output_type": "execute_result",
          "data": {
            "text/plain": [
              "GridSearchCV(cv=3,\n",
              "             estimator=Pipeline(steps=[('rf',\n",
              "                                        RandomForestRegressor(random_state=42))]),\n",
              "             n_jobs=-1,\n",
              "             param_grid={'rf__max_depth': [None, 1, 2, 3, 4, 5, 6, 7, 8, 9, 10],\n",
              "                         'rf__n_estimators': [10, 50, 100, 150, 200, 250],\n",
              "                         'rf__n_jobs': [-1], 'rf__random_state': [42]},\n",
              "             refit='R2',\n",
              "             scoring={'R2': make_scorer(r2_score),\n",
              "                      'RMSE': make_scorer(mean_squared_error)})"
            ]
          },
          "metadata": {},
          "execution_count": 17
        }
      ]
    },
    {
      "cell_type": "code",
      "metadata": {
        "id": "8OiHyd67wqhH",
        "outputId": "9f0593f8-7298-40a9-f058-e39f706bfd47",
        "colab": {
          "base_uri": "https://localhost:8080/"
        }
      },
      "source": [
        "#print the best score for CV = 3\n",
        "print(gs.best_score_)"
      ],
      "execution_count": 18,
      "outputs": [
        {
          "output_type": "stream",
          "name": "stdout",
          "text": [
            "0.9399201158079015\n"
          ]
        }
      ]
    },
    {
      "cell_type": "code",
      "metadata": {
        "id": "waTFY90mwqnT",
        "outputId": "8b58e5b9-a13b-4aea-ab23-861b3e1730d5",
        "colab": {
          "base_uri": "https://localhost:8080/"
        }
      },
      "source": [
        "#model score on training set\n",
        "gs.score(X_train, y_train)"
      ],
      "execution_count": 19,
      "outputs": [
        {
          "output_type": "execute_result",
          "data": {
            "text/plain": [
              "0.9881054416216698"
            ]
          },
          "metadata": {},
          "execution_count": 19
        }
      ]
    },
    {
      "cell_type": "code",
      "metadata": {
        "id": "ylYZKfSTwqp-",
        "outputId": "07b92d2c-22bd-4c2c-d800-783cfd184f37",
        "colab": {
          "base_uri": "https://localhost:8080/"
        }
      },
      "source": [
        "#score model on test set\n",
        "gs.score(X_test, y_test)"
      ],
      "execution_count": 20,
      "outputs": [
        {
          "output_type": "execute_result",
          "data": {
            "text/plain": [
              "0.9603395819791885"
            ]
          },
          "metadata": {},
          "execution_count": 20
        }
      ]
    },
    {
      "cell_type": "code",
      "metadata": {
        "id": "JKGuH5t4wqsx",
        "outputId": "365629f4-aa1a-4b38-9db8-0670aeee3ee1",
        "colab": {
          "base_uri": "https://localhost:8080/"
        }
      },
      "source": [
        "#get the best params\n",
        "gs.best_params_"
      ],
      "execution_count": 21,
      "outputs": [
        {
          "output_type": "execute_result",
          "data": {
            "text/plain": [
              "{'rf__max_depth': 7,\n",
              " 'rf__n_estimators': 100,\n",
              " 'rf__n_jobs': -1,\n",
              " 'rf__random_state': 42}"
            ]
          },
          "metadata": {},
          "execution_count": 21
        }
      ]
    },
    {
      "cell_type": "code",
      "metadata": {
        "id": "Vqzvx5UPwzZ9"
      },
      "source": [
        "#RandomForest AUC/Accuracy Score\n",
        "rf_r2_train = gs.score(X_train,y_train)\n",
        "rf_r2_test = gs.score(X_test,y_test)\n",
        "rf_rmse_train = mean_squared_error(gs.predict(X_train),y_train)\n",
        "rf_rmse_test = mean_squared_error(gs.predict(X_test),y_test)"
      ],
      "execution_count": 22,
      "outputs": []
    },
    {
      "cell_type": "code",
      "metadata": {
        "id": "ENbpE4Zcwzct",
        "outputId": "bd8f92db-7466-4ac2-f338-5dea7a040a26",
        "colab": {
          "base_uri": "https://localhost:8080/"
        }
      },
      "source": [
        "print(f'RandomForestRegressor R2 train score {rf_r2_train}')\n",
        "print(f'RandomForestRegressor R2 test score {rf_r2_test}')\n",
        "print(f'RandomForestRegressor RMSE train score {rf_rmse_train}')\n",
        "print(f'RandomForestRegressor RMSE test score {rf_rmse_test}')"
      ],
      "execution_count": 24,
      "outputs": [
        {
          "output_type": "stream",
          "name": "stdout",
          "text": [
            "RandomForestRegressor R2 train score 0.9881054416216698\n",
            "RandomForestRegressor R2 test score 0.9603395819791885\n",
            "RandomForestRegressor RMSE train score 0.015880133164691262\n",
            "RandomForestRegressor RMSE test score 0.05189387082728364\n"
          ]
        }
      ]
    },
    {
      "cell_type": "code",
      "metadata": {
        "id": "B_ZHgeYr4mIr"
      },
      "source": [
        ""
      ],
      "execution_count": 23,
      "outputs": []
    }
  ]
}