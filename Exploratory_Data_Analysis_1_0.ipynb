{
  "nbformat": 4,
  "nbformat_minor": 0,
  "metadata": {
    "colab": {
      "name": "Exploratory Data Analysis-1.0.ipynb",
      "provenance": [],
      "collapsed_sections": [],
      "authorship_tag": "ABX9TyP2vPuMWdlWfF/1YcSo9iFd",
      "include_colab_link": true
    },
    "kernelspec": {
      "name": "python3",
      "display_name": "Python 3"
    },
    "language_info": {
      "name": "python"
    }
  },
  "cells": [
    {
      "cell_type": "markdown",
      "metadata": {
        "id": "view-in-github",
        "colab_type": "text"
      },
      "source": [
        "<a href=\"https://colab.research.google.com/github/siti-alawiyah/ibresultprediction/blob/main/Exploratory_Data_Analysis_1_0.ipynb\" target=\"_parent\"><img src=\"https://colab.research.google.com/assets/colab-badge.svg\" alt=\"Open In Colab\"/></a>"
      ]
    },
    {
      "cell_type": "markdown",
      "metadata": {
        "id": "6H-GoYCRXypv"
      },
      "source": [
        "# International Baccalaurate Diploma Program\n",
        "\n",
        "The International Baccalaureate Organization (known as the IB) offers four high-quality\n",
        "and challenging educational programmes for a worldwide community of schools, aiming\n",
        "to create a better, more peaceful world. \n",
        "\n",
        "In the diploma program, students receive grades ranging from 7 to 1, with 7 being highest. Students receive a grade for each DP course attempted.\n",
        "\n",
        "A student’s final diploma result score is made up of the combined scores for each subject. The diploma is awarded to students who gain at least 24 points, subject to certain minimum levels of performance including successful completion of the three essential elements of the DP core. \n",
        "\n",
        "### The Diploma Program core \n",
        "The theory of knowledge (TOK) and extended essay (EE) components are awarded individual grades and, collectively, can contribute up to 3 additional points towards the overall diploma score.\n",
        "\n",
        "Creativity, activity, service (CAS) – the remaining element in the DP core – does not contribute to the points total but authenticated participation is a requirement for the award of the diploma.\n",
        "\n",
        "Higher level and standard level courses\n",
        "The IB awards the same number of points for higher level (HL) and standard level (SL) courses, reflecting the IB’s belief in the importance of achievement across a broad range of academic disciplines.\n",
        "\n",
        "HL and SL courses differ in scope but are assessed against the same grade descriptors, with HL candidates expected to demonstrate the various elements of the grade descriptors across a greater body of knowledge, understanding and skills. \n",
        "\n",
        "The maximum points that can be awarded to an IB Diploma student is the\n",
        "full score of 45 with 42 points generated across the 6 subjects and 3 bonus\n",
        "points derived from Theory of Knowledge and the Extended Essay. To be\n",
        "eligible for the award of the Diploma students must receive at least a D in\n",
        "Theory of Knowledge and the Extended Essay.\n",
        "\n",
        "## Grade Descriptors\n",
        " Grade descriptors consist of characteristics of performance at each grade.\n",
        "The descriptors apply to groups of subjects but substantial similarity exists across sets of group grade\n",
        "descriptors.\n",
        "Senior examiners use these grade descriptors when determining grade boundaries for examination papers\n",
        "and coursework components. For each grade, qualities of a typical performance are given. However, the\n",
        "work of few candidates will be consistently characterised by a single grade descriptor, most work will\n",
        "display some of the characteristics of more than one grade. Senior examiners therefore review the work of\n",
        "many candidates to determine a grade boundary—the lowest mark at which characteristics of a grade are\n",
        "consistently shown in candidate work—allowing for some compensation across the different aspects.\n",
        "The grade descriptors are also intended to help teachers explain the academic requirements of the IB\n",
        "Diploma Programme to students, undertake formative assessment, report progress and predict candidates’\n",
        "grades.\n",
        "\n",
        "#### Grade 7\n",
        "Displays comprehensive subject knowledge and a thorough command of concepts and principles.\n",
        "Selects and applies relevant information, concepts and principles in a wide variety of contexts. Analyses\n",
        "and evaluates quantitative and qualitative data thoroughly. Constructs detailed explanations of complex\n",
        "phenomena and makes appropriate predictions. Evidences great proficiency in solving problems,\n",
        "including those that are challenging or unfamiliar. Communicates logically and concisely using appropriate\n",
        "terminology and conventions. Shows insight or originality.\n",
        "Approaches investigations in an ethical manner, paying full attention to environmental impact and safety\n",
        "where applicable. Investigations demonstrate insight and independence to design and complete innovative\n",
        "practical work with highly competent investigative and analytical techniques, and with innovative and\n",
        "effective conclusions to resolve authentic problems.\n",
        "#### Grade 6\n",
        "Displays very broad subject knowledge and a thorough understanding of concepts and principles. Selects\n",
        "and applies relevant information, concepts and principles in most contexts. Analyses and evaluates\n",
        "quantitative and qualitative data with a high level of competence. Constructs explanations of complex\n",
        "phenomena and makes appropriate predictions. Solves basic or routine problems and evidences\n",
        "competency in solving those that are challenging or unfamiliar. Communicates effectively using appropriate\n",
        "terminology and conventions. Shows occasional insight or originality.\n",
        "Approaches to investigations in an ethical manner, paying significant attention to environmental impact\n",
        "and safety where applicable. Investigations demonstrate some innovative thinking and independence\n",
        "to design and complete practical work with competent investigative and analytical techniques, and with\n",
        "highly competent and reasonable conclusions to resolve authentic problems.\n",
        "#### Grade 5\n",
        "Displays broad subject knowledge and shows sound understanding of most concepts and principles, and\n",
        "applies them in some contexts. Analyses and evaluates quantitative and qualitative data competently.\n",
        "Constructs explanations of simple phenomena. Solves most basic or familiar problems and some new or\n",
        "difficult quantitative and/or qualitative problems. Communicates clearly with little or no irrelevant material.\n",
        "Approaches investigations in an ethical manner, paying attention to environmental impact and safety\n",
        "where applicable. Investigations demonstrate appropriate investigative and analytical techniques with\n",
        "relevant and pertinent conclusions to resolving authentic problems.\n",
        "#### Grade 4\n",
        "Displays reasonable subject knowledge (though possibly with some gaps) and shows adequate\n",
        "understanding of most basic concepts and principles, but with limited ability to apply them. Demonstrates\n",
        "some analysis or evaluation of quantitative or qualitative data. Solves some basic or routine problems but\n",
        "shows limited ability to solve challenging or unfamiliar problems. Communicates adequately, although\n",
        "responses may lack clarity and include some repetitive or irrelevant material.\n",
        "#### Group 4 (sciences) grade descriptors\n",
        "Grade descriptors 13\n",
        "Generally approaches investigations in an ethical manner, with some attention to environmental impact\n",
        "and safety where applicable. Investigations demonstrate an ability to complete fairly routine practical work\n",
        "with some appropriate investigative and analytical techniques, and with some conclusions relevant to the\n",
        "problem under study.\n",
        "#### Grade 3\n",
        "Displays limited subject knowledge and shows a partial understanding of basic concepts and principles,\n",
        "and weak ability to apply them. Shows some ability to manipulate data and solve basic or routine problems.\n",
        "Communicates with a lack of clarity and some repetitive or irrelevant material.\n",
        "Sometimes approaches investigations in an ethical manner, with some attention to environmental impact\n",
        "and safety where applicable. Investigations demonstrate an ability to complete a basic investigation with\n",
        "simple analytical techniques, and with some partial conclusions of some relevance to study.\n",
        "#### Grade 2\n",
        "Displays little subject knowledge and shows weak understanding of basic concepts and principles, and\n",
        "little evidence of application. Exhibits minimal ability to manipulate data and little or no ability to solve\n",
        "problems. Offers responses which are often incomplete or irrelevant.\n",
        "Occasionally approaches investigations in an ethical manner, but shows very limited awareness of\n",
        "environmental impact and safety. Investigations demonstrate an ability to undertake basic investigative\n",
        "work requiring considerable guidance and instruction, and attempts at conclusions that are largely\n",
        "incorrect/irrelevant.\n",
        "#### Grade 1\n",
        "Fragmentary subject knowledge and shows very little understanding of any concepts or principles. Rarely\n",
        "demonstrates personal skills, perseverance or responsibility in investigative activities.\n",
        "Rarely approaches investigations in an ethical manner, or shows an awareness of environmental impact\n",
        "and safety. Investigations demonstrate an ability to undertake very basic practical work with complete\n",
        "dependence on supervised instruction, with attempts at conclusions are either absent or completely incorrect/irrelevant.\n",
        "\n",
        "### Predicted Grades\n",
        "Teachers will be asked for predicted grades for each subject, to support Higher Education\n",
        "applications and to send to the IB just before students sit final exams. Predicted grades are the\n",
        "professional judgement of the teacher, at that moment in time, of how the student will perform in the\n",
        "final formal assessment. While they are informed by achievement grades in reports and by trial exam\n",
        "grades, they may or may not be the same as achievement grades in reports or trial exam grades.\n",
        "Predicted grades are not formally reported to parents, although they will be shared verbally with\n",
        "students as appropriate. The integrity of the process requires that students and parents are not\n",
        "allowed to influence teachers to give higher predicted grades.\n",
        "### Report Card Grades and final IB Grades\n",
        "Report card grades sometimes involve the marking of assessment pieces that will later be externally\n",
        "marked or moderated by the IB. Teachers use their best judgement in order to give feedback to\n",
        "students. It is possible, however, that grades awarded by teachers for school reports may be different\n",
        "to final IB grades."
      ]
    },
    {
      "cell_type": "markdown",
      "metadata": {
        "id": "MWLva0YNXa0E"
      },
      "source": [
        "# Problem Statement\n",
        "\n",
        "In this project, as part of research team, I have been tasked to see "
      ]
    },
    {
      "cell_type": "code",
      "metadata": {
        "id": "eZxE4a-alJ1z"
      },
      "source": [
        "# Imports:\n",
        "import numpy as np\n",
        "import pandas as pd\n",
        "import matplotlib.pyplot as plt\n",
        "import seaborn as sns"
      ],
      "execution_count": 1,
      "outputs": []
    },
    {
      "cell_type": "code",
      "metadata": {
        "id": "OgTc15b25jI_"
      },
      "source": [
        "# links to dataset\n",
        "URL1 = \"https://raw.githubusercontent.com/siti-alawiyah/ibresultprediction/main/data/2020IB.csv\"\n",
        "URL2 = \"https://raw.githubusercontent.com/siti-alawiyah/ibresultprediction/main/data/2019IB.csv\"\n",
        "URL3 = \"https://raw.githubusercontent.com/siti-alawiyah/ibresultprediction/main/data/2018IB.csv\"   \n",
        "URL4 = \"https://raw.githubusercontent.com/siti-alawiyah/ibresultprediction/main/data/2017IB.csv\""
      ],
      "execution_count": 2,
      "outputs": []
    },
    {
      "cell_type": "code",
      "metadata": {
        "id": "sKF_7Hdl5tBh"
      },
      "source": [
        "# read the url for the datasets\n",
        "df20 = pd.read_csv(URL1)\n",
        "df19 = pd.read_csv(URL2)\n",
        "df18 = pd.read_csv(URL3)\n",
        "df17 = pd.read_csv(URL4)"
      ],
      "execution_count": 3,
      "outputs": []
    },
    {
      "cell_type": "code",
      "metadata": {
        "colab": {
          "base_uri": "https://localhost:8080/"
        },
        "id": "sbeJSWS1WdwP",
        "outputId": "65463cba-9017-4dff-8a8d-5bf4bf967fdb"
      },
      "source": [
        "print('Results for 2020 is')\n",
        "print(df20.head())\n",
        "\n",
        "print('Results for 2019 is')\n",
        "print(df19.head())\n",
        "\n",
        "print('Results for 2018 is')\n",
        "print(df18.head())\n",
        "\n",
        "print('Results for 2017 is')\n",
        "print(df17.head())"
      ],
      "execution_count": 4,
      "outputs": [
        {
          "output_type": "stream",
          "name": "stdout",
          "text": [
            "Results for 2020 is\n",
            "      StudentID    Year Bi Std  ... Var ATL  Var Compl. Of Work  Var Sub Achievement\n",
            "0  1.154047e+11  2020.0     HL  ...     NaN                 NaN                  NaN\n",
            "1  9.544171e+10  2020.0    NaN  ...     NaN                 NaN                  NaN\n",
            "2  1.146246e+11  2020.0    NaN  ...     NaN                 NaN                  NaN\n",
            "3  1.616421e+11  2020.0    NaN  ...     NaN                 NaN                  NaN\n",
            "4  1.416537e+11  2020.0    NaN  ...     NaN                 NaN                  NaN\n",
            "\n",
            "[5 rows x 140 columns]\n",
            "Results for 2019 is\n",
            "      StudentID  Year Bi Std  ... Var ATL  Var Compl. Of Work  Var Sub Achievement\n",
            "0  1.102090e+11  2019    NaN  ...     7.0                 6.0                  5.0\n",
            "1  1.520590e+11  2019    NaN  ...     NaN                 NaN                  NaN\n",
            "2  1.207190e+11  2019    NaN  ...     NaN                 NaN                  NaN\n",
            "3  1.621110e+11  2019     HL  ...     NaN                 NaN                  NaN\n",
            "4  1.137040e+11  2019     HL  ...     NaN                 NaN                  NaN\n",
            "\n",
            "[5 rows x 140 columns]\n",
            "Results for 2018 is\n",
            "      StudentID  Year Bi Std  ... Var ATL  Var Compl. Of Work  Var Sub Achievement\n",
            "0  1.340000e+11  2018     HL  ...     NaN                 NaN                  NaN\n",
            "1  1.050000e+11  2018    NaN  ...     NaN                 NaN                  NaN\n",
            "2  1.420000e+11  2018     HL  ...     NaN                 NaN                  NaN\n",
            "3  1.060000e+11  2018    NaN  ...     NaN                 NaN                  NaN\n",
            "4  9.355933e+10  2018    NaN  ...     NaN                 NaN                  NaN\n",
            "\n",
            "[5 rows x 140 columns]\n",
            "Results for 2017 is\n",
            "      StudentID  Year Bi Std  ... Var ATL Var Compl. Of Work Var Sub Achievement\n",
            "0  1.550000e+11  2017     HL  ...     NaN                NaN                 NaN\n",
            "1  1.410000e+11  2017     HL  ...     NaN                NaN                 NaN\n",
            "2  9.310171e+10  2017     HL  ...     NaN                NaN                 NaN\n",
            "3  1.430000e+11  2017    NaN  ...     NaN                NaN                 NaN\n",
            "4  1.010000e+11  2017     HL  ...     NaN                NaN                 NaN\n",
            "\n",
            "[5 rows x 140 columns]\n"
          ]
        }
      ]
    },
    {
      "cell_type": "markdown",
      "metadata": {
        "id": "rwWw_Oo5XEpc"
      },
      "source": [
        "# 2017 Data Cleaning"
      ]
    },
    {
      "cell_type": "code",
      "metadata": {
        "colab": {
          "base_uri": "https://localhost:8080/"
        },
        "id": "Zq-DKX-mW99_",
        "outputId": "ec03808f-a9bf-472e-da32-ad3b955caadb"
      },
      "source": [
        "df17.info()"
      ],
      "execution_count": 6,
      "outputs": [
        {
          "output_type": "stream",
          "name": "stdout",
          "text": [
            "<class 'pandas.core.frame.DataFrame'>\n",
            "RangeIndex: 178 entries, 0 to 177\n",
            "Columns: 140 entries, StudentID to Var Sub Achievement\n",
            "dtypes: float64(73), int64(1), object(66)\n",
            "memory usage: 194.8+ KB\n"
          ]
        }
      ]
    },
    {
      "cell_type": "code",
      "metadata": {
        "colab": {
          "base_uri": "https://localhost:8080/"
        },
        "id": "Tkm3YRGrXNXI",
        "outputId": "60f5a5de-8134-41b3-9822-6e7147e6afab"
      },
      "source": [
        "df17.isnull().sum()"
      ],
      "execution_count": 7,
      "outputs": [
        {
          "output_type": "execute_result",
          "data": {
            "text/plain": [
              "StudentID                0\n",
              "Year                     0\n",
              "Bi Std                 105\n",
              "Bi Teacher             105\n",
              "Bi ATL                 105\n",
              "                      ... \n",
              "Var Std                168\n",
              "Var Teacher            168\n",
              "Var ATL                168\n",
              "Var Compl. Of Work     168\n",
              "Var Sub Achievement    168\n",
              "Length: 140, dtype: int64"
            ]
          },
          "metadata": {},
          "execution_count": 7
        }
      ]
    },
    {
      "cell_type": "code",
      "metadata": {
        "id": "SQNcSj6WXXTx"
      },
      "source": [
        ""
      ],
      "execution_count": null,
      "outputs": []
    }
  ]
}